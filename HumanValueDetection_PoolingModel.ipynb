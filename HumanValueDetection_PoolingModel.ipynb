{
  "cells": [
    {
      "cell_type": "markdown",
      "metadata": {
        "id": "Tptc0h0vElo5"
      },
      "source": [
        "<center>\n",
        "    <h1>Human Value Detection - Pooling Model</h1>\n",
        "    <h2>Bonini Roberto, Maidana Facundo Nicolas</h2>\n",
        "    <h3>roberto.bonini@studio.unibo.it, facundo.maidana@studio.unibo.it</h3>\n",
        "</center>"
      ]
    },
    {
      "cell_type": "markdown",
      "metadata": {
        "id": "6c7eiIWbwbxi"
      },
      "source": [
        "## Requirements"
      ]
    },
    {
      "cell_type": "code",
      "execution_count": 1,
      "metadata": {
        "colab": {
          "base_uri": "https://localhost:8080/"
        },
        "id": "Rz_sBULCmI5B",
        "outputId": "0dba5f0e-9235-4a9d-85ce-56cea027ec7d"
      },
      "outputs": [
        {
          "output_type": "stream",
          "name": "stdout",
          "text": [
            "Sat Apr  8 08:52:30 2023       \n",
            "+-----------------------------------------------------------------------------+\n",
            "| NVIDIA-SMI 525.85.12    Driver Version: 525.85.12    CUDA Version: 12.0     |\n",
            "|-------------------------------+----------------------+----------------------+\n",
            "| GPU  Name        Persistence-M| Bus-Id        Disp.A | Volatile Uncorr. ECC |\n",
            "| Fan  Temp  Perf  Pwr:Usage/Cap|         Memory-Usage | GPU-Util  Compute M. |\n",
            "|                               |                      |               MIG M. |\n",
            "|===============================+======================+======================|\n",
            "|   0  Tesla T4            Off  | 00000000:00:04.0 Off |                    0 |\n",
            "| N/A   65C    P0    29W /  70W |   4205MiB / 15360MiB |      0%      Default |\n",
            "|                               |                      |                  N/A |\n",
            "+-------------------------------+----------------------+----------------------+\n",
            "                                                                               \n",
            "+-----------------------------------------------------------------------------+\n",
            "| Processes:                                                                  |\n",
            "|  GPU   GI   CI        PID   Type   Process name                  GPU Memory |\n",
            "|        ID   ID                                                   Usage      |\n",
            "|=============================================================================|\n",
            "+-----------------------------------------------------------------------------+\n"
          ]
        }
      ],
      "source": [
        "!nvidia-smi"
      ]
    },
    {
      "cell_type": "code",
      "source": [
        "!pip install wandb -qU"
      ],
      "metadata": {
        "id": "jWNoJl9w1seK"
      },
      "execution_count": 2,
      "outputs": []
    },
    {
      "cell_type": "code",
      "execution_count": 3,
      "metadata": {
        "id": "YpmWmENz9B7E"
      },
      "outputs": [],
      "source": [
        "!pip install --quiet wandb transformers pytorch-lightning sentencepiece sacremoses \"ray[tune]\" pytorch-lightning-bolts optuna "
      ]
    },
    {
      "cell_type": "code",
      "execution_count": 4,
      "metadata": {
        "id": "OQemq_JYohlu"
      },
      "outputs": [],
      "source": [
        "# Settings for autoreloading\n",
        "\n",
        "%load_ext autoreload\n",
        "%autoreload 2"
      ]
    },
    {
      "cell_type": "code",
      "execution_count": 5,
      "metadata": {
        "id": "UWU1XGxxnZZo",
        "colab": {
          "base_uri": "https://localhost:8080/"
        },
        "outputId": "69ca5acd-d505-4da5-ed98-9ad2bd4ae598"
      },
      "outputs": [
        {
          "output_type": "stream",
          "name": "stdout",
          "text": [
            "/content\n",
            "Cloning into 'human-value-detection'...\n",
            "remote: Enumerating objects: 727, done.\u001b[K\n",
            "remote: Counting objects: 100% (65/65), done.\u001b[K\n",
            "remote: Compressing objects: 100% (43/43), done.\u001b[K\n",
            "remote: Total 727 (delta 39), reused 46 (delta 22), pack-reused 662\u001b[K\n",
            "Receiving objects: 100% (727/727), 578.40 KiB | 17.53 MiB/s, done.\n",
            "Resolving deltas: 100% (438/438), done.\n",
            "/content/human-value-detection\n"
          ]
        }
      ],
      "source": [
        "%cd /content\n",
        "!rm -r human-value-detection\n",
        "!git clone  https://github.com/maidacundo/human-value-detection.git\n",
        "%cd human-value-detection"
      ]
    },
    {
      "cell_type": "markdown",
      "metadata": {
        "id": "irVWvIHzPP6Q"
      },
      "source": [
        "### Imports"
      ]
    },
    {
      "cell_type": "code",
      "execution_count": 6,
      "metadata": {
        "id": "d3cA_adLmXyn",
        "colab": {
          "base_uri": "https://localhost:8080/"
        },
        "outputId": "3416a0c0-3615-49ea-ce31-f224c98162ac"
      },
      "outputs": [
        {
          "output_type": "stream",
          "name": "stdout",
          "text": [
            "Drive already mounted at /content/drive; to attempt to forcibly remount, call drive.mount(\"/content/drive\", force_remount=True).\n"
          ]
        }
      ],
      "source": [
        "from google.colab import drive\n",
        "drive.mount('/content/drive')\n",
        "import sys\n",
        "sys.path.append('/content/human-value-detection')"
      ]
    },
    {
      "cell_type": "code",
      "execution_count": 7,
      "metadata": {
        "id": "IYmpTqd3rppq"
      },
      "outputs": [],
      "source": [
        "import torch\n",
        "import pandas as pd\n",
        "import numpy as np\n",
        "import matplotlib.pyplot as plt\n",
        "import transformers\n",
        "from sklearn.model_selection import train_test_split\n",
        "\n",
        "import pytorch_lightning as pl\n",
        "\n",
        "from torchmetrics import Accuracy\n",
        "\n",
        "from utils import seed\n",
        "from utils.data import get_processed_df, perform_data_augmentation, HumanValuesDataset, HumanValuesDataModule\n",
        "from plotting import data_analysis\n",
        "from models.baseline import TransformerClassifier\n",
        "from models.pooling_model import TransformerClassifierPooling\n",
        "from utils.hyperparameters_tuning import HyperparameterTuner\n",
        "\n",
        "from utils.thresholding import ThresholdModel, SurrogateHeaviside, train_thresholding_model, get_f1_optimized_thresholding, print_classification_report_thresholding\n",
        "\n",
        "from sklearn.metrics import classification_report, multilabel_confusion_matrix\n",
        "\n",
        "from IPython.core.display import clear_output\n",
        "\n",
        "from pytorch_lightning.callbacks import ModelCheckpoint, EarlyStopping, LearningRateMonitor\n",
        "\n",
        "from torch.utils.data import DataLoader\n",
        "from torch import utils\n",
        "\n",
        "from transformers import MarianMTModel, AutoTokenizer\n",
        "from pytorch_lightning.loggers import WandbLogger\n",
        "\n",
        "from functools import partial\n",
        "\n",
        "import wandb"
      ]
    },
    {
      "cell_type": "code",
      "execution_count": 8,
      "metadata": {
        "id": "rwFes29N3sEi",
        "colab": {
          "base_uri": "https://localhost:8080/"
        },
        "outputId": "60fbfda5-8441-4487-95de-551a117efe0f"
      },
      "outputs": [
        {
          "output_type": "stream",
          "name": "stderr",
          "text": [
            "INFO:lightning_fabric.utilities.seed:Global seed set to 42\n"
          ]
        }
      ],
      "source": [
        "RANDOM_STATE = 42\n",
        "seed.fix_random(RANDOM_STATE)"
      ]
    },
    {
      "cell_type": "code",
      "execution_count": 9,
      "metadata": {
        "id": "ks4P49CmraXv",
        "colab": {
          "base_uri": "https://localhost:8080/"
        },
        "outputId": "624d1987-c061-430f-afc9-0e81d6c82a5e"
      },
      "outputs": [
        {
          "output_type": "stream",
          "name": "stdout",
          "text": [
            "Running on GPU\n"
          ]
        }
      ],
      "source": [
        "device = \"cpu\"\n",
        "if torch.cuda.is_available:\n",
        "  print('Running on GPU')\n",
        "  device = torch.device(\"cuda:0\")  \n",
        "else:\n",
        "  print('Running on CPU, please set GPU.')"
      ]
    },
    {
      "cell_type": "markdown",
      "metadata": {
        "id": "LvixN0X5nT8Y"
      },
      "source": [
        "## Data"
      ]
    },
    {
      "cell_type": "code",
      "execution_count": 10,
      "metadata": {
        "id": "4qovkU8enX1X"
      },
      "outputs": [],
      "source": [
        "DATA_ROOT_FOLDER = 'data'\n",
        "\n",
        "arguments_train = pd.read_csv(f'{DATA_ROOT_FOLDER}/arguments-training.tsv', delimiter='\\t')\n",
        "labels_train = pd.read_csv(f'{DATA_ROOT_FOLDER}/labels-training.tsv', delimiter='\\t')\n",
        "\n",
        "arguments_val = pd.read_csv(f'{DATA_ROOT_FOLDER}/arguments-validation.tsv', delimiter='\\t')\n",
        "labels_val = pd.read_csv(f'{DATA_ROOT_FOLDER}/labels-validation.tsv', delimiter='\\t')\n",
        "\n",
        "arguments_test = pd.read_csv(f'{DATA_ROOT_FOLDER}/arguments-test.tsv', delimiter='\\t')"
      ]
    },
    {
      "cell_type": "code",
      "execution_count": 11,
      "metadata": {
        "id": "UeK6l8cCu_96"
      },
      "outputs": [],
      "source": [
        "df_train_original = arguments_train.merge(labels_train)\n",
        "df_test_original = arguments_val.merge(labels_val)"
      ]
    },
    {
      "cell_type": "code",
      "source": [
        "labels_columns = labels_train.drop('Argument ID', axis=1).columns"
      ],
      "metadata": {
        "id": "H4qSoqaQGJPM"
      },
      "execution_count": 12,
      "outputs": []
    },
    {
      "cell_type": "markdown",
      "metadata": {
        "id": "jCn-EYJmDQBg"
      },
      "source": [
        "### Data Augmentation\n",
        "\n"
      ]
    },
    {
      "cell_type": "code",
      "execution_count": 13,
      "metadata": {
        "id": "CQQ74uy9JYZq"
      },
      "outputs": [],
      "source": [
        "low_support_columns = []\n",
        "total_count = labels_train[labels_columns].sum()\n",
        "for i, count in enumerate(total_count):\n",
        "    if count<=800:\n",
        "        low_support_columns.append(total_count.index[i])\n",
        "\n",
        "high_support_columns = []\n",
        "total_count = labels_train[labels_columns].sum()\n",
        "for i, count in enumerate(total_count):\n",
        "    if count>800:\n",
        "        high_support_columns.append(total_count.index[i])"
      ]
    },
    {
      "cell_type": "code",
      "execution_count": 14,
      "metadata": {
        "id": "7ruZ_Pw-MTTr",
        "colab": {
          "base_uri": "https://localhost:8080/"
        },
        "outputId": "82c6c46d-6c99-4f95-e278-92b60fbc68df"
      },
      "outputs": [
        {
          "output_type": "execute_result",
          "data": {
            "text/plain": [
              "(1602, 24)"
            ]
          },
          "metadata": {},
          "execution_count": 14
        }
      ],
      "source": [
        "df_train_aumentation = df_train_original.loc[\n",
        "    (df_train_original[low_support_columns] == 1).any(axis=1)\n",
        "    & (df_train_original[high_support_columns].sum(axis=1) <= 2)\n",
        "    ]\n",
        "df_train_aumentation.shape"
      ]
    },
    {
      "cell_type": "markdown",
      "metadata": {
        "id": "sY8weoj48Zjx"
      },
      "source": [
        "#### MarianMTModel"
      ]
    },
    {
      "cell_type": "code",
      "execution_count": 15,
      "metadata": {
        "id": "Gr0gh7Z58mWa",
        "colab": {
          "base_uri": "https://localhost:8080/"
        },
        "outputId": "045762cd-db09-4321-ac5f-995beaad56ba"
      },
      "outputs": [
        {
          "output_type": "stream",
          "name": "stderr",
          "text": [
            "<ipython-input-15-1b84e473567c>:28: FutureWarning: The frame.append method is deprecated and will be removed from pandas in a future version. Use pandas.concat instead.\n",
            "  df_train_augmented = df_train_original.append(df_train_aumentation_augmented, ignore_index=True)\n"
          ]
        }
      ],
      "source": [
        "run_data_augmentation = True #@param {type:\"boolean\"}\n",
        "\n",
        "if run_data_augmentation:\n",
        "    # Get the name of the first model\n",
        "    first_model_name = 'Helsinki-NLP/opus-mt-en-fr'\n",
        "    # Get the name of the second model\n",
        "    second_model_name = 'Helsinki-NLP/opus-mt-fr-en'\n",
        "\n",
        "    # Get the tokenizer\n",
        "    first_model_tkn = AutoTokenizer.from_pretrained(first_model_name)\n",
        "    # Get the tokenizer\n",
        "    second_model_tkn = AutoTokenizer.from_pretrained(second_model_name)\n",
        "\n",
        "    # Load the pretrained model based on the name\n",
        "    first_model = MarianMTModel.from_pretrained(first_model_name)\n",
        "    # Load the pretrained model based on the name\n",
        "    second_model = MarianMTModel.from_pretrained(second_model_name)\n",
        "    clear_output()\n",
        "\n",
        "    df_train_aumentation = perform_data_augmentation(df_train_aumentation, first_model, second_model, first_model_tkn, second_model_tkn, batch_size=64, columns=['Premise', 'Conclusion'], device=device)\n",
        "    clear_output()\n",
        "    torch.cuda.empty_cache()\n",
        "\n",
        "    df_train_aumentation_original = df_train_aumentation[[*['Argument ID', 'Conclusion', 'Stance', 'Premise'], *labels_columns]]\n",
        "    df_train_aumentation_augmented = df_train_aumentation[[*['Argument ID', 'Conclusion BT', 'Stance', 'Premise BT'], *labels_columns]]\n",
        "    df_train_aumentation_augmented.columns = [*['Argument ID', 'Conclusion', 'Stance', 'Premise'], *labels_columns]\n",
        "\n",
        "    df_train_augmented = df_train_original.append(df_train_aumentation_augmented, ignore_index=True)\n",
        "\n",
        "    og = df_train_original[labels_columns].sum()\n",
        "    aug = df_train_augmented[labels_columns].sum()\n",
        "\n",
        "    conc_sums = pd.concat([og, aug], axis=1)\n",
        "    conc_sums.columns = ['original', 'augmented']\n",
        "    conc_sums['percetage augmentation'] = (conc_sums['augmented'] / conc_sums['original']) - 1\n",
        " "
      ]
    },
    {
      "cell_type": "code",
      "source": [
        "df_train_aumentation_augmented.to_csv('augmented.csv')"
      ],
      "metadata": {
        "id": "SoexXlv7VB4O"
      },
      "execution_count": 16,
      "outputs": []
    },
    {
      "cell_type": "code",
      "source": [
        "conc_sums"
      ],
      "metadata": {
        "id": "lm_yz0nLLm0U",
        "colab": {
          "base_uri": "https://localhost:8080/",
          "height": 0
        },
        "outputId": "ed58a6e0-5f90-43db-ff76-badd205af3f6"
      },
      "execution_count": 17,
      "outputs": [
        {
          "output_type": "execute_result",
          "data": {
            "text/plain": [
              "                            original  augmented  percetage augmentation\n",
              "Self-direction: thought          988       1169                0.183198\n",
              "Self-direction: action          1395       1712                0.227240\n",
              "Stimulation                      247        361                0.461538\n",
              "Hedonism                         172        270                0.569767\n",
              "Achievement                     1512       1791                0.184524\n",
              "Power: dominance                 610        877                0.437705\n",
              "Power: resources                 625        949                0.518400\n",
              "Face                             382        560                0.465969\n",
              "Security: personal              2000       2389                0.194500\n",
              "Security: societal              1728       1974                0.142361\n",
              "Tradition                        568        896                0.577465\n",
              "Conformity: rules               1177       1374                0.167375\n",
              "Conformity: interpersonal        207        313                0.512077\n",
              "Humility                         395        632                0.600000\n",
              "Benevolence: caring             1332       1498                0.124625\n",
              "Benevolence: dependability       806        917                0.137717\n",
              "Universalism: concern           2081       2418                0.161941\n",
              "Universalism: nature             427        755                0.768150\n",
              "Universalism: tolerance          664        940                0.415663\n",
              "Universalism: objectivity       1054       1196                0.134725"
            ],
            "text/html": [
              "\n",
              "  <div id=\"df-bdc99ef2-8758-4ee2-83ec-7c278ec54302\">\n",
              "    <div class=\"colab-df-container\">\n",
              "      <div>\n",
              "<style scoped>\n",
              "    .dataframe tbody tr th:only-of-type {\n",
              "        vertical-align: middle;\n",
              "    }\n",
              "\n",
              "    .dataframe tbody tr th {\n",
              "        vertical-align: top;\n",
              "    }\n",
              "\n",
              "    .dataframe thead th {\n",
              "        text-align: right;\n",
              "    }\n",
              "</style>\n",
              "<table border=\"1\" class=\"dataframe\">\n",
              "  <thead>\n",
              "    <tr style=\"text-align: right;\">\n",
              "      <th></th>\n",
              "      <th>original</th>\n",
              "      <th>augmented</th>\n",
              "      <th>percetage augmentation</th>\n",
              "    </tr>\n",
              "  </thead>\n",
              "  <tbody>\n",
              "    <tr>\n",
              "      <th>Self-direction: thought</th>\n",
              "      <td>988</td>\n",
              "      <td>1169</td>\n",
              "      <td>0.183198</td>\n",
              "    </tr>\n",
              "    <tr>\n",
              "      <th>Self-direction: action</th>\n",
              "      <td>1395</td>\n",
              "      <td>1712</td>\n",
              "      <td>0.227240</td>\n",
              "    </tr>\n",
              "    <tr>\n",
              "      <th>Stimulation</th>\n",
              "      <td>247</td>\n",
              "      <td>361</td>\n",
              "      <td>0.461538</td>\n",
              "    </tr>\n",
              "    <tr>\n",
              "      <th>Hedonism</th>\n",
              "      <td>172</td>\n",
              "      <td>270</td>\n",
              "      <td>0.569767</td>\n",
              "    </tr>\n",
              "    <tr>\n",
              "      <th>Achievement</th>\n",
              "      <td>1512</td>\n",
              "      <td>1791</td>\n",
              "      <td>0.184524</td>\n",
              "    </tr>\n",
              "    <tr>\n",
              "      <th>Power: dominance</th>\n",
              "      <td>610</td>\n",
              "      <td>877</td>\n",
              "      <td>0.437705</td>\n",
              "    </tr>\n",
              "    <tr>\n",
              "      <th>Power: resources</th>\n",
              "      <td>625</td>\n",
              "      <td>949</td>\n",
              "      <td>0.518400</td>\n",
              "    </tr>\n",
              "    <tr>\n",
              "      <th>Face</th>\n",
              "      <td>382</td>\n",
              "      <td>560</td>\n",
              "      <td>0.465969</td>\n",
              "    </tr>\n",
              "    <tr>\n",
              "      <th>Security: personal</th>\n",
              "      <td>2000</td>\n",
              "      <td>2389</td>\n",
              "      <td>0.194500</td>\n",
              "    </tr>\n",
              "    <tr>\n",
              "      <th>Security: societal</th>\n",
              "      <td>1728</td>\n",
              "      <td>1974</td>\n",
              "      <td>0.142361</td>\n",
              "    </tr>\n",
              "    <tr>\n",
              "      <th>Tradition</th>\n",
              "      <td>568</td>\n",
              "      <td>896</td>\n",
              "      <td>0.577465</td>\n",
              "    </tr>\n",
              "    <tr>\n",
              "      <th>Conformity: rules</th>\n",
              "      <td>1177</td>\n",
              "      <td>1374</td>\n",
              "      <td>0.167375</td>\n",
              "    </tr>\n",
              "    <tr>\n",
              "      <th>Conformity: interpersonal</th>\n",
              "      <td>207</td>\n",
              "      <td>313</td>\n",
              "      <td>0.512077</td>\n",
              "    </tr>\n",
              "    <tr>\n",
              "      <th>Humility</th>\n",
              "      <td>395</td>\n",
              "      <td>632</td>\n",
              "      <td>0.600000</td>\n",
              "    </tr>\n",
              "    <tr>\n",
              "      <th>Benevolence: caring</th>\n",
              "      <td>1332</td>\n",
              "      <td>1498</td>\n",
              "      <td>0.124625</td>\n",
              "    </tr>\n",
              "    <tr>\n",
              "      <th>Benevolence: dependability</th>\n",
              "      <td>806</td>\n",
              "      <td>917</td>\n",
              "      <td>0.137717</td>\n",
              "    </tr>\n",
              "    <tr>\n",
              "      <th>Universalism: concern</th>\n",
              "      <td>2081</td>\n",
              "      <td>2418</td>\n",
              "      <td>0.161941</td>\n",
              "    </tr>\n",
              "    <tr>\n",
              "      <th>Universalism: nature</th>\n",
              "      <td>427</td>\n",
              "      <td>755</td>\n",
              "      <td>0.768150</td>\n",
              "    </tr>\n",
              "    <tr>\n",
              "      <th>Universalism: tolerance</th>\n",
              "      <td>664</td>\n",
              "      <td>940</td>\n",
              "      <td>0.415663</td>\n",
              "    </tr>\n",
              "    <tr>\n",
              "      <th>Universalism: objectivity</th>\n",
              "      <td>1054</td>\n",
              "      <td>1196</td>\n",
              "      <td>0.134725</td>\n",
              "    </tr>\n",
              "  </tbody>\n",
              "</table>\n",
              "</div>\n",
              "      <button class=\"colab-df-convert\" onclick=\"convertToInteractive('df-bdc99ef2-8758-4ee2-83ec-7c278ec54302')\"\n",
              "              title=\"Convert this dataframe to an interactive table.\"\n",
              "              style=\"display:none;\">\n",
              "        \n",
              "  <svg xmlns=\"http://www.w3.org/2000/svg\" height=\"24px\"viewBox=\"0 0 24 24\"\n",
              "       width=\"24px\">\n",
              "    <path d=\"M0 0h24v24H0V0z\" fill=\"none\"/>\n",
              "    <path d=\"M18.56 5.44l.94 2.06.94-2.06 2.06-.94-2.06-.94-.94-2.06-.94 2.06-2.06.94zm-11 1L8.5 8.5l.94-2.06 2.06-.94-2.06-.94L8.5 2.5l-.94 2.06-2.06.94zm10 10l.94 2.06.94-2.06 2.06-.94-2.06-.94-.94-2.06-.94 2.06-2.06.94z\"/><path d=\"M17.41 7.96l-1.37-1.37c-.4-.4-.92-.59-1.43-.59-.52 0-1.04.2-1.43.59L10.3 9.45l-7.72 7.72c-.78.78-.78 2.05 0 2.83L4 21.41c.39.39.9.59 1.41.59.51 0 1.02-.2 1.41-.59l7.78-7.78 2.81-2.81c.8-.78.8-2.07 0-2.86zM5.41 20L4 18.59l7.72-7.72 1.47 1.35L5.41 20z\"/>\n",
              "  </svg>\n",
              "      </button>\n",
              "      \n",
              "  <style>\n",
              "    .colab-df-container {\n",
              "      display:flex;\n",
              "      flex-wrap:wrap;\n",
              "      gap: 12px;\n",
              "    }\n",
              "\n",
              "    .colab-df-convert {\n",
              "      background-color: #E8F0FE;\n",
              "      border: none;\n",
              "      border-radius: 50%;\n",
              "      cursor: pointer;\n",
              "      display: none;\n",
              "      fill: #1967D2;\n",
              "      height: 32px;\n",
              "      padding: 0 0 0 0;\n",
              "      width: 32px;\n",
              "    }\n",
              "\n",
              "    .colab-df-convert:hover {\n",
              "      background-color: #E2EBFA;\n",
              "      box-shadow: 0px 1px 2px rgba(60, 64, 67, 0.3), 0px 1px 3px 1px rgba(60, 64, 67, 0.15);\n",
              "      fill: #174EA6;\n",
              "    }\n",
              "\n",
              "    [theme=dark] .colab-df-convert {\n",
              "      background-color: #3B4455;\n",
              "      fill: #D2E3FC;\n",
              "    }\n",
              "\n",
              "    [theme=dark] .colab-df-convert:hover {\n",
              "      background-color: #434B5C;\n",
              "      box-shadow: 0px 1px 3px 1px rgba(0, 0, 0, 0.15);\n",
              "      filter: drop-shadow(0px 1px 2px rgba(0, 0, 0, 0.3));\n",
              "      fill: #FFFFFF;\n",
              "    }\n",
              "  </style>\n",
              "\n",
              "      <script>\n",
              "        const buttonEl =\n",
              "          document.querySelector('#df-bdc99ef2-8758-4ee2-83ec-7c278ec54302 button.colab-df-convert');\n",
              "        buttonEl.style.display =\n",
              "          google.colab.kernel.accessAllowed ? 'block' : 'none';\n",
              "\n",
              "        async function convertToInteractive(key) {\n",
              "          const element = document.querySelector('#df-bdc99ef2-8758-4ee2-83ec-7c278ec54302');\n",
              "          const dataTable =\n",
              "            await google.colab.kernel.invokeFunction('convertToInteractive',\n",
              "                                                     [key], {});\n",
              "          if (!dataTable) return;\n",
              "\n",
              "          const docLinkHtml = 'Like what you see? Visit the ' +\n",
              "            '<a target=\"_blank\" href=https://colab.research.google.com/notebooks/data_table.ipynb>data table notebook</a>'\n",
              "            + ' to learn more about interactive tables.';\n",
              "          element.innerHTML = '';\n",
              "          dataTable['output_type'] = 'display_data';\n",
              "          await google.colab.output.renderOutput(dataTable, element);\n",
              "          const docLink = document.createElement('div');\n",
              "          docLink.innerHTML = docLinkHtml;\n",
              "          element.appendChild(docLink);\n",
              "        }\n",
              "      </script>\n",
              "    </div>\n",
              "  </div>\n",
              "  "
            ]
          },
          "metadata": {},
          "execution_count": 17
        }
      ]
    },
    {
      "cell_type": "code",
      "source": [
        "print(df_train_original.shape)\n",
        "print(df_train_aumentation.shape)\n",
        "print(df_train_augmented.shape)"
      ],
      "metadata": {
        "id": "1HysZj0ubsUY",
        "colab": {
          "base_uri": "https://localhost:8080/"
        },
        "outputId": "f36e8ffe-bd97-49aa-9a17-96b0cb8d2766"
      },
      "execution_count": 18,
      "outputs": [
        {
          "output_type": "stream",
          "name": "stdout",
          "text": [
            "(5393, 24)\n",
            "(1602, 26)\n",
            "(6995, 24)\n"
          ]
        }
      ]
    },
    {
      "cell_type": "markdown",
      "metadata": {
        "id": "ahFoV4Vll8T9"
      },
      "source": [
        "# Models"
      ]
    },
    {
      "cell_type": "markdown",
      "metadata": {
        "id": "UP38uwatZHII"
      },
      "source": [
        "## all-mpnet-base-v2"
      ]
    },
    {
      "cell_type": "markdown",
      "source": [
        "In addition to the baseline approach, we propose a\n",
        "new model architecture that incorporates additional\n",
        "information from the full output sequence. Specifi-\n",
        "cally, our model utilizes the final hidden states of\n",
        "all input tokens, rather than just the first token as\n",
        "Figure 3: Architecture of the Proposed Transformer\n",
        "Classifier with Pooling\n",
        "in the standard approach. This allows our model\n",
        "to capture more nuanced relationships between the\n",
        "input sequence and the target label.\n",
        "Our proposed model was inspired by (Leheˇcka\n",
        "et al., 2020) architecture, where authors adapt on\n",
        "top of the BERT transformer a time-distributed\n",
        "fully connected dense layer to improve the model’s\n",
        "ability to handle long-range dependencies and per-\n",
        "form mean and max pooling. We decided to avoid\n",
        "the usage of LSTM and rely on MPNet, which\n",
        "combines the strengths of masked and permuted\n",
        "language modeling for handling the long-range de-\n",
        "pendencies between words. Our proposed solu-\n",
        "tion, uses the whole output of transformers (and\n",
        "not just the [CLS] one), by pooling it using both\n",
        "max-pooling and mean-pooling. Max-pooling ex-\n",
        "tracts the strongest class-related features from the\n",
        "sequence while average-pooling evenly attends to\n",
        "all tokens in the sequence. All padding tokens were\n",
        "ignored when computing the pooled values.\n",
        "The pooled features are then summed together\n",
        "and normalized, and fed into a final classification\n",
        "layer as in the baseline. Our proposed model does\n",
        "not add any trainable parameter."
      ],
      "metadata": {
        "id": "d2tjIxvWE7Ik"
      }
    },
    {
      "cell_type": "code",
      "execution_count": 19,
      "metadata": {
        "id": "oLWl60inZHII"
      },
      "outputs": [],
      "source": [
        "model_name = 'sentence-transformers/all-mpnet-base-v2'\n",
        "num_labels = len(labels_columns)\n",
        "\n",
        "N_EPOCHS = 3\n",
        "batch_size = 16\n",
        "\n",
        "tokenizer = transformers.AutoTokenizer.from_pretrained(model_name)"
      ]
    },
    {
      "cell_type": "code",
      "execution_count": 20,
      "metadata": {
        "colab": {
          "base_uri": "https://localhost:8080/"
        },
        "outputId": "88d93930-36e6-41b5-d541-0096068f5f6b",
        "id": "N10d_x6AZHIJ"
      },
      "outputs": [
        {
          "output_type": "stream",
          "name": "stdout",
          "text": [
            "train shape: (4314, 2)\n",
            "val shape: (1079, 2)\n",
            "test shape: (1896, 2)\n"
          ]
        }
      ],
      "source": [
        "train_df = get_processed_df(df_train_original, labels_columns, tokenizer.sep_token)\n",
        "test_df = get_processed_df(df_test_original, labels_columns, tokenizer.sep_token)\n",
        "train_df, val_df = train_test_split(train_df, test_size=0.2, shuffle=True, random_state=RANDOM_STATE)\n",
        "print(f'train shape: {train_df.shape}\\nval shape: {val_df.shape}\\ntest shape: {test_df.shape}')"
      ]
    },
    {
      "cell_type": "code",
      "source": [
        "train_df_aug = get_processed_df(df_train_aumentation_augmented, labels_columns, tokenizer.sep_token)\n",
        "train_df_aug = pd.concat([train_df, train_df_aug], ignore_index=True)\n",
        "\n",
        "print(f'train shape: {train_df_aug.shape}\\nval shape: {val_df.shape}\\ntest shape: {test_df.shape}')"
      ],
      "metadata": {
        "colab": {
          "base_uri": "https://localhost:8080/"
        },
        "outputId": "0fb498e9-8f20-49db-9dda-ec7b21dcfc38",
        "id": "2h5s-sPqZHIJ"
      },
      "execution_count": 21,
      "outputs": [
        {
          "output_type": "stream",
          "name": "stdout",
          "text": [
            "train shape: (5916, 2)\n",
            "val shape: (1079, 2)\n",
            "test shape: (1896, 2)\n"
          ]
        }
      ]
    },
    {
      "cell_type": "code",
      "execution_count": 22,
      "metadata": {
        "colab": {
          "base_uri": "https://localhost:8080/"
        },
        "outputId": "acfbc919-f416-4244-bec1-8244ea451e33",
        "id": "pIqxtpuGZHIJ"
      },
      "outputs": [
        {
          "output_type": "stream",
          "name": "stdout",
          "text": [
            "not augmented scheduled steps (269, 807)\n",
            "augmented scheduled steps (369, 1107)\n"
          ]
        }
      ],
      "source": [
        "steps_per_epoch=len(train_df) // batch_size\n",
        "steps_per_epoch_aug=len(train_df_aug) // batch_size\n",
        "\n",
        "total_training_steps = steps_per_epoch * N_EPOCHS\n",
        "total_training_steps_aug = steps_per_epoch_aug * N_EPOCHS\n",
        "\n",
        "warmup_steps = total_training_steps // N_EPOCHS\n",
        "warmup_steps_aug = total_training_steps_aug // N_EPOCHS\n",
        "print('not augmented scheduled steps', (warmup_steps, total_training_steps))\n",
        "print('augmented scheduled steps', (warmup_steps_aug, total_training_steps_aug))"
      ]
    },
    {
      "cell_type": "code",
      "execution_count": 23,
      "metadata": {
        "id": "QZDiJS2DZHIJ"
      },
      "outputs": [],
      "source": [
        "data_module = HumanValuesDataModule(train_df, val_df, test_df, tokenizer, batch_size=batch_size, max_token_len=128)\n",
        "data_module.setup()\n",
        "\n",
        "data_module_aug = HumanValuesDataModule(train_df_aug, val_df, test_df, tokenizer, batch_size=batch_size, max_token_len=128)\n",
        "data_module_aug.setup()"
      ]
    },
    {
      "cell_type": "markdown",
      "metadata": {
        "id": "gqTOLp8tZHIJ"
      },
      "source": [
        "### Hyperparameters Tuning"
      ]
    },
    {
      "cell_type": "code",
      "execution_count": null,
      "metadata": {
        "id": "tspqS-jWZHIJ"
      },
      "outputs": [],
      "source": [
        "partial_model = partial(TransformerClassifierPooling, model_name, num_labels, n_training_steps=total_training_steps, n_warmup_steps=warmup_steps, num_lstm_layers=2)\n",
        "\n",
        "study_params = {\n",
        "    \"n_epochs\": 3,\n",
        "    \"n_trials\": 2,\n",
        "    \"lim_train_batches\": 0.2,\n",
        "    \"lim_val_batches\": 0.4,\n",
        "    \"lr_transformer\": [5e-5],\n",
        "    \"lr_classifier\": [1e-3],\n",
        "    \"weight_decay\": [1e-3],\n",
        "    \"classifier_dropout\": [.2, .3],\n",
        "}\n",
        "tuner = HyperparameterTuner(data_module, partial_model, study_params)"
      ]
    },
    {
      "cell_type": "code",
      "execution_count": null,
      "metadata": {
        "id": "Ywy5MzdWZHIJ"
      },
      "outputs": [],
      "source": [
        "tune = False\n",
        "if tune:\n",
        "    tuner.run_study()"
      ]
    },
    {
      "cell_type": "code",
      "execution_count": null,
      "metadata": {
        "id": "NiFaaYIYZHIJ"
      },
      "outputs": [],
      "source": [
        "tuned_hyperparameters = tuner.get_best_hyperparams()"
      ]
    },
    {
      "cell_type": "code",
      "execution_count": null,
      "metadata": {
        "colab": {
          "base_uri": "https://localhost:8080/"
        },
        "outputId": "5cf4e815-9d82-4026-cc9f-4fa1a76903e9",
        "id": "mGe8dHafZHIK"
      },
      "outputs": [
        {
          "output_type": "execute_result",
          "data": {
            "text/plain": [
              "{'lr_transformer': 5e-05,\n",
              " 'lr_classifier': 0.001,\n",
              " 'weight_decay': 0.001,\n",
              " 'classifier_dropout': 0.1}"
            ]
          },
          "metadata": {},
          "execution_count": 142
        }
      ],
      "source": [
        "tuned_hyperparameters"
      ]
    },
    {
      "cell_type": "code",
      "source": [
        "pooling_model_aug = TransformerClassifierPooling(model_name, \n",
        "                                                 num_labels, \n",
        "                                                 classifier_dropout=0.1, \n",
        "                                                 optimizer=torch.optim.AdamW, \n",
        "                                                 lr_transformer=5e-05, \n",
        "                                                 lr_classifier=1e-2,\n",
        "                                                 weight_decay=1e-4,\n",
        "                                                 n_training_steps=total_training_steps_aug, \n",
        "                                                 n_warmup_steps=warmup_steps_aug,\n",
        "                                                 ) "
      ],
      "metadata": {
        "id": "z-Czp79XZHIL"
      },
      "execution_count": 24,
      "outputs": []
    },
    {
      "cell_type": "markdown",
      "metadata": {
        "id": "1qbcafHTZHIL"
      },
      "source": [
        "### Training"
      ]
    },
    {
      "cell_type": "code",
      "execution_count": 25,
      "metadata": {
        "id": "jvf94GjYZHIL"
      },
      "outputs": [],
      "source": [
        "!rm -rf lightning_logs/\n",
        "!rm -rf checkpoints/\n",
        "     \n",
        "%load_ext tensorboard\n",
        "%tensorboard --logdir ./lightning_logs/baseline\n",
        "\n",
        "clear_output()"
      ]
    },
    {
      "cell_type": "code",
      "execution_count": 26,
      "metadata": {
        "colab": {
          "base_uri": "https://localhost:8080/"
        },
        "outputId": "cb344167-baa0-4364-a072-f32f970656dc",
        "id": "vvMzuu6_ZHIL"
      },
      "outputs": [
        {
          "output_type": "stream",
          "name": "stderr",
          "text": [
            "\u001b[34m\u001b[1mwandb\u001b[0m: Currently logged in as: \u001b[33mnlp-project-unibo\u001b[0m (\u001b[33mhuman-value-team\u001b[0m). Use \u001b[1m`wandb login --relogin`\u001b[0m to force relogin\n",
            "\u001b[34m\u001b[1mwandb\u001b[0m: \u001b[33mWARNING\u001b[0m If you're specifying your api key in code, ensure this code is not shared publicly.\n",
            "\u001b[34m\u001b[1mwandb\u001b[0m: \u001b[33mWARNING\u001b[0m Consider setting the WANDB_API_KEY environment variable, or running `wandb login` from the command line.\n",
            "\u001b[34m\u001b[1mwandb\u001b[0m: Appending key for api.wandb.ai to your netrc file: /root/.netrc\n"
          ]
        },
        {
          "output_type": "execute_result",
          "data": {
            "text/plain": [
              "True"
            ]
          },
          "metadata": {},
          "execution_count": 26
        }
      ],
      "source": [
        "# e9ec24521d2c9a845865b5e4d6be07386c8843aa\n",
        "wandb.login(key='e9ec24521d2c9a845865b5e4d6be07386c8843aa')"
      ]
    },
    {
      "cell_type": "code",
      "execution_count": 27,
      "metadata": {
        "colab": {
          "base_uri": "https://localhost:8080/",
          "height": 173
        },
        "outputId": "b35cf757-15d3-42fb-e3ad-34312aad131d",
        "id": "Vh2xtD-qZHIL"
      },
      "outputs": [
        {
          "output_type": "display_data",
          "data": {
            "text/plain": [
              "<IPython.core.display.HTML object>"
            ],
            "text/html": [
              "Tracking run with wandb version 0.14.2"
            ]
          },
          "metadata": {}
        },
        {
          "output_type": "display_data",
          "data": {
            "text/plain": [
              "<IPython.core.display.HTML object>"
            ],
            "text/html": [
              "Run data is saved locally in <code>./wandb/run-20230408_085724-aemktmmk</code>"
            ]
          },
          "metadata": {}
        },
        {
          "output_type": "display_data",
          "data": {
            "text/plain": [
              "<IPython.core.display.HTML object>"
            ],
            "text/html": [
              "Syncing run <strong><a href='https://wandb.ai/human-value-team/human-value-final/runs/aemktmmk' target=\"_blank\">pooling_mpnet_base_aug</a></strong> to <a href='https://wandb.ai/human-value-team/human-value-final' target=\"_blank\">Weights & Biases</a> (<a href='https://wandb.me/run' target=\"_blank\">docs</a>)<br/>"
            ]
          },
          "metadata": {}
        },
        {
          "output_type": "display_data",
          "data": {
            "text/plain": [
              "<IPython.core.display.HTML object>"
            ],
            "text/html": [
              " View project at <a href='https://wandb.ai/human-value-team/human-value-final' target=\"_blank\">https://wandb.ai/human-value-team/human-value-final</a>"
            ]
          },
          "metadata": {}
        },
        {
          "output_type": "display_data",
          "data": {
            "text/plain": [
              "<IPython.core.display.HTML object>"
            ],
            "text/html": [
              " View run at <a href='https://wandb.ai/human-value-team/human-value-final/runs/aemktmmk' target=\"_blank\">https://wandb.ai/human-value-team/human-value-final/runs/aemktmmk</a>"
            ]
          },
          "metadata": {}
        },
        {
          "output_type": "stream",
          "name": "stderr",
          "text": [
            "INFO:pytorch_lightning.utilities.rank_zero:GPU available: True (cuda), used: True\n",
            "INFO:pytorch_lightning.utilities.rank_zero:TPU available: False, using: 0 TPU cores\n",
            "INFO:pytorch_lightning.utilities.rank_zero:IPU available: False, using: 0 IPUs\n",
            "INFO:pytorch_lightning.utilities.rank_zero:HPU available: False, using: 0 HPUs\n"
          ]
        }
      ],
      "source": [
        "checkpoint_callback = ModelCheckpoint(\n",
        "  dirpath=\"checkpoints\",\n",
        "  filename=\"best-checkpoint\",\n",
        "  save_top_k=1,\n",
        "  verbose=True,\n",
        "  monitor=\"val_loss\",\n",
        "  mode=\"min\"\n",
        ")\n",
        "early_stopping_callback = EarlyStopping(monitor='val_loss', patience=1, min_delta=.002)\n",
        "lr_monitor = LearningRateMonitor(logging_interval='step')\n",
        "tensorboard_logger = pl.loggers.TensorBoardLogger(\"lightning_logs\", name=\"human-values\")\n",
        "\n",
        "try:\n",
        "    wandb.finish()\n",
        "except:\n",
        "    pass\n",
        "wandb_logger = WandbLogger(project=\"human-value-final\", name='pooling_mpnet_base_aug')\n",
        "\n",
        "trainer = pl.Trainer(\n",
        "  logger=[tensorboard_logger, wandb_logger],\n",
        "  callbacks=[checkpoint_callback, lr_monitor, early_stopping_callback],\n",
        "  max_epochs=N_EPOCHS,\n",
        "  accelerator='gpu'\n",
        ")"
      ]
    },
    {
      "cell_type": "code",
      "execution_count": 30,
      "metadata": {
        "colab": {
          "base_uri": "https://localhost:8080/",
          "referenced_widgets": [
            "f81721f0c7b74d2d9dc1a361b4b0918e",
            "a07678e76cbf4c54a571bccb7aabd254",
            "ae529c19e67844958f7c9e61b4c896d2",
            "585aa58311514b2ab97b1b3ce9b961f5",
            "baf2dd7541f14a78accc6f787d77bd5a",
            "172b544b5ad54a41a55f54c530cec949",
            "d4c6524e67d84c5b9a1647772a021b02",
            "1182984ccd3148b19c1a055735cf3a96",
            "30fa63caf7244f8898bd1da2fe550a0a",
            "0449e06344f84255a2bdf024c3591c13",
            "2088bb495f24455d901fa0aa88843db0",
            "a5f19b002ee44a24b9a5555f6caa5b64",
            "fe7666bb76b6496d96b332209f338110",
            "4c71a45be6774898882c8d857bf4278d",
            "20483815f9254fe9b2a2199483387ce7",
            "a4389f932a584dbe8a31e3907d98d29b",
            "3cfb8e9bafba4e50bc66028302b1eb55",
            "16f41620939b4750b31170ce4a64987b",
            "d153cd2b39a04e51815f20cb169875f9",
            "11049b29592a4b0f8c387225b44b3ad3",
            "94e4f26c8ca64e209793bd30305fadb5",
            "b58908d745bf41d0aa27637f95041497",
            "84ecea63d0c64887b446a2b9b53aa8ed",
            "98c290a6935b4b07b8e21da090ad78e8",
            "8b93fb7f39a141779375c3a05e71c5ea",
            "c8212cbd9f0c432e89f14b606fba96d7",
            "5b9b94bc26a34f649e9de158a0e14d34",
            "498967d0286b4418950a4d3f96e19c60",
            "28103affd41a4b3ea165017f12855861",
            "1f5caec2e06449db98f6effc7a8ea3c1",
            "8770708c67004d0d9b77caa317975182",
            "d269c709f77c40be81a8d92558f169a5",
            "ed8814054fd146b48b15466eecbd696c",
            "196479abdffa41b18f26ced60d09364b",
            "ffd3c24e28b642c49e1e3ee9d76e972a",
            "052ed141a68d48e3a99bf39c6a8fdbdb",
            "ff4338e5b79a46d393608a64e33e50ec",
            "09db170133ef4216871e3427d088c484",
            "07fa404ab1ac4a45ac51eab1db1d8c71",
            "87c9bcc6339b4db5a7c3bf4190adcf89",
            "be25e1079a1b40999e711eca58739738",
            "9cf9969d15404017a169090454cb6a3f",
            "2ecad7a1d5904f63a000fdb2d2180ca2",
            "b4a6c78f76c34274a1e04dddf106bf48",
            "6699ad8907294ad8870aca4ad594d87a",
            "b60e05662bfa47ac9b50618b83dd22d8",
            "44b25eb90e72470793c72f0b836cce19",
            "b9e3253767a24c03bec1191d94791a65",
            "21a0c7139df54d5a818d14df6ceb7d97",
            "01252f3168484307b94348b79408e921",
            "7ab635e207884c379cba4bc2d4802724",
            "32b6ab1774b64552aef0a72bbabf9f91",
            "82ff344e34a84fd48624d83b063eb1d3",
            "f7c18e068c3a4931a09cde302e8d3c82",
            "79b274465b2a4f568d38d12c3f61f4ef"
          ],
          "height": 396
        },
        "outputId": "44b651af-6c57-4c3c-bdbc-83147fb7290b",
        "id": "wCbRF7OXZHIL"
      },
      "outputs": [
        {
          "output_type": "stream",
          "name": "stderr",
          "text": [
            "\u001b[34m\u001b[1mwandb\u001b[0m: logging graph, to disable use `wandb.watch(log_graph=False)`\n",
            "WARNING:pytorch_lightning.loggers.tensorboard:Missing logger folder: lightning_logs/human-values\n",
            "INFO:pytorch_lightning.accelerators.cuda:LOCAL_RANK: 0 - CUDA_VISIBLE_DEVICES: [0]\n",
            "INFO:pytorch_lightning.callbacks.model_summary:\n",
            "  | Name       | Type              | Params\n",
            "-------------------------------------------------\n",
            "0 | bert       | MPNetModel        | 109 M \n",
            "1 | dropout    | Dropout           | 0     \n",
            "2 | classifier | Linear            | 15.4 K\n",
            "3 | loss_fn    | BCEWithLogitsLoss | 0     \n",
            "4 | metrics    | ModuleDict        | 0     \n",
            "-------------------------------------------------\n",
            "109 M     Trainable params\n",
            "0         Non-trainable params\n",
            "109 M     Total params\n",
            "438.007   Total estimated model params size (MB)\n"
          ]
        },
        {
          "output_type": "display_data",
          "data": {
            "text/plain": [
              "Sanity Checking: 0it [00:00, ?it/s]"
            ],
            "application/vnd.jupyter.widget-view+json": {
              "version_major": 2,
              "version_minor": 0,
              "model_id": "f81721f0c7b74d2d9dc1a361b4b0918e"
            }
          },
          "metadata": {}
        },
        {
          "output_type": "display_data",
          "data": {
            "text/plain": [
              "Training: 0it [00:00, ?it/s]"
            ],
            "application/vnd.jupyter.widget-view+json": {
              "version_major": 2,
              "version_minor": 0,
              "model_id": "a5f19b002ee44a24b9a5555f6caa5b64"
            }
          },
          "metadata": {}
        },
        {
          "output_type": "display_data",
          "data": {
            "text/plain": [
              "Validation: 0it [00:00, ?it/s]"
            ],
            "application/vnd.jupyter.widget-view+json": {
              "version_major": 2,
              "version_minor": 0,
              "model_id": "84ecea63d0c64887b446a2b9b53aa8ed"
            }
          },
          "metadata": {}
        },
        {
          "output_type": "stream",
          "name": "stderr",
          "text": [
            "INFO:pytorch_lightning.utilities.rank_zero:Epoch 0, global step 370: 'val_loss' reached 0.32562 (best 0.32562), saving model to '/content/human-value-detection/checkpoints/best-checkpoint.ckpt' as top 1\n"
          ]
        },
        {
          "output_type": "display_data",
          "data": {
            "text/plain": [
              "Validation: 0it [00:00, ?it/s]"
            ],
            "application/vnd.jupyter.widget-view+json": {
              "version_major": 2,
              "version_minor": 0,
              "model_id": "196479abdffa41b18f26ced60d09364b"
            }
          },
          "metadata": {}
        },
        {
          "output_type": "stream",
          "name": "stderr",
          "text": [
            "INFO:pytorch_lightning.utilities.rank_zero:Epoch 1, global step 740: 'val_loss' reached 0.29953 (best 0.29953), saving model to '/content/human-value-detection/checkpoints/best-checkpoint.ckpt' as top 1\n"
          ]
        },
        {
          "output_type": "display_data",
          "data": {
            "text/plain": [
              "Validation: 0it [00:00, ?it/s]"
            ],
            "application/vnd.jupyter.widget-view+json": {
              "version_major": 2,
              "version_minor": 0,
              "model_id": "6699ad8907294ad8870aca4ad594d87a"
            }
          },
          "metadata": {}
        },
        {
          "output_type": "stream",
          "name": "stderr",
          "text": [
            "INFO:pytorch_lightning.utilities.rank_zero:Epoch 2, global step 1110: 'val_loss' was not in top 1\n",
            "INFO:pytorch_lightning.utilities.rank_zero:`Trainer.fit` stopped: `max_epochs=3` reached.\n"
          ]
        }
      ],
      "source": [
        "# log gradients, parameter histogram and model topology\n",
        "wandb_logger.watch(pooling_model_aug, log=\"all\")\n",
        "trainer.fit(pooling_model_aug, data_module_aug)"
      ]
    },
    {
      "cell_type": "code",
      "execution_count": 31,
      "metadata": {
        "id": "CIFo5n-LZHIL"
      },
      "outputs": [],
      "source": [
        "!cp -f '/content/human-value-detection/checkpoints/best-checkpoint.ckpt' '/content/drive/MyDrive/human-value-detection/models/pooling-mpnet-aug.ckpt'"
      ]
    },
    {
      "cell_type": "code",
      "execution_count": 32,
      "metadata": {
        "colab": {
          "base_uri": "https://localhost:8080/",
          "height": 447
        },
        "outputId": "24e94801-67ad-4eab-9ea1-aaf7142ac3f3",
        "id": "foI3sUk5ZHIM"
      },
      "outputs": [
        {
          "output_type": "execute_result",
          "data": {
            "text/plain": [
              "[<matplotlib.lines.Line2D at 0x7f8b36ebf6d0>]"
            ]
          },
          "metadata": {},
          "execution_count": 32
        },
        {
          "output_type": "display_data",
          "data": {
            "text/plain": [
              "<Figure size 640x480 with 1 Axes>"
            ],
            "image/png": "[encoded data removed]"
          },
          "metadata": {}
        }
      ],
      "source": [
        "plt.plot([i.cpu().item() for i in pooling_model_aug.losses])"
      ]
    },
    {
      "cell_type": "markdown",
      "metadata": {
        "id": "nYdFWmmdZHIM"
      },
      "source": [
        "### Predictions"
      ]
    },
    {
      "cell_type": "code",
      "execution_count": 33,
      "metadata": {
        "id": "WXpE0UEnZHIM"
      },
      "outputs": [],
      "source": [
        "trained_model = TransformerClassifierPooling.load_from_checkpoint(\n",
        "  \"/content/drive/MyDrive/human-value-detection/models/pooling-mpnet-aug.ckpt\",\n",
        "  **{'model_name':model_name, \n",
        "     'num_labels':num_labels, \n",
        "     'classifier_dropout':.1, \n",
        "     'optimizer':torch.optim.AdamW,\n",
        "     'lr_transformer':5e-05, \n",
        "     'lr_classifier':1e-5,\n",
        "     'weight_decay':1e-4,\n",
        "     'n_training_steps':total_training_steps, \n",
        "     'n_warmup_steps':warmup_steps,\n",
        "     },\n",
        ")"
      ]
    },
    {
      "cell_type": "code",
      "execution_count": 34,
      "metadata": {
        "id": "2s--yvSAZHIM"
      },
      "outputs": [],
      "source": [
        "trained_model.eval()\n",
        "trained_model.freeze()"
      ]
    },
    {
      "cell_type": "code",
      "execution_count": 35,
      "metadata": {
        "colab": {
          "base_uri": "https://localhost:8080/",
          "referenced_widgets": [
            "d088946188db457f8432936807a7304b",
            "738e15a54933445ab6036263e7b68ab8",
            "b860102507f7452b9509a669054cf080",
            "dc1b2a90ee83417aad13d6b8dcea947c",
            "3898b1504b8346438d0d3f09451de6a0",
            "62ac5e65a9ae4561b54961541474fc29",
            "d70bf03874484e789758ef8b17c3ce42",
            "7bc72ce528a24dd5a7a2860ec4da7ad2",
            "da87253a1aed48d9a4e215b60e832468",
            "2e00c6142e81475796dce2d268384ca0",
            "97c1b78e5c204a398f5868552b510c02"
          ],
          "height": 66
        },
        "outputId": "1fa6adf6-7f0e-4ae1-c9f3-ad7eb6716346",
        "id": "MPS38BGZZHIM"
      },
      "outputs": [
        {
          "output_type": "stream",
          "name": "stderr",
          "text": [
            "INFO:pytorch_lightning.accelerators.cuda:LOCAL_RANK: 0 - CUDA_VISIBLE_DEVICES: [0]\n"
          ]
        },
        {
          "output_type": "display_data",
          "data": {
            "text/plain": [
              "Predicting: 0it [00:00, ?it/s]"
            ],
            "application/vnd.jupyter.widget-view+json": {
              "version_major": 2,
              "version_minor": 0,
              "model_id": "d088946188db457f8432936807a7304b"
            }
          },
          "metadata": {}
        }
      ],
      "source": [
        "predictions_train = trainer.predict(trained_model, data_module.threshold_train_dataloader())"
      ]
    },
    {
      "cell_type": "code",
      "execution_count": 36,
      "metadata": {
        "id": "ALBPH03eZHIN"
      },
      "outputs": [],
      "source": [
        "pred_labels_train = np.array([pred.cpu().numpy() for preds in predictions_train for pred in preds])\n",
        "true_labels_train = np.array([i for i in train_df['labels']])"
      ]
    },
    {
      "cell_type": "code",
      "execution_count": 37,
      "metadata": {
        "colab": {
          "base_uri": "https://localhost:8080/",
          "referenced_widgets": [
            "51d70e5134a84afaa20eeba77d7aeaa5",
            "8ee09a02bcd744cfa93942e6f8674153",
            "9bb624246b7a4f92a414b6f6269041ee",
            "4836821ffb3441a29802a41cd6adc7fa",
            "ba400d19705145e0afe88173bc69d486",
            "47e2e652409e4f78b8b73ab0455f6626",
            "391cd06a8bee463ba2a0967bbb7fd65a",
            "f23a900a2b524637bcb2e485d13c7f3a",
            "9fc886ed4c3a4b4c90f78f1ad998f4cd",
            "5534d95059154607a6eab5a4752f37e4",
            "f48d88dc461b4a6b8558dd2ce31fab52"
          ],
          "height": 66
        },
        "outputId": "3a971c52-b392-4e5a-cbc2-ca1230a0b52a",
        "id": "uiVMedZqZHIN"
      },
      "outputs": [
        {
          "output_type": "stream",
          "name": "stderr",
          "text": [
            "INFO:pytorch_lightning.accelerators.cuda:LOCAL_RANK: 0 - CUDA_VISIBLE_DEVICES: [0]\n"
          ]
        },
        {
          "output_type": "display_data",
          "data": {
            "text/plain": [
              "Predicting: 0it [00:00, ?it/s]"
            ],
            "application/vnd.jupyter.widget-view+json": {
              "version_major": 2,
              "version_minor": 0,
              "model_id": "51d70e5134a84afaa20eeba77d7aeaa5"
            }
          },
          "metadata": {}
        }
      ],
      "source": [
        "predictions_test = trainer.predict(trained_model, data_module.test_dataloader())"
      ]
    },
    {
      "cell_type": "code",
      "execution_count": 38,
      "metadata": {
        "id": "sbMnS1fpZHIN"
      },
      "outputs": [],
      "source": [
        "pred_labels_test = np.array([pred.cpu().numpy() for preds in predictions_test for pred in preds])\n",
        "true_labels_test = np.array([i for i in test_df['labels']])"
      ]
    },
    {
      "cell_type": "markdown",
      "metadata": {
        "id": "fcfcVV5wZHIN"
      },
      "source": [
        "#### Threshold Optimization\n",
        "\n",
        "https://arxiv.org/pdf/2103.00833.pdf\n",
        "\n",
        "https://github.com/topel/sglthresh/blob/master/sgl_emotions.ipynb"
      ]
    },
    {
      "cell_type": "code",
      "source": [
        "MANUAL_THRESHOLD = .5"
      ],
      "metadata": {
        "id": "jsoE9dQAZHIN"
      },
      "execution_count": 39,
      "outputs": []
    },
    {
      "cell_type": "code",
      "source": [
        "f1_score_optimized_thresholds = get_f1_optimized_thresholding(true_labels_train, pred_labels_train, labels_columns)\n",
        "print(f'optimized_thresholds: \\n{f1_score_optimized_thresholds}')"
      ],
      "metadata": {
        "colab": {
          "base_uri": "https://localhost:8080/"
        },
        "outputId": "bf97d794-f42f-43f3-8528-d186a6d5f15b",
        "id": "HsXS6X_TZHIN"
      },
      "execution_count": 40,
      "outputs": [
        {
          "output_type": "stream",
          "name": "stdout",
          "text": [
            "optimized_thresholds: \n",
            "[0.55, 0.6, 0.6, 0.65, 0.55, 0.5, 0.65, 0.35, 0.55, 0.5, 0.65, 0.3, 0.4, 0.45, 0.35, 0.45, 0.55, 0.35, 0.4, 0.45]\n"
          ]
        }
      ]
    },
    {
      "cell_type": "code",
      "source": [
        "threshold_fn = SurrogateHeaviside.apply\n",
        "model = ThresholdModel(threshold_fn=threshold_fn, device=device, t=.5, sigma=1., num_labels=num_labels, use_dense=False)\n",
        "criterion = torch.nn.CrossEntropyLoss()\n",
        "\n",
        "train_thresholding_model(model=model, \n",
        "                         predictions=pred_labels_train,\n",
        "                         labels=true_labels_train,\n",
        "                         epochs=2000, \n",
        "                         criterion=criterion, \n",
        "                         num_labels=num_labels,\n",
        "                         lr=1e-01,\n",
        "                         verbose=False\n",
        "                         )\n",
        "learned_thresholds=model.thresh.clone().detach().cpu().numpy()\n",
        "sigma = model.sigma.clone().detach().cpu().numpy()\n",
        "print(f'learned_thresholds: \\n{learned_thresholds}')"
      ],
      "metadata": {
        "colab": {
          "base_uri": "https://localhost:8080/",
          "height": 534
        },
        "outputId": "ea64fc71-cc96-4358-bb50-3eb2e6890060",
        "id": "ZV7c0D5lZHIN"
      },
      "execution_count": 56,
      "outputs": [
        {
          "output_type": "stream",
          "name": "stdout",
          "text": [
            "--------------------\n",
            "learned_thresholds: \n",
            "[0.42664343 0.47414455 0.48232612 0.5699347  0.39032543 0.36807042\n",
            " 0.57102317 0.31924483 0.34172106 0.32145485 0.40489286 0.20474634\n",
            " 0.36786604 0.3153822  0.21005382 0.39947045 0.37412435 0.21773379\n",
            " 0.3175352  0.3667291 ]\n"
          ]
        },
        {
          "output_type": "display_data",
          "data": {
            "text/plain": [
              "<Figure size 640x480 with 1 Axes>"
            ],
            "image/png": "[encoded data removed]"
          },
          "metadata": {}
        }
      ]
    },
    {
      "cell_type": "markdown",
      "source": [],
      "metadata": {
        "id": "TmpzNya4ZHIO"
      }
    },
    {
      "cell_type": "markdown",
      "source": [
        "#### Train"
      ],
      "metadata": {
        "id": "cptzhBoVZHIO"
      }
    },
    {
      "cell_type": "code",
      "execution_count": 42,
      "metadata": {
        "colab": {
          "base_uri": "https://localhost:8080/"
        },
        "outputId": "9e578148-763f-45a6-f782-51c21194d13b",
        "id": "WTyzzsyAZHIO"
      },
      "outputs": [
        {
          "output_type": "stream",
          "name": "stdout",
          "text": [
            "                            precision    recall  f1-score   support\n",
            "\n",
            "   Self-direction: thought       0.56      0.95      0.70       804\n",
            "    Self-direction: action       0.49      0.95      0.65      1134\n",
            "               Stimulation       0.31      0.77      0.44       196\n",
            "                  Hedonism       0.39      0.91      0.55       137\n",
            "               Achievement       0.59      0.94      0.72      1212\n",
            "          Power: dominance       0.42      0.80      0.56       482\n",
            "          Power: resources       0.47      0.98      0.64       496\n",
            "                      Face       0.43      0.66      0.52       304\n",
            "        Security: personal       0.67      0.94      0.78      1594\n",
            "        Security: societal       0.65      0.95      0.77      1383\n",
            "                 Tradition       0.55      0.94      0.69       454\n",
            "         Conformity: rules       0.62      0.79      0.70       928\n",
            " Conformity: interpersonal       0.56      0.79      0.65       172\n",
            "                  Humility       0.52      0.80      0.63       327\n",
            "       Benevolence: caring       0.56      0.76      0.65      1056\n",
            "Benevolence: dependability       0.34      0.84      0.48       662\n",
            "     Universalism: concern       0.62      0.96      0.75      1659\n",
            "      Universalism: nature       0.88      0.91      0.90       336\n",
            "   Universalism: tolerance       0.47      0.82      0.60       537\n",
            " Universalism: objectivity       0.42      0.86      0.56       843\n",
            "\n",
            "                 micro avg       0.54      0.89      0.67     14716\n",
            "                 macro avg       0.53      0.87      0.65     14716\n",
            "              weighted avg       0.56      0.89      0.68     14716\n",
            "               samples avg       0.56      0.91      0.67     14716\n",
            "\n",
            "accuracy: 0.8519587516784668\n"
          ]
        }
      ],
      "source": [
        "print_classification_report_thresholding(true_labels_train, pred_labels_train, labels_columns, threshold=0.25)"
      ]
    },
    {
      "cell_type": "code",
      "source": [
        "print_classification_report_thresholding(true_labels_train, pred_labels_train, labels_columns, threshold=f1_score_optimized_thresholds)"
      ],
      "metadata": {
        "colab": {
          "base_uri": "https://localhost:8080/"
        },
        "outputId": "63b588db-3c36-461d-b7f2-62bae0319d03",
        "id": "Ka8SBZm4ZHIO"
      },
      "execution_count": 43,
      "outputs": [
        {
          "output_type": "stream",
          "name": "stdout",
          "text": [
            "                            precision    recall  f1-score   support\n",
            "\n",
            "   Self-direction: thought       0.77      0.84      0.81       804\n",
            "    Self-direction: action       0.81      0.79      0.80      1134\n",
            "               Stimulation       0.65      0.52      0.58       196\n",
            "                  Hedonism       0.70      0.73      0.72       137\n",
            "               Achievement       0.81      0.81      0.81      1212\n",
            "          Power: dominance       0.70      0.59      0.64       482\n",
            "          Power: resources       0.72      0.87      0.79       496\n",
            "                      Face       0.57      0.55      0.56       304\n",
            "        Security: personal       0.86      0.82      0.84      1594\n",
            "        Security: societal       0.84      0.82      0.83      1383\n",
            "                 Tradition       0.84      0.75      0.80       454\n",
            "         Conformity: rules       0.66      0.75      0.70       928\n",
            " Conformity: interpersonal       0.70      0.73      0.71       172\n",
            "                  Humility       0.75      0.63      0.68       327\n",
            "       Benevolence: caring       0.65      0.66      0.66      1056\n",
            "Benevolence: dependability       0.50      0.62      0.55       662\n",
            "     Universalism: concern       0.81      0.83      0.82      1659\n",
            "      Universalism: nature       0.93      0.86      0.90       336\n",
            "   Universalism: tolerance       0.65      0.65      0.65       537\n",
            " Universalism: objectivity       0.61      0.68      0.64       843\n",
            "\n",
            "                 micro avg       0.75      0.76      0.75     14716\n",
            "                 macro avg       0.73      0.73      0.72     14716\n",
            "              weighted avg       0.75      0.76      0.75     14716\n",
            "               samples avg       0.76      0.80      0.75     14716\n",
            "\n",
            "accuracy: 0.9145109057426453\n"
          ]
        }
      ]
    },
    {
      "cell_type": "code",
      "execution_count": 44,
      "metadata": {
        "colab": {
          "base_uri": "https://localhost:8080/"
        },
        "outputId": "a7a71c7c-d42e-4367-edd4-cf87af30dace",
        "id": "WrZIpA7EZHIO"
      },
      "outputs": [
        {
          "output_type": "stream",
          "name": "stdout",
          "text": [
            "                            precision    recall  f1-score   support\n",
            "\n",
            "   Self-direction: thought       0.71      0.88      0.78       804\n",
            "    Self-direction: action       0.69      0.87      0.77      1134\n",
            "               Stimulation       0.60      0.55      0.57       196\n",
            "                  Hedonism       0.66      0.76      0.71       137\n",
            "               Achievement       0.71      0.87      0.78      1212\n",
            "          Power: dominance       0.61      0.65      0.63       482\n",
            "          Power: resources       0.65      0.90      0.75       496\n",
            "                      Face       0.60      0.51      0.55       304\n",
            "        Security: personal       0.74      0.91      0.82      1594\n",
            "        Security: societal       0.73      0.91      0.81      1383\n",
            "                 Tradition       0.74      0.84      0.79       454\n",
            "         Conformity: rules       0.63      0.78      0.70       928\n",
            " Conformity: interpersonal       0.76      0.65      0.70       172\n",
            "                  Humility       0.71      0.66      0.68       327\n",
            "       Benevolence: caring       0.55      0.77      0.64      1056\n",
            "Benevolence: dependability       0.46      0.66      0.54       662\n",
            "     Universalism: concern       0.70      0.92      0.80      1659\n",
            "      Universalism: nature       0.95      0.85      0.89       336\n",
            "   Universalism: tolerance       0.60      0.69      0.64       537\n",
            " Universalism: objectivity       0.55      0.74      0.63       843\n",
            "\n",
            "                 micro avg       0.67      0.82      0.73     14716\n",
            "                 macro avg       0.67      0.77      0.71     14716\n",
            "              weighted avg       0.67      0.82      0.73     14716\n",
            "               samples avg       0.69      0.85      0.73     14716\n",
            "\n",
            "accuracy: 0.8989684581756592\n"
          ]
        }
      ],
      "source": [
        "print_classification_report_thresholding(true_labels_train, pred_labels_train, labels_columns, threshold=learned_thresholds)"
      ]
    },
    {
      "cell_type": "markdown",
      "metadata": {
        "id": "PupJnK8XZHIO"
      },
      "source": [
        "#### Test\n"
      ]
    },
    {
      "cell_type": "code",
      "execution_count": 57,
      "metadata": {
        "colab": {
          "base_uri": "https://localhost:8080/"
        },
        "outputId": "25cfe179-1040-4491-9052-8578a0bd3dc6",
        "id": "XOoo2jqsZHIO"
      },
      "outputs": [
        {
          "output_type": "stream",
          "name": "stdout",
          "text": [
            "                            precision    recall  f1-score   support\n",
            "\n",
            "   Self-direction: thought       0.33      0.78      0.47       251\n",
            "    Self-direction: action       0.37      0.86      0.52       496\n",
            "               Stimulation       0.29      0.39      0.33       138\n",
            "                  Hedonism       0.35      0.58      0.43       103\n",
            "               Achievement       0.48      0.87      0.62       575\n",
            "          Power: dominance       0.25      0.48      0.33       164\n",
            "          Power: resources       0.32      0.89      0.47       132\n",
            "                      Face       0.31      0.38      0.34       130\n",
            "        Security: personal       0.60      0.91      0.73       759\n",
            "        Security: societal       0.47      0.81      0.60       488\n",
            "                 Tradition       0.35      0.54      0.43       172\n",
            "         Conformity: rules       0.51      0.69      0.59       455\n",
            " Conformity: interpersonal       0.37      0.38      0.38        60\n",
            "                  Humility       0.17      0.25      0.20       127\n",
            "       Benevolence: caring       0.47      0.79      0.59       633\n",
            "Benevolence: dependability       0.22      0.70      0.33       268\n",
            "     Universalism: concern       0.54      0.90      0.67       687\n",
            "      Universalism: nature       0.70      0.74      0.72       127\n",
            "   Universalism: tolerance       0.29      0.39      0.33       223\n",
            " Universalism: objectivity       0.29      0.81      0.43       371\n",
            "\n",
            "                 micro avg       0.41      0.76      0.54      6359\n",
            "                 macro avg       0.38      0.66      0.48      6359\n",
            "              weighted avg       0.43      0.76      0.55      6359\n",
            "               samples avg       0.43      0.80      0.53      6359\n",
            "\n",
            "accuracy: 0.7801951766014099\n"
          ]
        }
      ],
      "source": [
        "print_classification_report_thresholding(true_labels_test, pred_labels_test, labels_columns, threshold=0.25)"
      ]
    },
    {
      "cell_type": "code",
      "execution_count": 58,
      "metadata": {
        "colab": {
          "base_uri": "https://localhost:8080/"
        },
        "outputId": "4e3257a3-9b80-42dc-fc4f-3b91a0bce450",
        "id": "KqjlRgDOZHIO"
      },
      "outputs": [
        {
          "output_type": "stream",
          "name": "stdout",
          "text": [
            "                            precision    recall  f1-score   support\n",
            "\n",
            "   Self-direction: thought       0.48      0.51      0.50       251\n",
            "    Self-direction: action       0.63      0.58      0.61       496\n",
            "               Stimulation       0.49      0.14      0.22       138\n",
            "                  Hedonism       0.59      0.40      0.47       103\n",
            "               Achievement       0.64      0.66      0.65       575\n",
            "          Power: dominance       0.43      0.23      0.30       164\n",
            "          Power: resources       0.44      0.58      0.50       132\n",
            "                      Face       0.38      0.23      0.29       130\n",
            "        Security: personal       0.77      0.78      0.78       759\n",
            "        Security: societal       0.62      0.56      0.59       488\n",
            "                 Tradition       0.61      0.39      0.48       172\n",
            "         Conformity: rules       0.53      0.65      0.58       455\n",
            " Conformity: interpersonal       0.50      0.25      0.33        60\n",
            "                  Humility       0.26      0.13      0.17       127\n",
            "       Benevolence: caring       0.53      0.70      0.60       633\n",
            "Benevolence: dependability       0.31      0.42      0.35       268\n",
            "     Universalism: concern       0.70      0.73      0.71       687\n",
            "      Universalism: nature       0.77      0.72      0.74       127\n",
            "   Universalism: tolerance       0.40      0.21      0.28       223\n",
            " Universalism: objectivity       0.41      0.65      0.50       371\n",
            "\n",
            "                 micro avg       0.57      0.58      0.58      6359\n",
            "                 macro avg       0.52      0.48      0.48      6359\n",
            "              weighted avg       0.57      0.58      0.57      6359\n",
            "               samples avg       0.60      0.64      0.58      6359\n",
            "\n",
            "accuracy: 0.8563027381896973\n"
          ]
        }
      ],
      "source": [
        "print_classification_report_thresholding(true_labels_test, pred_labels_test, labels_columns, threshold=f1_score_optimized_thresholds)"
      ]
    },
    {
      "cell_type": "code",
      "execution_count": 59,
      "metadata": {
        "colab": {
          "base_uri": "https://localhost:8080/"
        },
        "outputId": "d70ad0c6-c2cb-478e-e460-9bd1407b76a4",
        "id": "6eC96dlHZHIP"
      },
      "outputs": [
        {
          "output_type": "stream",
          "name": "stdout",
          "text": [
            "                            precision    recall  f1-score   support\n",
            "\n",
            "   Self-direction: thought       0.44      0.67      0.53       251\n",
            "    Self-direction: action       0.52      0.68      0.59       496\n",
            "               Stimulation       0.40      0.20      0.27       138\n",
            "                  Hedonism       0.53      0.43      0.47       103\n",
            "               Achievement       0.55      0.77      0.64       575\n",
            "          Power: dominance       0.34      0.35      0.35       164\n",
            "          Power: resources       0.41      0.64      0.50       132\n",
            "                      Face       0.36      0.27      0.31       130\n",
            "        Security: personal       0.66      0.88      0.76       759\n",
            "        Security: societal       0.51      0.73      0.60       488\n",
            "                 Tradition       0.47      0.50      0.48       172\n",
            "         Conformity: rules       0.48      0.73      0.58       455\n",
            " Conformity: interpersonal       0.55      0.30      0.39        60\n",
            "                  Humility       0.17      0.18      0.18       127\n",
            "       Benevolence: caring       0.46      0.84      0.59       633\n",
            "Benevolence: dependability       0.27      0.47      0.34       268\n",
            "     Universalism: concern       0.62      0.82      0.70       687\n",
            "      Universalism: nature       0.68      0.76      0.72       127\n",
            "   Universalism: tolerance       0.36      0.31      0.33       223\n",
            " Universalism: objectivity       0.37      0.71      0.49       371\n",
            "\n",
            "                 micro avg       0.49      0.68      0.57      6359\n",
            "                 macro avg       0.46      0.56      0.49      6359\n",
            "              weighted avg       0.49      0.68      0.57      6359\n",
            "               samples avg       0.52      0.73      0.57      6359\n",
            "\n",
            "accuracy: 0.8287711143493652\n"
          ]
        }
      ],
      "source": [
        "pooling_aug_report = print_classification_report_thresholding(true_labels_test, pred_labels_test, labels_columns, threshold=learned_thresholds, output_dict=True)"
      ]
    },
    {
      "cell_type": "markdown",
      "source": [
        "# Error Analysis\n"
      ],
      "metadata": {
        "id": "CjdDX_PbIcu5"
      }
    },
    {
      "cell_type": "code",
      "source": [
        "pooling_reports = [pooling_aug_report]"
      ],
      "metadata": {
        "id": "9JVuPns1I4C2"
      },
      "execution_count": 60,
      "outputs": []
    },
    {
      "cell_type": "code",
      "source": [
        "import pickle\n",
        "with open('/content/human-value-detection/baseling_bert_base_reports.pkl', 'rb') as f:\n",
        "    baseling_bert_base_reports = pickle.load(f)\n",
        "\n",
        "with open('/content/human-value-detection/baseling_mpnet_base_reports.pkl', 'rb') as f:\n",
        "    baseling_mpnet_base_reports = pickle.load(f)"
      ],
      "metadata": {
        "id": "Nn5Fa_2KIe2Q"
      },
      "execution_count": 61,
      "outputs": []
    },
    {
      "cell_type": "code",
      "source": [
        "from plotting.data_analysis import plot_classification_reports\n",
        "\n",
        "reports = [baseling_bert_base_reports[1], baseling_mpnet_base_reports[1], pooling_reports[0]]\n",
        "reports_names = ['BERT_baseline + Aug', 'MPNet_baseline + Aug', 'MPNet_pooling + Aug']\n",
        "\n",
        "plot_classification_reports(reports, reports_names, 'Best models F1-Scores')"
      ],
      "metadata": {
        "colab": {
          "base_uri": "https://localhost:8080/",
          "height": 549
        },
        "id": "wwYiXQAdJJf3",
        "outputId": "f4fbc15f-303c-4767-e23e-68ffe366db4c"
      },
      "execution_count": 63,
      "outputs": [
        {
          "output_type": "display_data",
          "data": {
            "text/plain": [
              "<Figure size 1000x500 with 2 Axes>"
            ],
            "image/png": "[encoded data removed]"
          },
          "metadata": {}
        }
      ]
    }
  ],
  "metadata": {
    "colab": {
      "collapsed_sections": [
        "6c7eiIWbwbxi",
        "LvixN0X5nT8Y",
        "sY8weoj48Zjx",
        "cptzhBoVZHIO"
      ],
      "machine_shape": "hm",
      "provenance": []
    },
    "gpuClass": "standard",
    "kernelspec": {
      "display_name": "Python 3",
      "name": "python3"
    },
    "language_info": {
      "name": "python"
    },
    "widgets": {
      "application/vnd.jupyter.widget-state+json": {
        "f81721f0c7b74d2d9dc1a361b4b0918e": {
          "model_module": "@jupyter-widgets/controls",
          "model_name": "HBoxModel",
          "model_module_version": "1.5.0",
          "state": {
            "_dom_classes": [],
            "_model_module": "@jupyter-widgets/controls",
            "_model_module_version": "1.5.0",
            "_model_name": "HBoxModel",
            "_view_count": null,
            "_view_module": "@jupyter-widgets/controls",
            "_view_module_version": "1.5.0",
            "_view_name": "HBoxView",
            "box_style": "",
            "children": [
              "IPY_MODEL_a07678e76cbf4c54a571bccb7aabd254",
              "IPY_MODEL_ae529c19e67844958f7c9e61b4c896d2",
              "IPY_MODEL_585aa58311514b2ab97b1b3ce9b961f5"
            ],
            "layout": "IPY_MODEL_baf2dd7541f14a78accc6f787d77bd5a"
          }
        },
        "a07678e76cbf4c54a571bccb7aabd254": {
          "model_module": "@jupyter-widgets/controls",
          "model_name": "HTMLModel",
          "model_module_version": "1.5.0",
          "state": {
            "_dom_classes": [],
            "_model_module": "@jupyter-widgets/controls",
            "_model_module_version": "1.5.0",
            "_model_name": "HTMLModel",
            "_view_count": null,
            "_view_module": "@jupyter-widgets/controls",
            "_view_module_version": "1.5.0",
            "_view_name": "HTMLView",
            "description": "",
            "description_tooltip": null,
            "layout": "IPY_MODEL_172b544b5ad54a41a55f54c530cec949",
            "placeholder": "​",
            "style": "IPY_MODEL_d4c6524e67d84c5b9a1647772a021b02",
            "value": "Sanity Checking DataLoader 0: 100%"
          }
        },
        "ae529c19e67844958f7c9e61b4c896d2": {
          "model_module": "@jupyter-widgets/controls",
          "model_name": "FloatProgressModel",
          "model_module_version": "1.5.0",
          "state": {
            "_dom_classes": [],
            "_model_module": "@jupyter-widgets/controls",
            "_model_module_version": "1.5.0",
            "_model_name": "FloatProgressModel",
            "_view_count": null,
            "_view_module": "@jupyter-widgets/controls",
            "_view_module_version": "1.5.0",
            "_view_name": "ProgressView",
            "bar_style": "",
            "description": "",
            "description_tooltip": null,
            "layout": "IPY_MODEL_1182984ccd3148b19c1a055735cf3a96",
            "max": 2,
            "min": 0,
            "orientation": "horizontal",
            "style": "IPY_MODEL_30fa63caf7244f8898bd1da2fe550a0a",
            "value": 2
          }
        },
        "585aa58311514b2ab97b1b3ce9b961f5": {
          "model_module": "@jupyter-widgets/controls",
          "model_name": "HTMLModel",
          "model_module_version": "1.5.0",
          "state": {
            "_dom_classes": [],
            "_model_module": "@jupyter-widgets/controls",
            "_model_module_version": "1.5.0",
            "_model_name": "HTMLModel",
            "_view_count": null,
            "_view_module": "@jupyter-widgets/controls",
            "_view_module_version": "1.5.0",
            "_view_name": "HTMLView",
            "description": "",
            "description_tooltip": null,
            "layout": "IPY_MODEL_0449e06344f84255a2bdf024c3591c13",
            "placeholder": "​",
            "style": "IPY_MODEL_2088bb495f24455d901fa0aa88843db0",
            "value": " 2/2 [00:00&lt;00:00,  4.58it/s]"
          }
        },
        "baf2dd7541f14a78accc6f787d77bd5a": {
          "model_module": "@jupyter-widgets/base",
          "model_name": "LayoutModel",
          "model_module_version": "1.2.0",
          "state": {
            "_model_module": "@jupyter-widgets/base",
            "_model_module_version": "1.2.0",
            "_model_name": "LayoutModel",
            "_view_count": null,
            "_view_module": "@jupyter-widgets/base",
            "_view_module_version": "1.2.0",
            "_view_name": "LayoutView",
            "align_content": null,
            "align_items": null,
            "align_self": null,
            "border": null,
            "bottom": null,
            "display": "inline-flex",
            "flex": null,
            "flex_flow": "row wrap",
            "grid_area": null,
            "grid_auto_columns": null,
            "grid_auto_flow": null,
            "grid_auto_rows": null,
            "grid_column": null,
            "grid_gap": null,
            "grid_row": null,
            "grid_template_areas": null,
            "grid_template_columns": null,
            "grid_template_rows": null,
            "height": null,
            "justify_content": null,
            "justify_items": null,
            "left": null,
            "margin": null,
            "max_height": null,
            "max_width": null,
            "min_height": null,
            "min_width": null,
            "object_fit": null,
            "object_position": null,
            "order": null,
            "overflow": null,
            "overflow_x": null,
            "overflow_y": null,
            "padding": null,
            "right": null,
            "top": null,
            "visibility": "hidden",
            "width": "100%"
          }
        },
        "172b544b5ad54a41a55f54c530cec949": {
          "model_module": "@jupyter-widgets/base",
          "model_name": "LayoutModel",
          "model_module_version": "1.2.0",
          "state": {
            "_model_module": "@jupyter-widgets/base",
            "_model_module_version": "1.2.0",
            "_model_name": "LayoutModel",
            "_view_count": null,
            "_view_module": "@jupyter-widgets/base",
            "_view_module_version": "1.2.0",
            "_view_name": "LayoutView",
            "align_content": null,
            "align_items": null,
            "align_self": null,
            "border": null,
            "bottom": null,
            "display": null,
            "flex": null,
            "flex_flow": null,
            "grid_area": null,
            "grid_auto_columns": null,
            "grid_auto_flow": null,
            "grid_auto_rows": null,
            "grid_column": null,
            "grid_gap": null,
            "grid_row": null,
            "grid_template_areas": null,
            "grid_template_columns": null,
            "grid_template_rows": null,
            "height": null,
            "justify_content": null,
            "justify_items": null,
            "left": null,
            "margin": null,
            "max_height": null,
            "max_width": null,
            "min_height": null,
            "min_width": null,
            "object_fit": null,
            "object_position": null,
            "order": null,
            "overflow": null,
            "overflow_x": null,
            "overflow_y": null,
            "padding": null,
            "right": null,
            "top": null,
            "visibility": null,
            "width": null
          }
        },
        "d4c6524e67d84c5b9a1647772a021b02": {
          "model_module": "@jupyter-widgets/controls",
          "model_name": "DescriptionStyleModel",
          "model_module_version": "1.5.0",
          "state": {
            "_model_module": "@jupyter-widgets/controls",
            "_model_module_version": "1.5.0",
            "_model_name": "DescriptionStyleModel",
            "_view_count": null,
            "_view_module": "@jupyter-widgets/base",
            "_view_module_version": "1.2.0",
            "_view_name": "StyleView",
            "description_width": ""
          }
        },
        "1182984ccd3148b19c1a055735cf3a96": {
          "model_module": "@jupyter-widgets/base",
          "model_name": "LayoutModel",
          "model_module_version": "1.2.0",
          "state": {
            "_model_module": "@jupyter-widgets/base",
            "_model_module_version": "1.2.0",
            "_model_name": "LayoutModel",
            "_view_count": null,
            "_view_module": "@jupyter-widgets/base",
            "_view_module_version": "1.2.0",
            "_view_name": "LayoutView",
            "align_content": null,
            "align_items": null,
            "align_self": null,
            "border": null,
            "bottom": null,
            "display": null,
            "flex": "2",
            "flex_flow": null,
            "grid_area": null,
            "grid_auto_columns": null,
            "grid_auto_flow": null,
            "grid_auto_rows": null,
            "grid_column": null,
            "grid_gap": null,
            "grid_row": null,
            "grid_template_areas": null,
            "grid_template_columns": null,
            "grid_template_rows": null,
            "height": null,
            "justify_content": null,
            "justify_items": null,
            "left": null,
            "margin": null,
            "max_height": null,
            "max_width": null,
            "min_height": null,
            "min_width": null,
            "object_fit": null,
            "object_position": null,
            "order": null,
            "overflow": null,
            "overflow_x": null,
            "overflow_y": null,
            "padding": null,
            "right": null,
            "top": null,
            "visibility": null,
            "width": null
          }
        },
        "30fa63caf7244f8898bd1da2fe550a0a": {
          "model_module": "@jupyter-widgets/controls",
          "model_name": "ProgressStyleModel",
          "model_module_version": "1.5.0",
          "state": {
            "_model_module": "@jupyter-widgets/controls",
            "_model_module_version": "1.5.0",
            "_model_name": "ProgressStyleModel",
            "_view_count": null,
            "_view_module": "@jupyter-widgets/base",
            "_view_module_version": "1.2.0",
            "_view_name": "StyleView",
            "bar_color": null,
            "description_width": ""
          }
        },
        "0449e06344f84255a2bdf024c3591c13": {
          "model_module": "@jupyter-widgets/base",
          "model_name": "LayoutModel",
          "model_module_version": "1.2.0",
          "state": {
            "_model_module": "@jupyter-widgets/base",
            "_model_module_version": "1.2.0",
            "_model_name": "LayoutModel",
            "_view_count": null,
            "_view_module": "@jupyter-widgets/base",
            "_view_module_version": "1.2.0",
            "_view_name": "LayoutView",
            "align_content": null,
            "align_items": null,
            "align_self": null,
            "border": null,
            "bottom": null,
            "display": null,
            "flex": null,
            "flex_flow": null,
            "grid_area": null,
            "grid_auto_columns": null,
            "grid_auto_flow": null,
            "grid_auto_rows": null,
            "grid_column": null,
            "grid_gap": null,
            "grid_row": null,
            "grid_template_areas": null,
            "grid_template_columns": null,
            "grid_template_rows": null,
            "height": null,
            "justify_content": null,
            "justify_items": null,
            "left": null,
            "margin": null,
            "max_height": null,
            "max_width": null,
            "min_height": null,
            "min_width": null,
            "object_fit": null,
            "object_position": null,
            "order": null,
            "overflow": null,
            "overflow_x": null,
            "overflow_y": null,
            "padding": null,
            "right": null,
            "top": null,
            "visibility": null,
            "width": null
          }
        },
        "2088bb495f24455d901fa0aa88843db0": {
          "model_module": "@jupyter-widgets/controls",
          "model_name": "DescriptionStyleModel",
          "model_module_version": "1.5.0",
          "state": {
            "_model_module": "@jupyter-widgets/controls",
            "_model_module_version": "1.5.0",
            "_model_name": "DescriptionStyleModel",
            "_view_count": null,
            "_view_module": "@jupyter-widgets/base",
            "_view_module_version": "1.2.0",
            "_view_name": "StyleView",
            "description_width": ""
          }
        },
        "a5f19b002ee44a24b9a5555f6caa5b64": {
          "model_module": "@jupyter-widgets/controls",
          "model_name": "HBoxModel",
          "model_module_version": "1.5.0",
          "state": {
            "_dom_classes": [],
            "_model_module": "@jupyter-widgets/controls",
            "_model_module_version": "1.5.0",
            "_model_name": "HBoxModel",
            "_view_count": null,
            "_view_module": "@jupyter-widgets/controls",
            "_view_module_version": "1.5.0",
            "_view_name": "HBoxView",
            "box_style": "",
            "children": [
              "IPY_MODEL_fe7666bb76b6496d96b332209f338110",
              "IPY_MODEL_4c71a45be6774898882c8d857bf4278d",
              "IPY_MODEL_20483815f9254fe9b2a2199483387ce7"
            ],
            "layout": "IPY_MODEL_a4389f932a584dbe8a31e3907d98d29b"
          }
        },
        "fe7666bb76b6496d96b332209f338110": {
          "model_module": "@jupyter-widgets/controls",
          "model_name": "HTMLModel",
          "model_module_version": "1.5.0",
          "state": {
            "_dom_classes": [],
            "_model_module": "@jupyter-widgets/controls",
            "_model_module_version": "1.5.0",
            "_model_name": "HTMLModel",
            "_view_count": null,
            "_view_module": "@jupyter-widgets/controls",
            "_view_module_version": "1.5.0",
            "_view_name": "HTMLView",
            "description": "",
            "description_tooltip": null,
            "layout": "IPY_MODEL_3cfb8e9bafba4e50bc66028302b1eb55",
            "placeholder": "​",
            "style": "IPY_MODEL_16f41620939b4750b31170ce4a64987b",
            "value": "Epoch 2: 100%"
          }
        },
        "4c71a45be6774898882c8d857bf4278d": {
          "model_module": "@jupyter-widgets/controls",
          "model_name": "FloatProgressModel",
          "model_module_version": "1.5.0",
          "state": {
            "_dom_classes": [],
            "_model_module": "@jupyter-widgets/controls",
            "_model_module_version": "1.5.0",
            "_model_name": "FloatProgressModel",
            "_view_count": null,
            "_view_module": "@jupyter-widgets/controls",
            "_view_module_version": "1.5.0",
            "_view_name": "ProgressView",
            "bar_style": "success",
            "description": "",
            "description_tooltip": null,
            "layout": "IPY_MODEL_d153cd2b39a04e51815f20cb169875f9",
            "max": 370,
            "min": 0,
            "orientation": "horizontal",
            "style": "IPY_MODEL_11049b29592a4b0f8c387225b44b3ad3",
            "value": 370
          }
        },
        "20483815f9254fe9b2a2199483387ce7": {
          "model_module": "@jupyter-widgets/controls",
          "model_name": "HTMLModel",
          "model_module_version": "1.5.0",
          "state": {
            "_dom_classes": [],
            "_model_module": "@jupyter-widgets/controls",
            "_model_module_version": "1.5.0",
            "_model_name": "HTMLModel",
            "_view_count": null,
            "_view_module": "@jupyter-widgets/controls",
            "_view_module_version": "1.5.0",
            "_view_name": "HTMLView",
            "description": "",
            "description_tooltip": null,
            "layout": "IPY_MODEL_94e4f26c8ca64e209793bd30305fadb5",
            "placeholder": "​",
            "style": "IPY_MODEL_b58908d745bf41d0aa27637f95041497",
            "value": " 370/370 [02:25&lt;00:00,  2.55it/s, v_num=tmmk, train_loss=0.248]"
          }
        },
        "a4389f932a584dbe8a31e3907d98d29b": {
          "model_module": "@jupyter-widgets/base",
          "model_name": "LayoutModel",
          "model_module_version": "1.2.0",
          "state": {
            "_model_module": "@jupyter-widgets/base",
            "_model_module_version": "1.2.0",
            "_model_name": "LayoutModel",
            "_view_count": null,
            "_view_module": "@jupyter-widgets/base",
            "_view_module_version": "1.2.0",
            "_view_name": "LayoutView",
            "align_content": null,
            "align_items": null,
            "align_self": null,
            "border": null,
            "bottom": null,
            "display": "inline-flex",
            "flex": null,
            "flex_flow": "row wrap",
            "grid_area": null,
            "grid_auto_columns": null,
            "grid_auto_flow": null,
            "grid_auto_rows": null,
            "grid_column": null,
            "grid_gap": null,
            "grid_row": null,
            "grid_template_areas": null,
            "grid_template_columns": null,
            "grid_template_rows": null,
            "height": null,
            "justify_content": null,
            "justify_items": null,
            "left": null,
            "margin": null,
            "max_height": null,
            "max_width": null,
            "min_height": null,
            "min_width": null,
            "object_fit": null,
            "object_position": null,
            "order": null,
            "overflow": null,
            "overflow_x": null,
            "overflow_y": null,
            "padding": null,
            "right": null,
            "top": null,
            "visibility": null,
            "width": "100%"
          }
        },
        "3cfb8e9bafba4e50bc66028302b1eb55": {
          "model_module": "@jupyter-widgets/base",
          "model_name": "LayoutModel",
          "model_module_version": "1.2.0",
          "state": {
            "_model_module": "@jupyter-widgets/base",
            "_model_module_version": "1.2.0",
            "_model_name": "LayoutModel",
            "_view_count": null,
            "_view_module": "@jupyter-widgets/base",
            "_view_module_version": "1.2.0",
            "_view_name": "LayoutView",
            "align_content": null,
            "align_items": null,
            "align_self": null,
            "border": null,
            "bottom": null,
            "display": null,
            "flex": null,
            "flex_flow": null,
            "grid_area": null,
            "grid_auto_columns": null,
            "grid_auto_flow": null,
            "grid_auto_rows": null,
            "grid_column": null,
            "grid_gap": null,
            "grid_row": null,
            "grid_template_areas": null,
            "grid_template_columns": null,
            "grid_template_rows": null,
            "height": null,
            "justify_content": null,
            "justify_items": null,
            "left": null,
            "margin": null,
            "max_height": null,
            "max_width": null,
            "min_height": null,
            "min_width": null,
            "object_fit": null,
            "object_position": null,
            "order": null,
            "overflow": null,
            "overflow_x": null,
            "overflow_y": null,
            "padding": null,
            "right": null,
            "top": null,
            "visibility": null,
            "width": null
          }
        },
        "16f41620939b4750b31170ce4a64987b": {
          "model_module": "@jupyter-widgets/controls",
          "model_name": "DescriptionStyleModel",
          "model_module_version": "1.5.0",
          "state": {
            "_model_module": "@jupyter-widgets/controls",
            "_model_module_version": "1.5.0",
            "_model_name": "DescriptionStyleModel",
            "_view_count": null,
            "_view_module": "@jupyter-widgets/base",
            "_view_module_version": "1.2.0",
            "_view_name": "StyleView",
            "description_width": ""
          }
        },
        "d153cd2b39a04e51815f20cb169875f9": {
          "model_module": "@jupyter-widgets/base",
          "model_name": "LayoutModel",
          "model_module_version": "1.2.0",
          "state": {
            "_model_module": "@jupyter-widgets/base",
            "_model_module_version": "1.2.0",
            "_model_name": "LayoutModel",
            "_view_count": null,
            "_view_module": "@jupyter-widgets/base",
            "_view_module_version": "1.2.0",
            "_view_name": "LayoutView",
            "align_content": null,
            "align_items": null,
            "align_self": null,
            "border": null,
            "bottom": null,
            "display": null,
            "flex": "2",
            "flex_flow": null,
            "grid_area": null,
            "grid_auto_columns": null,
            "grid_auto_flow": null,
            "grid_auto_rows": null,
            "grid_column": null,
            "grid_gap": null,
            "grid_row": null,
            "grid_template_areas": null,
            "grid_template_columns": null,
            "grid_template_rows": null,
            "height": null,
            "justify_content": null,
            "justify_items": null,
            "left": null,
            "margin": null,
            "max_height": null,
            "max_width": null,
            "min_height": null,
            "min_width": null,
            "object_fit": null,
            "object_position": null,
            "order": null,
            "overflow": null,
            "overflow_x": null,
            "overflow_y": null,
            "padding": null,
            "right": null,
            "top": null,
            "visibility": null,
            "width": null
          }
        },
        "11049b29592a4b0f8c387225b44b3ad3": {
          "model_module": "@jupyter-widgets/controls",
          "model_name": "ProgressStyleModel",
          "model_module_version": "1.5.0",
          "state": {
            "_model_module": "@jupyter-widgets/controls",
            "_model_module_version": "1.5.0",
            "_model_name": "ProgressStyleModel",
            "_view_count": null,
            "_view_module": "@jupyter-widgets/base",
            "_view_module_version": "1.2.0",
            "_view_name": "StyleView",
            "bar_color": null,
            "description_width": ""
          }
        },
        "94e4f26c8ca64e209793bd30305fadb5": {
          "model_module": "@jupyter-widgets/base",
          "model_name": "LayoutModel",
          "model_module_version": "1.2.0",
          "state": {
            "_model_module": "@jupyter-widgets/base",
            "_model_module_version": "1.2.0",
            "_model_name": "LayoutModel",
            "_view_count": null,
            "_view_module": "@jupyter-widgets/base",
            "_view_module_version": "1.2.0",
            "_view_name": "LayoutView",
            "align_content": null,
            "align_items": null,
            "align_self": null,
            "border": null,
            "bottom": null,
            "display": null,
            "flex": null,
            "flex_flow": null,
            "grid_area": null,
            "grid_auto_columns": null,
            "grid_auto_flow": null,
            "grid_auto_rows": null,
            "grid_column": null,
            "grid_gap": null,
            "grid_row": null,
            "grid_template_areas": null,
            "grid_template_columns": null,
            "grid_template_rows": null,
            "height": null,
            "justify_content": null,
            "justify_items": null,
            "left": null,
            "margin": null,
            "max_height": null,
            "max_width": null,
            "min_height": null,
            "min_width": null,
            "object_fit": null,
            "object_position": null,
            "order": null,
            "overflow": null,
            "overflow_x": null,
            "overflow_y": null,
            "padding": null,
            "right": null,
            "top": null,
            "visibility": null,
            "width": null
          }
        },
        "b58908d745bf41d0aa27637f95041497": {
          "model_module": "@jupyter-widgets/controls",
          "model_name": "DescriptionStyleModel",
          "model_module_version": "1.5.0",
          "state": {
            "_model_module": "@jupyter-widgets/controls",
            "_model_module_version": "1.5.0",
            "_model_name": "DescriptionStyleModel",
            "_view_count": null,
            "_view_module": "@jupyter-widgets/base",
            "_view_module_version": "1.2.0",
            "_view_name": "StyleView",
            "description_width": ""
          }
        },
        "84ecea63d0c64887b446a2b9b53aa8ed": {
          "model_module": "@jupyter-widgets/controls",
          "model_name": "HBoxModel",
          "model_module_version": "1.5.0",
          "state": {
            "_dom_classes": [],
            "_model_module": "@jupyter-widgets/controls",
            "_model_module_version": "1.5.0",
            "_model_name": "HBoxModel",
            "_view_count": null,
            "_view_module": "@jupyter-widgets/controls",
            "_view_module_version": "1.5.0",
            "_view_name": "HBoxView",
            "box_style": "",
            "children": [
              "IPY_MODEL_98c290a6935b4b07b8e21da090ad78e8",
              "IPY_MODEL_8b93fb7f39a141779375c3a05e71c5ea",
              "IPY_MODEL_c8212cbd9f0c432e89f14b606fba96d7"
            ],
            "layout": "IPY_MODEL_5b9b94bc26a34f649e9de158a0e14d34"
          }
        },
        "98c290a6935b4b07b8e21da090ad78e8": {
          "model_module": "@jupyter-widgets/controls",
          "model_name": "HTMLModel",
          "model_module_version": "1.5.0",
          "state": {
            "_dom_classes": [],
            "_model_module": "@jupyter-widgets/controls",
            "_model_module_version": "1.5.0",
            "_model_name": "HTMLModel",
            "_view_count": null,
            "_view_module": "@jupyter-widgets/controls",
            "_view_module_version": "1.5.0",
            "_view_name": "HTMLView",
            "description": "",
            "description_tooltip": null,
            "layout": "IPY_MODEL_498967d0286b4418950a4d3f96e19c60",
            "placeholder": "​",
            "style": "IPY_MODEL_28103affd41a4b3ea165017f12855861",
            "value": "Validation DataLoader 0: 100%"
          }
        },
        "8b93fb7f39a141779375c3a05e71c5ea": {
          "model_module": "@jupyter-widgets/controls",
          "model_name": "FloatProgressModel",
          "model_module_version": "1.5.0",
          "state": {
            "_dom_classes": [],
            "_model_module": "@jupyter-widgets/controls",
            "_model_module_version": "1.5.0",
            "_model_name": "FloatProgressModel",
            "_view_count": null,
            "_view_module": "@jupyter-widgets/controls",
            "_view_module_version": "1.5.0",
            "_view_name": "ProgressView",
            "bar_style": "",
            "description": "",
            "description_tooltip": null,
            "layout": "IPY_MODEL_1f5caec2e06449db98f6effc7a8ea3c1",
            "max": 68,
            "min": 0,
            "orientation": "horizontal",
            "style": "IPY_MODEL_8770708c67004d0d9b77caa317975182",
            "value": 68
          }
        },
        "c8212cbd9f0c432e89f14b606fba96d7": {
          "model_module": "@jupyter-widgets/controls",
          "model_name": "HTMLModel",
          "model_module_version": "1.5.0",
          "state": {
            "_dom_classes": [],
            "_model_module": "@jupyter-widgets/controls",
            "_model_module_version": "1.5.0",
            "_model_name": "HTMLModel",
            "_view_count": null,
            "_view_module": "@jupyter-widgets/controls",
            "_view_module_version": "1.5.0",
            "_view_name": "HTMLView",
            "description": "",
            "description_tooltip": null,
            "layout": "IPY_MODEL_d269c709f77c40be81a8d92558f169a5",
            "placeholder": "​",
            "style": "IPY_MODEL_ed8814054fd146b48b15466eecbd696c",
            "value": " 68/68 [00:09&lt;00:00,  7.40it/s]"
          }
        },
        "5b9b94bc26a34f649e9de158a0e14d34": {
          "model_module": "@jupyter-widgets/base",
          "model_name": "LayoutModel",
          "model_module_version": "1.2.0",
          "state": {
            "_model_module": "@jupyter-widgets/base",
            "_model_module_version": "1.2.0",
            "_model_name": "LayoutModel",
            "_view_count": null,
            "_view_module": "@jupyter-widgets/base",
            "_view_module_version": "1.2.0",
            "_view_name": "LayoutView",
            "align_content": null,
            "align_items": null,
            "align_self": null,
            "border": null,
            "bottom": null,
            "display": "inline-flex",
            "flex": null,
            "flex_flow": "row wrap",
            "grid_area": null,
            "grid_auto_columns": null,
            "grid_auto_flow": null,
            "grid_auto_rows": null,
            "grid_column": null,
            "grid_gap": null,
            "grid_row": null,
            "grid_template_areas": null,
            "grid_template_columns": null,
            "grid_template_rows": null,
            "height": null,
            "justify_content": null,
            "justify_items": null,
            "left": null,
            "margin": null,
            "max_height": null,
            "max_width": null,
            "min_height": null,
            "min_width": null,
            "object_fit": null,
            "object_position": null,
            "order": null,
            "overflow": null,
            "overflow_x": null,
            "overflow_y": null,
            "padding": null,
            "right": null,
            "top": null,
            "visibility": "hidden",
            "width": "100%"
          }
        },
        "498967d0286b4418950a4d3f96e19c60": {
          "model_module": "@jupyter-widgets/base",
          "model_name": "LayoutModel",
          "model_module_version": "1.2.0",
          "state": {
            "_model_module": "@jupyter-widgets/base",
            "_model_module_version": "1.2.0",
            "_model_name": "LayoutModel",
            "_view_count": null,
            "_view_module": "@jupyter-widgets/base",
            "_view_module_version": "1.2.0",
            "_view_name": "LayoutView",
            "align_content": null,
            "align_items": null,
            "align_self": null,
            "border": null,
            "bottom": null,
            "display": null,
            "flex": null,
            "flex_flow": null,
            "grid_area": null,
            "grid_auto_columns": null,
            "grid_auto_flow": null,
            "grid_auto_rows": null,
            "grid_column": null,
            "grid_gap": null,
            "grid_row": null,
            "grid_template_areas": null,
            "grid_template_columns": null,
            "grid_template_rows": null,
            "height": null,
            "justify_content": null,
            "justify_items": null,
            "left": null,
            "margin": null,
            "max_height": null,
            "max_width": null,
            "min_height": null,
            "min_width": null,
            "object_fit": null,
            "object_position": null,
            "order": null,
            "overflow": null,
            "overflow_x": null,
            "overflow_y": null,
            "padding": null,
            "right": null,
            "top": null,
            "visibility": null,
            "width": null
          }
        },
        "28103affd41a4b3ea165017f12855861": {
          "model_module": "@jupyter-widgets/controls",
          "model_name": "DescriptionStyleModel",
          "model_module_version": "1.5.0",
          "state": {
            "_model_module": "@jupyter-widgets/controls",
            "_model_module_version": "1.5.0",
            "_model_name": "DescriptionStyleModel",
            "_view_count": null,
            "_view_module": "@jupyter-widgets/base",
            "_view_module_version": "1.2.0",
            "_view_name": "StyleView",
            "description_width": ""
          }
        },
        "1f5caec2e06449db98f6effc7a8ea3c1": {
          "model_module": "@jupyter-widgets/base",
          "model_name": "LayoutModel",
          "model_module_version": "1.2.0",
          "state": {
            "_model_module": "@jupyter-widgets/base",
            "_model_module_version": "1.2.0",
            "_model_name": "LayoutModel",
            "_view_count": null,
            "_view_module": "@jupyter-widgets/base",
            "_view_module_version": "1.2.0",
            "_view_name": "LayoutView",
            "align_content": null,
            "align_items": null,
            "align_self": null,
            "border": null,
            "bottom": null,
            "display": null,
            "flex": "2",
            "flex_flow": null,
            "grid_area": null,
            "grid_auto_columns": null,
            "grid_auto_flow": null,
            "grid_auto_rows": null,
            "grid_column": null,
            "grid_gap": null,
            "grid_row": null,
            "grid_template_areas": null,
            "grid_template_columns": null,
            "grid_template_rows": null,
            "height": null,
            "justify_content": null,
            "justify_items": null,
            "left": null,
            "margin": null,
            "max_height": null,
            "max_width": null,
            "min_height": null,
            "min_width": null,
            "object_fit": null,
            "object_position": null,
            "order": null,
            "overflow": null,
            "overflow_x": null,
            "overflow_y": null,
            "padding": null,
            "right": null,
            "top": null,
            "visibility": null,
            "width": null
          }
        },
        "8770708c67004d0d9b77caa317975182": {
          "model_module": "@jupyter-widgets/controls",
          "model_name": "ProgressStyleModel",
          "model_module_version": "1.5.0",
          "state": {
            "_model_module": "@jupyter-widgets/controls",
            "_model_module_version": "1.5.0",
            "_model_name": "ProgressStyleModel",
            "_view_count": null,
            "_view_module": "@jupyter-widgets/base",
            "_view_module_version": "1.2.0",
            "_view_name": "StyleView",
            "bar_color": null,
            "description_width": ""
          }
        },
        "d269c709f77c40be81a8d92558f169a5": {
          "model_module": "@jupyter-widgets/base",
          "model_name": "LayoutModel",
          "model_module_version": "1.2.0",
          "state": {
            "_model_module": "@jupyter-widgets/base",
            "_model_module_version": "1.2.0",
            "_model_name": "LayoutModel",
            "_view_count": null,
            "_view_module": "@jupyter-widgets/base",
            "_view_module_version": "1.2.0",
            "_view_name": "LayoutView",
            "align_content": null,
            "align_items": null,
            "align_self": null,
            "border": null,
            "bottom": null,
            "display": null,
            "flex": null,
            "flex_flow": null,
            "grid_area": null,
            "grid_auto_columns": null,
            "grid_auto_flow": null,
            "grid_auto_rows": null,
            "grid_column": null,
            "grid_gap": null,
            "grid_row": null,
            "grid_template_areas": null,
            "grid_template_columns": null,
            "grid_template_rows": null,
            "height": null,
            "justify_content": null,
            "justify_items": null,
            "left": null,
            "margin": null,
            "max_height": null,
            "max_width": null,
            "min_height": null,
            "min_width": null,
            "object_fit": null,
            "object_position": null,
            "order": null,
            "overflow": null,
            "overflow_x": null,
            "overflow_y": null,
            "padding": null,
            "right": null,
            "top": null,
            "visibility": null,
            "width": null
          }
        },
        "ed8814054fd146b48b15466eecbd696c": {
          "model_module": "@jupyter-widgets/controls",
          "model_name": "DescriptionStyleModel",
          "model_module_version": "1.5.0",
          "state": {
            "_model_module": "@jupyter-widgets/controls",
            "_model_module_version": "1.5.0",
            "_model_name": "DescriptionStyleModel",
            "_view_count": null,
            "_view_module": "@jupyter-widgets/base",
            "_view_module_version": "1.2.0",
            "_view_name": "StyleView",
            "description_width": ""
          }
        },
        "196479abdffa41b18f26ced60d09364b": {
          "model_module": "@jupyter-widgets/controls",
          "model_name": "HBoxModel",
          "model_module_version": "1.5.0",
          "state": {
            "_dom_classes": [],
            "_model_module": "@jupyter-widgets/controls",
            "_model_module_version": "1.5.0",
            "_model_name": "HBoxModel",
            "_view_count": null,
            "_view_module": "@jupyter-widgets/controls",
            "_view_module_version": "1.5.0",
            "_view_name": "HBoxView",
            "box_style": "",
            "children": [
              "IPY_MODEL_ffd3c24e28b642c49e1e3ee9d76e972a",
              "IPY_MODEL_052ed141a68d48e3a99bf39c6a8fdbdb",
              "IPY_MODEL_ff4338e5b79a46d393608a64e33e50ec"
            ],
            "layout": "IPY_MODEL_09db170133ef4216871e3427d088c484"
          }
        },
        "ffd3c24e28b642c49e1e3ee9d76e972a": {
          "model_module": "@jupyter-widgets/controls",
          "model_name": "HTMLModel",
          "model_module_version": "1.5.0",
          "state": {
            "_dom_classes": [],
            "_model_module": "@jupyter-widgets/controls",
            "_model_module_version": "1.5.0",
            "_model_name": "HTMLModel",
            "_view_count": null,
            "_view_module": "@jupyter-widgets/controls",
            "_view_module_version": "1.5.0",
            "_view_name": "HTMLView",
            "description": "",
            "description_tooltip": null,
            "layout": "IPY_MODEL_07fa404ab1ac4a45ac51eab1db1d8c71",
            "placeholder": "​",
            "style": "IPY_MODEL_87c9bcc6339b4db5a7c3bf4190adcf89",
            "value": "Validation DataLoader 0: 100%"
          }
        },
        "052ed141a68d48e3a99bf39c6a8fdbdb": {
          "model_module": "@jupyter-widgets/controls",
          "model_name": "FloatProgressModel",
          "model_module_version": "1.5.0",
          "state": {
            "_dom_classes": [],
            "_model_module": "@jupyter-widgets/controls",
            "_model_module_version": "1.5.0",
            "_model_name": "FloatProgressModel",
            "_view_count": null,
            "_view_module": "@jupyter-widgets/controls",
            "_view_module_version": "1.5.0",
            "_view_name": "ProgressView",
            "bar_style": "",
            "description": "",
            "description_tooltip": null,
            "layout": "IPY_MODEL_be25e1079a1b40999e711eca58739738",
            "max": 68,
            "min": 0,
            "orientation": "horizontal",
            "style": "IPY_MODEL_9cf9969d15404017a169090454cb6a3f",
            "value": 68
          }
        },
        "ff4338e5b79a46d393608a64e33e50ec": {
          "model_module": "@jupyter-widgets/controls",
          "model_name": "HTMLModel",
          "model_module_version": "1.5.0",
          "state": {
            "_dom_classes": [],
            "_model_module": "@jupyter-widgets/controls",
            "_model_module_version": "1.5.0",
            "_model_name": "HTMLModel",
            "_view_count": null,
            "_view_module": "@jupyter-widgets/controls",
            "_view_module_version": "1.5.0",
            "_view_name": "HTMLView",
            "description": "",
            "description_tooltip": null,
            "layout": "IPY_MODEL_2ecad7a1d5904f63a000fdb2d2180ca2",
            "placeholder": "​",
            "style": "IPY_MODEL_b4a6c78f76c34274a1e04dddf106bf48",
            "value": " 68/68 [00:08&lt;00:00,  8.49it/s]"
          }
        },
        "09db170133ef4216871e3427d088c484": {
          "model_module": "@jupyter-widgets/base",
          "model_name": "LayoutModel",
          "model_module_version": "1.2.0",
          "state": {
            "_model_module": "@jupyter-widgets/base",
            "_model_module_version": "1.2.0",
            "_model_name": "LayoutModel",
            "_view_count": null,
            "_view_module": "@jupyter-widgets/base",
            "_view_module_version": "1.2.0",
            "_view_name": "LayoutView",
            "align_content": null,
            "align_items": null,
            "align_self": null,
            "border": null,
            "bottom": null,
            "display": "inline-flex",
            "flex": null,
            "flex_flow": "row wrap",
            "grid_area": null,
            "grid_auto_columns": null,
            "grid_auto_flow": null,
            "grid_auto_rows": null,
            "grid_column": null,
            "grid_gap": null,
            "grid_row": null,
            "grid_template_areas": null,
            "grid_template_columns": null,
            "grid_template_rows": null,
            "height": null,
            "justify_content": null,
            "justify_items": null,
            "left": null,
            "margin": null,
            "max_height": null,
            "max_width": null,
            "min_height": null,
            "min_width": null,
            "object_fit": null,
            "object_position": null,
            "order": null,
            "overflow": null,
            "overflow_x": null,
            "overflow_y": null,
            "padding": null,
            "right": null,
            "top": null,
            "visibility": "hidden",
            "width": "100%"
          }
        },
        "07fa404ab1ac4a45ac51eab1db1d8c71": {
          "model_module": "@jupyter-widgets/base",
          "model_name": "LayoutModel",
          "model_module_version": "1.2.0",
          "state": {
            "_model_module": "@jupyter-widgets/base",
            "_model_module_version": "1.2.0",
            "_model_name": "LayoutModel",
            "_view_count": null,
            "_view_module": "@jupyter-widgets/base",
            "_view_module_version": "1.2.0",
            "_view_name": "LayoutView",
            "align_content": null,
            "align_items": null,
            "align_self": null,
            "border": null,
            "bottom": null,
            "display": null,
            "flex": null,
            "flex_flow": null,
            "grid_area": null,
            "grid_auto_columns": null,
            "grid_auto_flow": null,
            "grid_auto_rows": null,
            "grid_column": null,
            "grid_gap": null,
            "grid_row": null,
            "grid_template_areas": null,
            "grid_template_columns": null,
            "grid_template_rows": null,
            "height": null,
            "justify_content": null,
            "justify_items": null,
            "left": null,
            "margin": null,
            "max_height": null,
            "max_width": null,
            "min_height": null,
            "min_width": null,
            "object_fit": null,
            "object_position": null,
            "order": null,
            "overflow": null,
            "overflow_x": null,
            "overflow_y": null,
            "padding": null,
            "right": null,
            "top": null,
            "visibility": null,
            "width": null
          }
        },
        "87c9bcc6339b4db5a7c3bf4190adcf89": {
          "model_module": "@jupyter-widgets/controls",
          "model_name": "DescriptionStyleModel",
          "model_module_version": "1.5.0",
          "state": {
            "_model_module": "@jupyter-widgets/controls",
            "_model_module_version": "1.5.0",
            "_model_name": "DescriptionStyleModel",
            "_view_count": null,
            "_view_module": "@jupyter-widgets/base",
            "_view_module_version": "1.2.0",
            "_view_name": "StyleView",
            "description_width": ""
          }
        },
        "be25e1079a1b40999e711eca58739738": {
          "model_module": "@jupyter-widgets/base",
          "model_name": "LayoutModel",
          "model_module_version": "1.2.0",
          "state": {
            "_model_module": "@jupyter-widgets/base",
            "_model_module_version": "1.2.0",
            "_model_name": "LayoutModel",
            "_view_count": null,
            "_view_module": "@jupyter-widgets/base",
            "_view_module_version": "1.2.0",
            "_view_name": "LayoutView",
            "align_content": null,
            "align_items": null,
            "align_self": null,
            "border": null,
            "bottom": null,
            "display": null,
            "flex": "2",
            "flex_flow": null,
            "grid_area": null,
            "grid_auto_columns": null,
            "grid_auto_flow": null,
            "grid_auto_rows": null,
            "grid_column": null,
            "grid_gap": null,
            "grid_row": null,
            "grid_template_areas": null,
            "grid_template_columns": null,
            "grid_template_rows": null,
            "height": null,
            "justify_content": null,
            "justify_items": null,
            "left": null,
            "margin": null,
            "max_height": null,
            "max_width": null,
            "min_height": null,
            "min_width": null,
            "object_fit": null,
            "object_position": null,
            "order": null,
            "overflow": null,
            "overflow_x": null,
            "overflow_y": null,
            "padding": null,
            "right": null,
            "top": null,
            "visibility": null,
            "width": null
          }
        },
        "9cf9969d15404017a169090454cb6a3f": {
          "model_module": "@jupyter-widgets/controls",
          "model_name": "ProgressStyleModel",
          "model_module_version": "1.5.0",
          "state": {
            "_model_module": "@jupyter-widgets/controls",
            "_model_module_version": "1.5.0",
            "_model_name": "ProgressStyleModel",
            "_view_count": null,
            "_view_module": "@jupyter-widgets/base",
            "_view_module_version": "1.2.0",
            "_view_name": "StyleView",
            "bar_color": null,
            "description_width": ""
          }
        },
        "2ecad7a1d5904f63a000fdb2d2180ca2": {
          "model_module": "@jupyter-widgets/base",
          "model_name": "LayoutModel",
          "model_module_version": "1.2.0",
          "state": {
            "_model_module": "@jupyter-widgets/base",
            "_model_module_version": "1.2.0",
            "_model_name": "LayoutModel",
            "_view_count": null,
            "_view_module": "@jupyter-widgets/base",
            "_view_module_version": "1.2.0",
            "_view_name": "LayoutView",
            "align_content": null,
            "align_items": null,
            "align_self": null,
            "border": null,
            "bottom": null,
            "display": null,
            "flex": null,
            "flex_flow": null,
            "grid_area": null,
            "grid_auto_columns": null,
            "grid_auto_flow": null,
            "grid_auto_rows": null,
            "grid_column": null,
            "grid_gap": null,
            "grid_row": null,
            "grid_template_areas": null,
            "grid_template_columns": null,
            "grid_template_rows": null,
            "height": null,
            "justify_content": null,
            "justify_items": null,
            "left": null,
            "margin": null,
            "max_height": null,
            "max_width": null,
            "min_height": null,
            "min_width": null,
            "object_fit": null,
            "object_position": null,
            "order": null,
            "overflow": null,
            "overflow_x": null,
            "overflow_y": null,
            "padding": null,
            "right": null,
            "top": null,
            "visibility": null,
            "width": null
          }
        },
        "b4a6c78f76c34274a1e04dddf106bf48": {
          "model_module": "@jupyter-widgets/controls",
          "model_name": "DescriptionStyleModel",
          "model_module_version": "1.5.0",
          "state": {
            "_model_module": "@jupyter-widgets/controls",
            "_model_module_version": "1.5.0",
            "_model_name": "DescriptionStyleModel",
            "_view_count": null,
            "_view_module": "@jupyter-widgets/base",
            "_view_module_version": "1.2.0",
            "_view_name": "StyleView",
            "description_width": ""
          }
        },
        "6699ad8907294ad8870aca4ad594d87a": {
          "model_module": "@jupyter-widgets/controls",
          "model_name": "HBoxModel",
          "model_module_version": "1.5.0",
          "state": {
            "_dom_classes": [],
            "_model_module": "@jupyter-widgets/controls",
            "_model_module_version": "1.5.0",
            "_model_name": "HBoxModel",
            "_view_count": null,
            "_view_module": "@jupyter-widgets/controls",
            "_view_module_version": "1.5.0",
            "_view_name": "HBoxView",
            "box_style": "",
            "children": [
              "IPY_MODEL_b60e05662bfa47ac9b50618b83dd22d8",
              "IPY_MODEL_44b25eb90e72470793c72f0b836cce19",
              "IPY_MODEL_b9e3253767a24c03bec1191d94791a65"
            ],
            "layout": "IPY_MODEL_21a0c7139df54d5a818d14df6ceb7d97"
          }
        },
        "b60e05662bfa47ac9b50618b83dd22d8": {
          "model_module": "@jupyter-widgets/controls",
          "model_name": "HTMLModel",
          "model_module_version": "1.5.0",
          "state": {
            "_dom_classes": [],
            "_model_module": "@jupyter-widgets/controls",
            "_model_module_version": "1.5.0",
            "_model_name": "HTMLModel",
            "_view_count": null,
            "_view_module": "@jupyter-widgets/controls",
            "_view_module_version": "1.5.0",
            "_view_name": "HTMLView",
            "description": "",
            "description_tooltip": null,
            "layout": "IPY_MODEL_01252f3168484307b94348b79408e921",
            "placeholder": "​",
            "style": "IPY_MODEL_7ab635e207884c379cba4bc2d4802724",
            "value": "Validation DataLoader 0: 100%"
          }
        },
        "44b25eb90e72470793c72f0b836cce19": {
          "model_module": "@jupyter-widgets/controls",
          "model_name": "FloatProgressModel",
          "model_module_version": "1.5.0",
          "state": {
            "_dom_classes": [],
            "_model_module": "@jupyter-widgets/controls",
            "_model_module_version": "1.5.0",
            "_model_name": "FloatProgressModel",
            "_view_count": null,
            "_view_module": "@jupyter-widgets/controls",
            "_view_module_version": "1.5.0",
            "_view_name": "ProgressView",
            "bar_style": "",
            "description": "",
            "description_tooltip": null,
            "layout": "IPY_MODEL_32b6ab1774b64552aef0a72bbabf9f91",
            "max": 68,
            "min": 0,
            "orientation": "horizontal",
            "style": "IPY_MODEL_82ff344e34a84fd48624d83b063eb1d3",
            "value": 68
          }
        },
        "b9e3253767a24c03bec1191d94791a65": {
          "model_module": "@jupyter-widgets/controls",
          "model_name": "HTMLModel",
          "model_module_version": "1.5.0",
          "state": {
            "_dom_classes": [],
            "_model_module": "@jupyter-widgets/controls",
            "_model_module_version": "1.5.0",
            "_model_name": "HTMLModel",
            "_view_count": null,
            "_view_module": "@jupyter-widgets/controls",
            "_view_module_version": "1.5.0",
            "_view_name": "HTMLView",
            "description": "",
            "description_tooltip": null,
            "layout": "IPY_MODEL_f7c18e068c3a4931a09cde302e8d3c82",
            "placeholder": "​",
            "style": "IPY_MODEL_79b274465b2a4f568d38d12c3f61f4ef",
            "value": " 68/68 [00:09&lt;00:00,  7.49it/s]"
          }
        },
        "21a0c7139df54d5a818d14df6ceb7d97": {
          "model_module": "@jupyter-widgets/base",
          "model_name": "LayoutModel",
          "model_module_version": "1.2.0",
          "state": {
            "_model_module": "@jupyter-widgets/base",
            "_model_module_version": "1.2.0",
            "_model_name": "LayoutModel",
            "_view_count": null,
            "_view_module": "@jupyter-widgets/base",
            "_view_module_version": "1.2.0",
            "_view_name": "LayoutView",
            "align_content": null,
            "align_items": null,
            "align_self": null,
            "border": null,
            "bottom": null,
            "display": "inline-flex",
            "flex": null,
            "flex_flow": "row wrap",
            "grid_area": null,
            "grid_auto_columns": null,
            "grid_auto_flow": null,
            "grid_auto_rows": null,
            "grid_column": null,
            "grid_gap": null,
            "grid_row": null,
            "grid_template_areas": null,
            "grid_template_columns": null,
            "grid_template_rows": null,
            "height": null,
            "justify_content": null,
            "justify_items": null,
            "left": null,
            "margin": null,
            "max_height": null,
            "max_width": null,
            "min_height": null,
            "min_width": null,
            "object_fit": null,
            "object_position": null,
            "order": null,
            "overflow": null,
            "overflow_x": null,
            "overflow_y": null,
            "padding": null,
            "right": null,
            "top": null,
            "visibility": "hidden",
            "width": "100%"
          }
        },
        "01252f3168484307b94348b79408e921": {
          "model_module": "@jupyter-widgets/base",
          "model_name": "LayoutModel",
          "model_module_version": "1.2.0",
          "state": {
            "_model_module": "@jupyter-widgets/base",
            "_model_module_version": "1.2.0",
            "_model_name": "LayoutModel",
            "_view_count": null,
            "_view_module": "@jupyter-widgets/base",
            "_view_module_version": "1.2.0",
            "_view_name": "LayoutView",
            "align_content": null,
            "align_items": null,
            "align_self": null,
            "border": null,
            "bottom": null,
            "display": null,
            "flex": null,
            "flex_flow": null,
            "grid_area": null,
            "grid_auto_columns": null,
            "grid_auto_flow": null,
            "grid_auto_rows": null,
            "grid_column": null,
            "grid_gap": null,
            "grid_row": null,
            "grid_template_areas": null,
            "grid_template_columns": null,
            "grid_template_rows": null,
            "height": null,
            "justify_content": null,
            "justify_items": null,
            "left": null,
            "margin": null,
            "max_height": null,
            "max_width": null,
            "min_height": null,
            "min_width": null,
            "object_fit": null,
            "object_position": null,
            "order": null,
            "overflow": null,
            "overflow_x": null,
            "overflow_y": null,
            "padding": null,
            "right": null,
            "top": null,
            "visibility": null,
            "width": null
          }
        },
        "7ab635e207884c379cba4bc2d4802724": {
          "model_module": "@jupyter-widgets/controls",
          "model_name": "DescriptionStyleModel",
          "model_module_version": "1.5.0",
          "state": {
            "_model_module": "@jupyter-widgets/controls",
            "_model_module_version": "1.5.0",
            "_model_name": "DescriptionStyleModel",
            "_view_count": null,
            "_view_module": "@jupyter-widgets/base",
            "_view_module_version": "1.2.0",
            "_view_name": "StyleView",
            "description_width": ""
          }
        },
        "32b6ab1774b64552aef0a72bbabf9f91": {
          "model_module": "@jupyter-widgets/base",
          "model_name": "LayoutModel",
          "model_module_version": "1.2.0",
          "state": {
            "_model_module": "@jupyter-widgets/base",
            "_model_module_version": "1.2.0",
            "_model_name": "LayoutModel",
            "_view_count": null,
            "_view_module": "@jupyter-widgets/base",
            "_view_module_version": "1.2.0",
            "_view_name": "LayoutView",
            "align_content": null,
            "align_items": null,
            "align_self": null,
            "border": null,
            "bottom": null,
            "display": null,
            "flex": "2",
            "flex_flow": null,
            "grid_area": null,
            "grid_auto_columns": null,
            "grid_auto_flow": null,
            "grid_auto_rows": null,
            "grid_column": null,
            "grid_gap": null,
            "grid_row": null,
            "grid_template_areas": null,
            "grid_template_columns": null,
            "grid_template_rows": null,
            "height": null,
            "justify_content": null,
            "justify_items": null,
            "left": null,
            "margin": null,
            "max_height": null,
            "max_width": null,
            "min_height": null,
            "min_width": null,
            "object_fit": null,
            "object_position": null,
            "order": null,
            "overflow": null,
            "overflow_x": null,
            "overflow_y": null,
            "padding": null,
            "right": null,
            "top": null,
            "visibility": null,
            "width": null
          }
        },
        "82ff344e34a84fd48624d83b063eb1d3": {
          "model_module": "@jupyter-widgets/controls",
          "model_name": "ProgressStyleModel",
          "model_module_version": "1.5.0",
          "state": {
            "_model_module": "@jupyter-widgets/controls",
            "_model_module_version": "1.5.0",
            "_model_name": "ProgressStyleModel",
            "_view_count": null,
            "_view_module": "@jupyter-widgets/base",
            "_view_module_version": "1.2.0",
            "_view_name": "StyleView",
            "bar_color": null,
            "description_width": ""
          }
        },
        "f7c18e068c3a4931a09cde302e8d3c82": {
          "model_module": "@jupyter-widgets/base",
          "model_name": "LayoutModel",
          "model_module_version": "1.2.0",
          "state": {
            "_model_module": "@jupyter-widgets/base",
            "_model_module_version": "1.2.0",
            "_model_name": "LayoutModel",
            "_view_count": null,
            "_view_module": "@jupyter-widgets/base",
            "_view_module_version": "1.2.0",
            "_view_name": "LayoutView",
            "align_content": null,
            "align_items": null,
            "align_self": null,
            "border": null,
            "bottom": null,
            "display": null,
            "flex": null,
            "flex_flow": null,
            "grid_area": null,
            "grid_auto_columns": null,
            "grid_auto_flow": null,
            "grid_auto_rows": null,
            "grid_column": null,
            "grid_gap": null,
            "grid_row": null,
            "grid_template_areas": null,
            "grid_template_columns": null,
            "grid_template_rows": null,
            "height": null,
            "justify_content": null,
            "justify_items": null,
            "left": null,
            "margin": null,
            "max_height": null,
            "max_width": null,
            "min_height": null,
            "min_width": null,
            "object_fit": null,
            "object_position": null,
            "order": null,
            "overflow": null,
            "overflow_x": null,
            "overflow_y": null,
            "padding": null,
            "right": null,
            "top": null,
            "visibility": null,
            "width": null
          }
        },
        "79b274465b2a4f568d38d12c3f61f4ef": {
          "model_module": "@jupyter-widgets/controls",
          "model_name": "DescriptionStyleModel",
          "model_module_version": "1.5.0",
          "state": {
            "_model_module": "@jupyter-widgets/controls",
            "_model_module_version": "1.5.0",
            "_model_name": "DescriptionStyleModel",
            "_view_count": null,
            "_view_module": "@jupyter-widgets/base",
            "_view_module_version": "1.2.0",
            "_view_name": "StyleView",
            "description_width": ""
          }
        },
        "d088946188db457f8432936807a7304b": {
          "model_module": "@jupyter-widgets/controls",
          "model_name": "HBoxModel",
          "model_module_version": "1.5.0",
          "state": {
            "_dom_classes": [],
            "_model_module": "@jupyter-widgets/controls",
            "_model_module_version": "1.5.0",
            "_model_name": "HBoxModel",
            "_view_count": null,
            "_view_module": "@jupyter-widgets/controls",
            "_view_module_version": "1.5.0",
            "_view_name": "HBoxView",
            "box_style": "",
            "children": [
              "IPY_MODEL_738e15a54933445ab6036263e7b68ab8",
              "IPY_MODEL_b860102507f7452b9509a669054cf080",
              "IPY_MODEL_dc1b2a90ee83417aad13d6b8dcea947c"
            ],
            "layout": "IPY_MODEL_3898b1504b8346438d0d3f09451de6a0"
          }
        },
        "738e15a54933445ab6036263e7b68ab8": {
          "model_module": "@jupyter-widgets/controls",
          "model_name": "HTMLModel",
          "model_module_version": "1.5.0",
          "state": {
            "_dom_classes": [],
            "_model_module": "@jupyter-widgets/controls",
            "_model_module_version": "1.5.0",
            "_model_name": "HTMLModel",
            "_view_count": null,
            "_view_module": "@jupyter-widgets/controls",
            "_view_module_version": "1.5.0",
            "_view_name": "HTMLView",
            "description": "",
            "description_tooltip": null,
            "layout": "IPY_MODEL_62ac5e65a9ae4561b54961541474fc29",
            "placeholder": "​",
            "style": "IPY_MODEL_d70bf03874484e789758ef8b17c3ce42",
            "value": "Predicting DataLoader 0: 100%"
          }
        },
        "b860102507f7452b9509a669054cf080": {
          "model_module": "@jupyter-widgets/controls",
          "model_name": "FloatProgressModel",
          "model_module_version": "1.5.0",
          "state": {
            "_dom_classes": [],
            "_model_module": "@jupyter-widgets/controls",
            "_model_module_version": "1.5.0",
            "_model_name": "FloatProgressModel",
            "_view_count": null,
            "_view_module": "@jupyter-widgets/controls",
            "_view_module_version": "1.5.0",
            "_view_name": "ProgressView",
            "bar_style": "success",
            "description": "",
            "description_tooltip": null,
            "layout": "IPY_MODEL_7bc72ce528a24dd5a7a2860ec4da7ad2",
            "max": 270,
            "min": 0,
            "orientation": "horizontal",
            "style": "IPY_MODEL_da87253a1aed48d9a4e215b60e832468",
            "value": 270
          }
        },
        "dc1b2a90ee83417aad13d6b8dcea947c": {
          "model_module": "@jupyter-widgets/controls",
          "model_name": "HTMLModel",
          "model_module_version": "1.5.0",
          "state": {
            "_dom_classes": [],
            "_model_module": "@jupyter-widgets/controls",
            "_model_module_version": "1.5.0",
            "_model_name": "HTMLModel",
            "_view_count": null,
            "_view_module": "@jupyter-widgets/controls",
            "_view_module_version": "1.5.0",
            "_view_name": "HTMLView",
            "description": "",
            "description_tooltip": null,
            "layout": "IPY_MODEL_2e00c6142e81475796dce2d268384ca0",
            "placeholder": "​",
            "style": "IPY_MODEL_97c1b78e5c204a398f5868552b510c02",
            "value": " 270/270 [00:31&lt;00:00,  8.52it/s]"
          }
        },
        "3898b1504b8346438d0d3f09451de6a0": {
          "model_module": "@jupyter-widgets/base",
          "model_name": "LayoutModel",
          "model_module_version": "1.2.0",
          "state": {
            "_model_module": "@jupyter-widgets/base",
            "_model_module_version": "1.2.0",
            "_model_name": "LayoutModel",
            "_view_count": null,
            "_view_module": "@jupyter-widgets/base",
            "_view_module_version": "1.2.0",
            "_view_name": "LayoutView",
            "align_content": null,
            "align_items": null,
            "align_self": null,
            "border": null,
            "bottom": null,
            "display": "inline-flex",
            "flex": null,
            "flex_flow": "row wrap",
            "grid_area": null,
            "grid_auto_columns": null,
            "grid_auto_flow": null,
            "grid_auto_rows": null,
            "grid_column": null,
            "grid_gap": null,
            "grid_row": null,
            "grid_template_areas": null,
            "grid_template_columns": null,
            "grid_template_rows": null,
            "height": null,
            "justify_content": null,
            "justify_items": null,
            "left": null,
            "margin": null,
            "max_height": null,
            "max_width": null,
            "min_height": null,
            "min_width": null,
            "object_fit": null,
            "object_position": null,
            "order": null,
            "overflow": null,
            "overflow_x": null,
            "overflow_y": null,
            "padding": null,
            "right": null,
            "top": null,
            "visibility": null,
            "width": "100%"
          }
        },
        "62ac5e65a9ae4561b54961541474fc29": {
          "model_module": "@jupyter-widgets/base",
          "model_name": "LayoutModel",
          "model_module_version": "1.2.0",
          "state": {
            "_model_module": "@jupyter-widgets/base",
            "_model_module_version": "1.2.0",
            "_model_name": "LayoutModel",
            "_view_count": null,
            "_view_module": "@jupyter-widgets/base",
            "_view_module_version": "1.2.0",
            "_view_name": "LayoutView",
            "align_content": null,
            "align_items": null,
            "align_self": null,
            "border": null,
            "bottom": null,
            "display": null,
            "flex": null,
            "flex_flow": null,
            "grid_area": null,
            "grid_auto_columns": null,
            "grid_auto_flow": null,
            "grid_auto_rows": null,
            "grid_column": null,
            "grid_gap": null,
            "grid_row": null,
            "grid_template_areas": null,
            "grid_template_columns": null,
            "grid_template_rows": null,
            "height": null,
            "justify_content": null,
            "justify_items": null,
            "left": null,
            "margin": null,
            "max_height": null,
            "max_width": null,
            "min_height": null,
            "min_width": null,
            "object_fit": null,
            "object_position": null,
            "order": null,
            "overflow": null,
            "overflow_x": null,
            "overflow_y": null,
            "padding": null,
            "right": null,
            "top": null,
            "visibility": null,
            "width": null
          }
        },
        "d70bf03874484e789758ef8b17c3ce42": {
          "model_module": "@jupyter-widgets/controls",
          "model_name": "DescriptionStyleModel",
          "model_module_version": "1.5.0",
          "state": {
            "_model_module": "@jupyter-widgets/controls",
            "_model_module_version": "1.5.0",
            "_model_name": "DescriptionStyleModel",
            "_view_count": null,
            "_view_module": "@jupyter-widgets/base",
            "_view_module_version": "1.2.0",
            "_view_name": "StyleView",
            "description_width": ""
          }
        },
        "7bc72ce528a24dd5a7a2860ec4da7ad2": {
          "model_module": "@jupyter-widgets/base",
          "model_name": "LayoutModel",
          "model_module_version": "1.2.0",
          "state": {
            "_model_module": "@jupyter-widgets/base",
            "_model_module_version": "1.2.0",
            "_model_name": "LayoutModel",
            "_view_count": null,
            "_view_module": "@jupyter-widgets/base",
            "_view_module_version": "1.2.0",
            "_view_name": "LayoutView",
            "align_content": null,
            "align_items": null,
            "align_self": null,
            "border": null,
            "bottom": null,
            "display": null,
            "flex": "2",
            "flex_flow": null,
            "grid_area": null,
            "grid_auto_columns": null,
            "grid_auto_flow": null,
            "grid_auto_rows": null,
            "grid_column": null,
            "grid_gap": null,
            "grid_row": null,
            "grid_template_areas": null,
            "grid_template_columns": null,
            "grid_template_rows": null,
            "height": null,
            "justify_content": null,
            "justify_items": null,
            "left": null,
            "margin": null,
            "max_height": null,
            "max_width": null,
            "min_height": null,
            "min_width": null,
            "object_fit": null,
            "object_position": null,
            "order": null,
            "overflow": null,
            "overflow_x": null,
            "overflow_y": null,
            "padding": null,
            "right": null,
            "top": null,
            "visibility": null,
            "width": null
          }
        },
        "da87253a1aed48d9a4e215b60e832468": {
          "model_module": "@jupyter-widgets/controls",
          "model_name": "ProgressStyleModel",
          "model_module_version": "1.5.0",
          "state": {
            "_model_module": "@jupyter-widgets/controls",
            "_model_module_version": "1.5.0",
            "_model_name": "ProgressStyleModel",
            "_view_count": null,
            "_view_module": "@jupyter-widgets/base",
            "_view_module_version": "1.2.0",
            "_view_name": "StyleView",
            "bar_color": null,
            "description_width": ""
          }
        },
        "2e00c6142e81475796dce2d268384ca0": {
          "model_module": "@jupyter-widgets/base",
          "model_name": "LayoutModel",
          "model_module_version": "1.2.0",
          "state": {
            "_model_module": "@jupyter-widgets/base",
            "_model_module_version": "1.2.0",
            "_model_name": "LayoutModel",
            "_view_count": null,
            "_view_module": "@jupyter-widgets/base",
            "_view_module_version": "1.2.0",
            "_view_name": "LayoutView",
            "align_content": null,
            "align_items": null,
            "align_self": null,
            "border": null,
            "bottom": null,
            "display": null,
            "flex": null,
            "flex_flow": null,
            "grid_area": null,
            "grid_auto_columns": null,
            "grid_auto_flow": null,
            "grid_auto_rows": null,
            "grid_column": null,
            "grid_gap": null,
            "grid_row": null,
            "grid_template_areas": null,
            "grid_template_columns": null,
            "grid_template_rows": null,
            "height": null,
            "justify_content": null,
            "justify_items": null,
            "left": null,
            "margin": null,
            "max_height": null,
            "max_width": null,
            "min_height": null,
            "min_width": null,
            "object_fit": null,
            "object_position": null,
            "order": null,
            "overflow": null,
            "overflow_x": null,
            "overflow_y": null,
            "padding": null,
            "right": null,
            "top": null,
            "visibility": null,
            "width": null
          }
        },
        "97c1b78e5c204a398f5868552b510c02": {
          "model_module": "@jupyter-widgets/controls",
          "model_name": "DescriptionStyleModel",
          "model_module_version": "1.5.0",
          "state": {
            "_model_module": "@jupyter-widgets/controls",
            "_model_module_version": "1.5.0",
            "_model_name": "DescriptionStyleModel",
            "_view_count": null,
            "_view_module": "@jupyter-widgets/base",
            "_view_module_version": "1.2.0",
            "_view_name": "StyleView",
            "description_width": ""
          }
        },
        "51d70e5134a84afaa20eeba77d7aeaa5": {
          "model_module": "@jupyter-widgets/controls",
          "model_name": "HBoxModel",
          "model_module_version": "1.5.0",
          "state": {
            "_dom_classes": [],
            "_model_module": "@jupyter-widgets/controls",
            "_model_module_version": "1.5.0",
            "_model_name": "HBoxModel",
            "_view_count": null,
            "_view_module": "@jupyter-widgets/controls",
            "_view_module_version": "1.5.0",
            "_view_name": "HBoxView",
            "box_style": "",
            "children": [
              "IPY_MODEL_8ee09a02bcd744cfa93942e6f8674153",
              "IPY_MODEL_9bb624246b7a4f92a414b6f6269041ee",
              "IPY_MODEL_4836821ffb3441a29802a41cd6adc7fa"
            ],
            "layout": "IPY_MODEL_ba400d19705145e0afe88173bc69d486"
          }
        },
        "8ee09a02bcd744cfa93942e6f8674153": {
          "model_module": "@jupyter-widgets/controls",
          "model_name": "HTMLModel",
          "model_module_version": "1.5.0",
          "state": {
            "_dom_classes": [],
            "_model_module": "@jupyter-widgets/controls",
            "_model_module_version": "1.5.0",
            "_model_name": "HTMLModel",
            "_view_count": null,
            "_view_module": "@jupyter-widgets/controls",
            "_view_module_version": "1.5.0",
            "_view_name": "HTMLView",
            "description": "",
            "description_tooltip": null,
            "layout": "IPY_MODEL_47e2e652409e4f78b8b73ab0455f6626",
            "placeholder": "​",
            "style": "IPY_MODEL_391cd06a8bee463ba2a0967bbb7fd65a",
            "value": "Predicting DataLoader 0: 100%"
          }
        },
        "9bb624246b7a4f92a414b6f6269041ee": {
          "model_module": "@jupyter-widgets/controls",
          "model_name": "FloatProgressModel",
          "model_module_version": "1.5.0",
          "state": {
            "_dom_classes": [],
            "_model_module": "@jupyter-widgets/controls",
            "_model_module_version": "1.5.0",
            "_model_name": "FloatProgressModel",
            "_view_count": null,
            "_view_module": "@jupyter-widgets/controls",
            "_view_module_version": "1.5.0",
            "_view_name": "ProgressView",
            "bar_style": "success",
            "description": "",
            "description_tooltip": null,
            "layout": "IPY_MODEL_f23a900a2b524637bcb2e485d13c7f3a",
            "max": 119,
            "min": 0,
            "orientation": "horizontal",
            "style": "IPY_MODEL_9fc886ed4c3a4b4c90f78f1ad998f4cd",
            "value": 119
          }
        },
        "4836821ffb3441a29802a41cd6adc7fa": {
          "model_module": "@jupyter-widgets/controls",
          "model_name": "HTMLModel",
          "model_module_version": "1.5.0",
          "state": {
            "_dom_classes": [],
            "_model_module": "@jupyter-widgets/controls",
            "_model_module_version": "1.5.0",
            "_model_name": "HTMLModel",
            "_view_count": null,
            "_view_module": "@jupyter-widgets/controls",
            "_view_module_version": "1.5.0",
            "_view_name": "HTMLView",
            "description": "",
            "description_tooltip": null,
            "layout": "IPY_MODEL_5534d95059154607a6eab5a4752f37e4",
            "placeholder": "​",
            "style": "IPY_MODEL_f48d88dc461b4a6b8558dd2ce31fab52",
            "value": " 119/119 [00:14&lt;00:00,  8.28it/s]"
          }
        },
        "ba400d19705145e0afe88173bc69d486": {
          "model_module": "@jupyter-widgets/base",
          "model_name": "LayoutModel",
          "model_module_version": "1.2.0",
          "state": {
            "_model_module": "@jupyter-widgets/base",
            "_model_module_version": "1.2.0",
            "_model_name": "LayoutModel",
            "_view_count": null,
            "_view_module": "@jupyter-widgets/base",
            "_view_module_version": "1.2.0",
            "_view_name": "LayoutView",
            "align_content": null,
            "align_items": null,
            "align_self": null,
            "border": null,
            "bottom": null,
            "display": "inline-flex",
            "flex": null,
            "flex_flow": "row wrap",
            "grid_area": null,
            "grid_auto_columns": null,
            "grid_auto_flow": null,
            "grid_auto_rows": null,
            "grid_column": null,
            "grid_gap": null,
            "grid_row": null,
            "grid_template_areas": null,
            "grid_template_columns": null,
            "grid_template_rows": null,
            "height": null,
            "justify_content": null,
            "justify_items": null,
            "left": null,
            "margin": null,
            "max_height": null,
            "max_width": null,
            "min_height": null,
            "min_width": null,
            "object_fit": null,
            "object_position": null,
            "order": null,
            "overflow": null,
            "overflow_x": null,
            "overflow_y": null,
            "padding": null,
            "right": null,
            "top": null,
            "visibility": null,
            "width": "100%"
          }
        },
        "47e2e652409e4f78b8b73ab0455f6626": {
          "model_module": "@jupyter-widgets/base",
          "model_name": "LayoutModel",
          "model_module_version": "1.2.0",
          "state": {
            "_model_module": "@jupyter-widgets/base",
            "_model_module_version": "1.2.0",
            "_model_name": "LayoutModel",
            "_view_count": null,
            "_view_module": "@jupyter-widgets/base",
            "_view_module_version": "1.2.0",
            "_view_name": "LayoutView",
            "align_content": null,
            "align_items": null,
            "align_self": null,
            "border": null,
            "bottom": null,
            "display": null,
            "flex": null,
            "flex_flow": null,
            "grid_area": null,
            "grid_auto_columns": null,
            "grid_auto_flow": null,
            "grid_auto_rows": null,
            "grid_column": null,
            "grid_gap": null,
            "grid_row": null,
            "grid_template_areas": null,
            "grid_template_columns": null,
            "grid_template_rows": null,
            "height": null,
            "justify_content": null,
            "justify_items": null,
            "left": null,
            "margin": null,
            "max_height": null,
            "max_width": null,
            "min_height": null,
            "min_width": null,
            "object_fit": null,
            "object_position": null,
            "order": null,
            "overflow": null,
            "overflow_x": null,
            "overflow_y": null,
            "padding": null,
            "right": null,
            "top": null,
            "visibility": null,
            "width": null
          }
        },
        "391cd06a8bee463ba2a0967bbb7fd65a": {
          "model_module": "@jupyter-widgets/controls",
          "model_name": "DescriptionStyleModel",
          "model_module_version": "1.5.0",
          "state": {
            "_model_module": "@jupyter-widgets/controls",
            "_model_module_version": "1.5.0",
            "_model_name": "DescriptionStyleModel",
            "_view_count": null,
            "_view_module": "@jupyter-widgets/base",
            "_view_module_version": "1.2.0",
            "_view_name": "StyleView",
            "description_width": ""
          }
        },
        "f23a900a2b524637bcb2e485d13c7f3a": {
          "model_module": "@jupyter-widgets/base",
          "model_name": "LayoutModel",
          "model_module_version": "1.2.0",
          "state": {
            "_model_module": "@jupyter-widgets/base",
            "_model_module_version": "1.2.0",
            "_model_name": "LayoutModel",
            "_view_count": null,
            "_view_module": "@jupyter-widgets/base",
            "_view_module_version": "1.2.0",
            "_view_name": "LayoutView",
            "align_content": null,
            "align_items": null,
            "align_self": null,
            "border": null,
            "bottom": null,
            "display": null,
            "flex": "2",
            "flex_flow": null,
            "grid_area": null,
            "grid_auto_columns": null,
            "grid_auto_flow": null,
            "grid_auto_rows": null,
            "grid_column": null,
            "grid_gap": null,
            "grid_row": null,
            "grid_template_areas": null,
            "grid_template_columns": null,
            "grid_template_rows": null,
            "height": null,
            "justify_content": null,
            "justify_items": null,
            "left": null,
            "margin": null,
            "max_height": null,
            "max_width": null,
            "min_height": null,
            "min_width": null,
            "object_fit": null,
            "object_position": null,
            "order": null,
            "overflow": null,
            "overflow_x": null,
            "overflow_y": null,
            "padding": null,
            "right": null,
            "top": null,
            "visibility": null,
            "width": null
          }
        },
        "9fc886ed4c3a4b4c90f78f1ad998f4cd": {
          "model_module": "@jupyter-widgets/controls",
          "model_name": "ProgressStyleModel",
          "model_module_version": "1.5.0",
          "state": {
            "_model_module": "@jupyter-widgets/controls",
            "_model_module_version": "1.5.0",
            "_model_name": "ProgressStyleModel",
            "_view_count": null,
            "_view_module": "@jupyter-widgets/base",
            "_view_module_version": "1.2.0",
            "_view_name": "StyleView",
            "bar_color": null,
            "description_width": ""
          }
        },
        "5534d95059154607a6eab5a4752f37e4": {
          "model_module": "@jupyter-widgets/base",
          "model_name": "LayoutModel",
          "model_module_version": "1.2.0",
          "state": {
            "_model_module": "@jupyter-widgets/base",
            "_model_module_version": "1.2.0",
            "_model_name": "LayoutModel",
            "_view_count": null,
            "_view_module": "@jupyter-widgets/base",
            "_view_module_version": "1.2.0",
            "_view_name": "LayoutView",
            "align_content": null,
            "align_items": null,
            "align_self": null,
            "border": null,
            "bottom": null,
            "display": null,
            "flex": null,
            "flex_flow": null,
            "grid_area": null,
            "grid_auto_columns": null,
            "grid_auto_flow": null,
            "grid_auto_rows": null,
            "grid_column": null,
            "grid_gap": null,
            "grid_row": null,
            "grid_template_areas": null,
            "grid_template_columns": null,
            "grid_template_rows": null,
            "height": null,
            "justify_content": null,
            "justify_items": null,
            "left": null,
            "margin": null,
            "max_height": null,
            "max_width": null,
            "min_height": null,
            "min_width": null,
            "object_fit": null,
            "object_position": null,
            "order": null,
            "overflow": null,
            "overflow_x": null,
            "overflow_y": null,
            "padding": null,
            "right": null,
            "top": null,
            "visibility": null,
            "width": null
          }
        },
        "f48d88dc461b4a6b8558dd2ce31fab52": {
          "model_module": "@jupyter-widgets/controls",
          "model_name": "DescriptionStyleModel",
          "model_module_version": "1.5.0",
          "state": {
            "_model_module": "@jupyter-widgets/controls",
            "_model_module_version": "1.5.0",
            "_model_name": "DescriptionStyleModel",
            "_view_count": null,
            "_view_module": "@jupyter-widgets/base",
            "_view_module_version": "1.2.0",
            "_view_name": "StyleView",
            "description_width": ""
          }
        }
      }
    },
    "accelerator": "GPU"
  },
  "nbformat": 4,
  "nbformat_minor": 0
}