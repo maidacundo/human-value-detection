{
  "cells": [
    {
      "cell_type": "markdown",
      "metadata": {
        "id": "Tptc0h0vElo5"
      },
      "source": [
        "<center>\n",
        "    <h1>Human Value Detection - Pooling Model</h1>\n",
        "    <h2>Bonini Roberto, Maidana Facundo Nicolas</h2>\n",
        "    <h3>roberto.bonini@studio.unibo.it, facundo.maidana@studio.unibo.it</h3>\n",
        "</center>"
      ]
    },
    {
      "cell_type": "markdown",
      "metadata": {
        "id": "6c7eiIWbwbxi"
      },
      "source": [
        "## Requirements"
      ]
    },
    {
      "cell_type": "code",
      "execution_count": 3,
      "metadata": {
        "colab": {
          "base_uri": "https://localhost:8080/"
        },
        "id": "Rz_sBULCmI5B",
        "outputId": "09eaa5b6-63fb-4810-85f2-5b179e61e4a4"
      },
      "outputs": [
        {
          "output_type": "stream",
          "name": "stdout",
          "text": [
            "Tue May 23 20:41:25 2023       \n",
            "+-----------------------------------------------------------------------------+\n",
            "| NVIDIA-SMI 525.85.12    Driver Version: 525.85.12    CUDA Version: 12.0     |\n",
            "|-------------------------------+----------------------+----------------------+\n",
            "| GPU  Name        Persistence-M| Bus-Id        Disp.A | Volatile Uncorr. ECC |\n",
            "| Fan  Temp  Perf  Pwr:Usage/Cap|         Memory-Usage | GPU-Util  Compute M. |\n",
            "|                               |                      |               MIG M. |\n",
            "|===============================+======================+======================|\n",
            "|   0  Tesla T4            Off  | 00000000:00:04.0 Off |                    0 |\n",
            "| N/A   40C    P8     9W /  70W |      0MiB / 15360MiB |      0%      Default |\n",
            "|                               |                      |                  N/A |\n",
            "+-------------------------------+----------------------+----------------------+\n",
            "                                                                               \n",
            "+-----------------------------------------------------------------------------+\n",
            "| Processes:                                                                  |\n",
            "|  GPU   GI   CI        PID   Type   Process name                  GPU Memory |\n",
            "|        ID   ID                                                   Usage      |\n",
            "|=============================================================================|\n",
            "|  No running processes found                                                 |\n",
            "+-----------------------------------------------------------------------------+\n"
          ]
        }
      ],
      "source": [
        "!nvidia-smi"
      ]
    },
    {
      "cell_type": "code",
      "execution_count": 4,
      "metadata": {
        "id": "YpmWmENz9B7E"
      },
      "outputs": [],
      "source": [
        "!pip install --quiet wandb transformers peft pytorch-lightning "
      ]
    },
    {
      "cell_type": "code",
      "execution_count": 5,
      "metadata": {
        "id": "OQemq_JYohlu"
      },
      "outputs": [],
      "source": [
        "# Settings for autoreloading\n",
        "\n",
        "%load_ext autoreload\n",
        "%autoreload 2"
      ]
    },
    {
      "cell_type": "code",
      "execution_count": 6,
      "metadata": {
        "colab": {
          "base_uri": "https://localhost:8080/"
        },
        "id": "UWU1XGxxnZZo",
        "outputId": "b7dccd16-f660-4208-b222-b9ad47c72b36"
      },
      "outputs": [
        {
          "output_type": "stream",
          "name": "stdout",
          "text": [
            "/content\n",
            "Cloning into 'human-value-detection'...\n",
            "remote: Enumerating objects: 750, done.\u001b[K\n",
            "remote: Counting objects: 100% (88/88), done.\u001b[K\n",
            "remote: Compressing objects: 100% (61/61), done.\u001b[K\n",
            "remote: Total 750 (delta 50), reused 63 (delta 27), pack-reused 662\u001b[K\n",
            "Receiving objects: 100% (750/750), 1.92 MiB | 10.80 MiB/s, done.\n",
            "Resolving deltas: 100% (449/449), done.\n",
            "/content/human-value-detection\n"
          ]
        }
      ],
      "source": [
        "%cd /content\n",
        "!rm -r human-value-detection\n",
        "!git clone  https://github.com/maidacundo/human-value-detection.git\n",
        "%cd human-value-detection"
      ]
    },
    {
      "cell_type": "markdown",
      "metadata": {
        "id": "irVWvIHzPP6Q"
      },
      "source": [
        "### Imports"
      ]
    },
    {
      "cell_type": "code",
      "execution_count": 7,
      "metadata": {
        "colab": {
          "base_uri": "https://localhost:8080/"
        },
        "id": "d3cA_adLmXyn",
        "outputId": "e1e32a45-6de1-4cd5-b4fb-00ea314dfb58"
      },
      "outputs": [
        {
          "output_type": "stream",
          "name": "stdout",
          "text": [
            "Drive already mounted at /content/drive; to attempt to forcibly remount, call drive.mount(\"/content/drive\", force_remount=True).\n"
          ]
        }
      ],
      "source": [
        "from google.colab import drive\n",
        "drive.mount('/content/drive')\n",
        "import sys\n",
        "sys.path.append('/content/human-value-detection')"
      ]
    },
    {
      "cell_type": "code",
      "execution_count": 8,
      "metadata": {
        "id": "IYmpTqd3rppq"
      },
      "outputs": [],
      "source": [
        "import pandas as pd\n",
        "import transformers\n",
        "from sklearn.model_selection import train_test_split\n",
        "\n",
        "import pytorch_lightning as pl\n",
        "\n",
        "from torchmetrics import Accuracy\n",
        "\n",
        "from utils import seed\n",
        "from utils.data import get_processed_df, HumanValuesDataset, HumanValuesDataModule\n",
        "from models.baseline import TransformerClassifier\n",
        "from models.pooling_model import TransformerClassifierPooling\n",
        "\n",
        "from utils.thresholding import ThresholdModel, SurrogateHeaviside, train_thresholding_model, get_f1_optimized_thresholding, print_classification_report_thresholding\n",
        "\n",
        "from IPython.core.display import clear_output\n",
        "\n",
        "from pytorch_lightning.callbacks import ModelCheckpoint, EarlyStopping, LearningRateMonitor\n",
        "from pytorch_lightning.loggers import WandbLogger\n",
        "\n",
        "from functools import partial"
      ]
    },
    {
      "cell_type": "code",
      "execution_count": 9,
      "metadata": {
        "colab": {
          "base_uri": "https://localhost:8080/"
        },
        "id": "rwFes29N3sEi",
        "outputId": "bbf64183-0bb7-4734-977e-859b2f2064c4"
      },
      "outputs": [
        {
          "output_type": "stream",
          "name": "stderr",
          "text": [
            "INFO:lightning_fabric.utilities.seed:Global seed set to 42\n"
          ]
        }
      ],
      "source": [
        "RANDOM_STATE = 42\n",
        "seed.fix_random(RANDOM_STATE)"
      ]
    },
    {
      "cell_type": "code",
      "execution_count": 10,
      "metadata": {
        "colab": {
          "base_uri": "https://localhost:8080/"
        },
        "id": "ks4P49CmraXv",
        "outputId": "a018455b-f137-47a4-d722-e96b088530ba"
      },
      "outputs": [
        {
          "output_type": "stream",
          "name": "stdout",
          "text": [
            "Running on GPU\n"
          ]
        }
      ],
      "source": [
        "import torch \n",
        "device = \"cpu\"\n",
        "if torch.cuda.is_available:\n",
        "  print('Running on GPU')\n",
        "  device = torch.device(\"cuda:0\")  \n",
        "else:\n",
        "  print('Running on CPU, please set GPU.')"
      ]
    },
    {
      "cell_type": "markdown",
      "metadata": {
        "id": "LvixN0X5nT8Y"
      },
      "source": [
        "## Data"
      ]
    },
    {
      "cell_type": "code",
      "execution_count": 11,
      "metadata": {
        "id": "4qovkU8enX1X"
      },
      "outputs": [],
      "source": [
        "DATA_ROOT_FOLDER = 'data'\n",
        "\n",
        "arguments_train = pd.read_csv(f'{DATA_ROOT_FOLDER}/arguments-training.tsv', delimiter='\\t')\n",
        "labels_train = pd.read_csv(f'{DATA_ROOT_FOLDER}/labels-training.tsv', delimiter='\\t')\n",
        "\n",
        "arguments_val = pd.read_csv(f'{DATA_ROOT_FOLDER}/arguments-validation.tsv', delimiter='\\t')\n",
        "labels_val = pd.read_csv(f'{DATA_ROOT_FOLDER}/labels-validation.tsv', delimiter='\\t')\n",
        "\n",
        "arguments_test = pd.read_csv(f'{DATA_ROOT_FOLDER}/arguments-test.tsv', delimiter='\\t')"
      ]
    },
    {
      "cell_type": "code",
      "execution_count": 12,
      "metadata": {
        "id": "UeK6l8cCu_96"
      },
      "outputs": [],
      "source": [
        "df_train_original = arguments_train.merge(labels_train)\n",
        "df_test_original = arguments_val.merge(labels_val)\n",
        "df_train_augmented = pd.read_csv(f'{DATA_ROOT_FOLDER}/arguments-training-augmented.csv')"
      ]
    },
    {
      "cell_type": "code",
      "execution_count": 13,
      "metadata": {
        "id": "H4qSoqaQGJPM"
      },
      "outputs": [],
      "source": [
        "labels_columns = labels_train.drop('Argument ID', axis=1).columns"
      ]
    },
    {
      "cell_type": "markdown",
      "metadata": {
        "id": "ahFoV4Vll8T9"
      },
      "source": [
        "# Models"
      ]
    },
    {
      "cell_type": "markdown",
      "metadata": {
        "id": "UP38uwatZHII"
      },
      "source": [
        "## all-mpnet-base-v2"
      ]
    },
    {
      "cell_type": "markdown",
      "metadata": {
        "id": "d2tjIxvWE7Ik"
      },
      "source": [
        "In addition to the baseline approach, we propose a\n",
        "new model architecture that incorporates additional\n",
        "information from the full output sequence. Specifi-\n",
        "cally, our model utilizes the final hidden states of\n",
        "all input tokens, rather than just the first token as\n",
        "Figure 3: Architecture of the Proposed Transformer\n",
        "Classifier with Pooling\n",
        "in the standard approach. This allows our model\n",
        "to capture more nuanced relationships between the\n",
        "input sequence and the target label.\n",
        "Our proposed model was inspired by (Leheˇcka\n",
        "et al., 2020) architecture, where authors adapt on\n",
        "top of the BERT transformer a time-distributed\n",
        "fully connected dense layer to improve the model’s\n",
        "ability to handle long-range dependencies and per-\n",
        "form mean and max pooling. We decided to avoid\n",
        "the usage of LSTM and rely on MPNet, which\n",
        "combines the strengths of masked and permuted\n",
        "language modeling for handling the long-range de-\n",
        "pendencies between words. Our proposed solu-\n",
        "tion, uses the whole output of transformers (and\n",
        "not just the [CLS] one), by pooling it using both\n",
        "max-pooling and mean-pooling. Max-pooling ex-\n",
        "tracts the strongest class-related features from the\n",
        "sequence while average-pooling evenly attends to\n",
        "all tokens in the sequence. All padding tokens were\n",
        "ignored when computing the pooled values.\n",
        "The pooled features are then summed together\n",
        "and normalized, and fed into a final classification\n",
        "layer as in the baseline. Our proposed model does\n",
        "not add any trainable parameter."
      ]
    },
    {
      "cell_type": "code",
      "execution_count": 17,
      "metadata": {
        "id": "oLWl60inZHII"
      },
      "outputs": [],
      "source": [
        "model_name = 'sentence-transformers/all-mpnet-base-v2'\n",
        "num_labels = len(labels_columns)\n",
        "\n",
        "N_EPOCHS = 10\n",
        "batch_size = 16\n",
        "\n",
        "tokenizer = transformers.AutoTokenizer.from_pretrained(model_name)"
      ]
    },
    {
      "cell_type": "code",
      "execution_count": 18,
      "metadata": {
        "colab": {
          "base_uri": "https://localhost:8080/"
        },
        "id": "N10d_x6AZHIJ",
        "outputId": "e65c0b50-3078-42e6-8cd6-a50f73afab13"
      },
      "outputs": [
        {
          "output_type": "stream",
          "name": "stdout",
          "text": [
            "train shape: (4314, 2)\n",
            "val shape: (1079, 2)\n",
            "test shape: (1896, 2)\n"
          ]
        }
      ],
      "source": [
        "train_df = get_processed_df(df_train_original, labels_columns, tokenizer.sep_token)\n",
        "test_df = get_processed_df(df_test_original, labels_columns, tokenizer.sep_token)\n",
        "train_df, val_df = train_test_split(train_df, test_size=0.2, shuffle=True, random_state=RANDOM_STATE)\n",
        "print(f'train shape: {train_df.shape}\\nval shape: {val_df.shape}\\ntest shape: {test_df.shape}')"
      ]
    },
    {
      "cell_type": "code",
      "execution_count": 19,
      "metadata": {
        "colab": {
          "base_uri": "https://localhost:8080/"
        },
        "id": "2h5s-sPqZHIJ",
        "outputId": "72a51782-dd32-41ed-a54a-b71860818f33"
      },
      "outputs": [
        {
          "output_type": "stream",
          "name": "stdout",
          "text": [
            "train shape aug: (5916, 2)\n",
            "val shape: (1079, 2)\n",
            "test shape: (1896, 2)\n"
          ]
        }
      ],
      "source": [
        "train_df_aug = get_processed_df(df_train_augmented, labels_columns, tokenizer.sep_token)\n",
        "train_df_aug = pd.concat([train_df, train_df_aug], ignore_index=True)\n",
        "\n",
        "print(f'train shape aug: {train_df_aug.shape}\\nval shape: {val_df.shape}\\ntest shape: {test_df.shape}')"
      ]
    },
    {
      "cell_type": "code",
      "execution_count": 20,
      "metadata": {
        "colab": {
          "base_uri": "https://localhost:8080/"
        },
        "id": "pIqxtpuGZHIJ",
        "outputId": "b398cf7e-bd75-4e6a-e9b0-d223e18a8998"
      },
      "outputs": [
        {
          "output_type": "stream",
          "name": "stdout",
          "text": [
            "scheduled steps (738, 3690)\n"
          ]
        }
      ],
      "source": [
        "steps_per_epoch=len(train_df_aug) // batch_size\n",
        "total_training_steps = steps_per_epoch * N_EPOCHS\n",
        "warmup_steps = steps_per_epoch * 2\n",
        "print('scheduled steps', (warmup_steps, total_training_steps))"
      ]
    },
    {
      "cell_type": "code",
      "execution_count": 21,
      "metadata": {
        "id": "QZDiJS2DZHIJ"
      },
      "outputs": [],
      "source": [
        "data_module = HumanValuesDataModule(train_df, val_df, test_df, tokenizer, batch_size=batch_size, max_token_len=128)\n",
        "data_module.setup()\n",
        "\n",
        "data_module_aug = HumanValuesDataModule(train_df_aug, val_df, test_df, tokenizer, batch_size=batch_size, max_token_len=128)\n",
        "data_module_aug.setup()"
      ]
    },
    {
      "cell_type": "markdown",
      "metadata": {
        "id": "gqTOLp8tZHIJ"
      },
      "source": [
        "### LoRA Config"
      ]
    },
    {
      "cell_type": "code",
      "source": [
        "import wandb\n",
        "wandb.login(key='e9ec24521d2c9a845865b5e4d6be07386c8843aa')"
      ],
      "metadata": {
        "colab": {
          "base_uri": "https://localhost:8080/"
        },
        "id": "ILR-APJZdTYb",
        "outputId": "b628d850-e0fa-4355-9afa-b689f8dc2c9f"
      },
      "execution_count": 22,
      "outputs": [
        {
          "output_type": "stream",
          "name": "stderr",
          "text": [
            "\u001b[34m\u001b[1mwandb\u001b[0m: Currently logged in as: \u001b[33mnlp-project-unibo\u001b[0m (\u001b[33mhuman-value-team\u001b[0m). Use \u001b[1m`wandb login --relogin`\u001b[0m to force relogin\n",
            "\u001b[34m\u001b[1mwandb\u001b[0m: \u001b[33mWARNING\u001b[0m If you're specifying your api key in code, ensure this code is not shared publicly.\n",
            "\u001b[34m\u001b[1mwandb\u001b[0m: \u001b[33mWARNING\u001b[0m Consider setting the WANDB_API_KEY environment variable, or running `wandb login` from the command line.\n",
            "\u001b[34m\u001b[1mwandb\u001b[0m: Appending key for api.wandb.ai to your netrc file: /root/.netrc\n"
          ]
        },
        {
          "output_type": "execute_result",
          "data": {
            "text/plain": [
              "True"
            ]
          },
          "metadata": {},
          "execution_count": 22
        }
      ]
    },
    {
      "cell_type": "code",
      "execution_count": null,
      "metadata": {
        "id": "z-Czp79XZHIL",
        "colab": {
          "base_uri": "https://localhost:8080/",
          "height": 607,
          "referenced_widgets": [
            "262c2a1a3d7343e182b06744d7d0a448",
            "e5e3835af992443080e67c2b286fa12b",
            "89b12deb2d744da6b9763e3d5c8a8840",
            "d228515f4ba24b4e856354c143391636",
            "efee31d5bcae4d09ad809b4c8e59dc9f",
            "c6e6fca2e37944ada70084ef52dcb6aa",
            "46953dffc39842fea80055285ebbc26e",
            "471d31ca905d4151922c68177e9a42e3",
            "517617d877e24fbaadd4485ecbba0ddb",
            "1b9b591cd0724f96ab2dd3b75c13a947",
            "b0f60d5e42b44c2f9a727659d27b854d",
            "36de48cfaf5b41a582c42137b6906774",
            "cdf1461548754d6b979aad721cf9e8d4",
            "5b8a2c535b5d4eae8f1d4727fcb3b165",
            "6bdf3354145c4349b5659ea06c7d02d2",
            "0e896ef7f7834ee58c588c5d52ac5969",
            "36b7994b243a4fcfb5ab6ff91f37bad2",
            "35ce6a8775084892a0a6649dd2cd0069",
            "712a8e7ff8af4b12a107bd9d79be0dcc",
            "c12db62f391e4643a2909acfa29362d1",
            "5f3bda2fa0344720abc411a52c5247e5",
            "aad2a0101cbf43999d9e77fc5bc35d29",
            "3e12ea0fb1464c99816ba11bdc5ad9fb",
            "040e8c8c69ac471c99d7775743ffbf0c",
            "5c380a629d714dea8f4fc599b237b42b",
            "ae3bbcb44b5d441d82bab6c91528853c",
            "07417b4284a647f4981169c1e451cacd",
            "65df2a54926143caa4cf5729da62fa94",
            "779bae972625405cb369d635dc39e56e",
            "1797047f311840539325f2b55c79f351",
            "6f706ecaa77c4b24be3177fdf3b3dbe3",
            "03ae859002e845a481cebe559b86b350",
            "cb6c8c85486444ac847c723581c76396",
            "3c2c05c26faf4b42a5a59e6ff0f0f3e4",
            "6510045069d84bbca926bf1e9a37a526",
            "2eee2031b91645afa337e56894683ba4",
            "db1d553740884ab7bea3e56c8cb1bd1a",
            "a61d009a79da44fca8f28d4e370a6fae",
            "a0a9a7cd52e743d48b5114b2fe3e38bc",
            "3815d7818b3e49e3be767b7623e26add",
            "9768f76574ac4ee5acd1f02061b98c95",
            "b92017a9007440edba51241ae4fcaeff",
            "b8d6d61f4a2f4531917f7274ce652072",
            "c473edfb7240488aaa8ea08ff7780d99"
          ]
        },
        "outputId": "86695a2b-f913-495e-ff04-d2b43f2602ec"
      },
      "outputs": [
        {
          "output_type": "display_data",
          "data": {
            "text/plain": [
              "<IPython.core.display.HTML object>"
            ],
            "text/html": [
              "Waiting for W&B process to finish... <strong style=\"color:green\">(success).</strong>"
            ]
          },
          "metadata": {}
        },
        {
          "output_type": "display_data",
          "data": {
            "text/plain": [
              "<IPython.core.display.HTML object>"
            ],
            "text/html": [
              " View run <strong style=\"color:#cdcd00\">LoRA_mpnet_r8_qv_0.0001_0.0001</strong> at: <a href='https://wandb.ai/human-value-team/human-value-final/runs/l0g1a2om' target=\"_blank\">https://wandb.ai/human-value-team/human-value-final/runs/l0g1a2om</a><br/>Synced 5 W&B file(s), 1 media file(s), 0 artifact file(s) and 0 other file(s)"
            ]
          },
          "metadata": {}
        },
        {
          "output_type": "display_data",
          "data": {
            "text/plain": [
              "<IPython.core.display.HTML object>"
            ],
            "text/html": [
              "Find logs at: <code>./wandb/run-20230523_204812-l0g1a2om/logs</code>"
            ]
          },
          "metadata": {}
        },
        {
          "output_type": "display_data",
          "data": {
            "text/plain": [
              "<IPython.core.display.HTML object>"
            ],
            "text/html": [
              "Tracking run with wandb version 0.15.3"
            ]
          },
          "metadata": {}
        },
        {
          "output_type": "display_data",
          "data": {
            "text/plain": [
              "<IPython.core.display.HTML object>"
            ],
            "text/html": [
              "Run data is saved locally in <code>./wandb/run-20230523_204852-nukd9doq</code>"
            ]
          },
          "metadata": {}
        },
        {
          "output_type": "display_data",
          "data": {
            "text/plain": [
              "<IPython.core.display.HTML object>"
            ],
            "text/html": [
              "Syncing run <strong><a href='https://wandb.ai/human-value-team/human-value-final/runs/nukd9doq' target=\"_blank\">LoRA_mpnet_r8_qv_0.0001_0.0001</a></strong> to <a href='https://wandb.ai/human-value-team/human-value-final' target=\"_blank\">Weights & Biases</a> (<a href='https://wandb.me/run' target=\"_blank\">docs</a>)<br/>"
            ]
          },
          "metadata": {}
        },
        {
          "output_type": "display_data",
          "data": {
            "text/plain": [
              "<IPython.core.display.HTML object>"
            ],
            "text/html": [
              " View project at <a href='https://wandb.ai/human-value-team/human-value-final' target=\"_blank\">https://wandb.ai/human-value-team/human-value-final</a>"
            ]
          },
          "metadata": {}
        },
        {
          "output_type": "display_data",
          "data": {
            "text/plain": [
              "<IPython.core.display.HTML object>"
            ],
            "text/html": [
              " View run at <a href='https://wandb.ai/human-value-team/human-value-final/runs/nukd9doq' target=\"_blank\">https://wandb.ai/human-value-team/human-value-final/runs/nukd9doq</a>"
            ]
          },
          "metadata": {}
        },
        {
          "output_type": "stream",
          "name": "stderr",
          "text": [
            "INFO:pytorch_lightning.utilities.rank_zero:GPU available: True (cuda), used: True\n",
            "INFO:pytorch_lightning.utilities.rank_zero:TPU available: False, using: 0 TPU cores\n",
            "INFO:pytorch_lightning.utilities.rank_zero:IPU available: False, using: 0 IPUs\n",
            "INFO:pytorch_lightning.utilities.rank_zero:HPU available: False, using: 0 HPUs\n",
            "\u001b[34m\u001b[1mwandb\u001b[0m: logging graph, to disable use `wandb.watch(log_graph=False)`\n",
            "INFO:pytorch_lightning.accelerators.cuda:LOCAL_RANK: 0 - CUDA_VISIBLE_DEVICES: [0]\n",
            "INFO:pytorch_lightning.callbacks.model_summary:\n",
            "  | Name       | Type              | Params\n",
            "-------------------------------------------------\n",
            "0 | bert       | MPNetModel        | 109 M \n",
            "1 | lora_model | PeftModel         | 109 M \n",
            "2 | dropout    | Dropout           | 0     \n",
            "3 | classifier | Linear            | 15.4 K\n",
            "4 | loss_fn    | BCEWithLogitsLoss | 0     \n",
            "5 | metrics    | ModuleDict        | 0     \n",
            "-------------------------------------------------\n",
            "413 K     Trainable params\n",
            "109 M     Non-trainable params\n",
            "109 M     Total params\n",
            "439.187   Total estimated model params size (MB)\n"
          ]
        },
        {
          "output_type": "display_data",
          "data": {
            "text/plain": [
              "Sanity Checking: 0it [00:00, ?it/s]"
            ],
            "application/vnd.jupyter.widget-view+json": {
              "version_major": 2,
              "version_minor": 0,
              "model_id": "262c2a1a3d7343e182b06744d7d0a448"
            }
          },
          "metadata": {}
        },
        {
          "output_type": "display_data",
          "data": {
            "text/plain": [
              "Training: 0it [00:00, ?it/s]"
            ],
            "application/vnd.jupyter.widget-view+json": {
              "version_major": 2,
              "version_minor": 0,
              "model_id": "36de48cfaf5b41a582c42137b6906774"
            }
          },
          "metadata": {}
        },
        {
          "output_type": "display_data",
          "data": {
            "text/plain": [
              "Validation: 0it [00:00, ?it/s]"
            ],
            "application/vnd.jupyter.widget-view+json": {
              "version_major": 2,
              "version_minor": 0,
              "model_id": "3e12ea0fb1464c99816ba11bdc5ad9fb"
            }
          },
          "metadata": {}
        },
        {
          "output_type": "stream",
          "name": "stderr",
          "text": [
            "INFO:pytorch_lightning.utilities.rank_zero:Epoch 0, global step 370: 'val_loss' reached 0.41615 (best 0.41615), saving model to '/content/human-value-detection/checkpoints/best-checkpoint.ckpt' as top 1\n"
          ]
        },
        {
          "output_type": "display_data",
          "data": {
            "text/plain": [
              "Validation: 0it [00:00, ?it/s]"
            ],
            "application/vnd.jupyter.widget-view+json": {
              "version_major": 2,
              "version_minor": 0,
              "model_id": "3c2c05c26faf4b42a5a59e6ff0f0f3e4"
            }
          },
          "metadata": {}
        },
        {
          "output_type": "stream",
          "name": "stderr",
          "text": [
            "INFO:pytorch_lightning.utilities.rank_zero:Epoch 1, global step 740: 'val_loss' reached 0.37131 (best 0.37131), saving model to '/content/human-value-detection/checkpoints/best-checkpoint.ckpt' as top 1\n"
          ]
        }
      ],
      "source": [
        "from peft import LoraConfig\n",
        "import numpy as np\n",
        "\n",
        "targets = [[\"q\", \"v\"], [\"q\", \"v\", \"k\", \"v\"]]\n",
        "\n",
        "for rank in [8, 16]:\n",
        "    for lr_transformer in [1e-4, 4e-4]:\n",
        "        for weight_decay in [1e-4, 1e-3]:\n",
        "            for target in targets:\n",
        "                lora_config = LoraConfig(\n",
        "                                r=rank,\n",
        "                                lora_alpha=8,\n",
        "                                lora_dropout=0.1,\n",
        "                                bias=\"all\",\n",
        "                                target_modules=target,\n",
        "                            )\n",
        "                lora_model = TransformerClassifierPooling(model_name, \n",
        "                                                            num_labels, \n",
        "                                                            classifier_dropout=0.1, \n",
        "                                                            optimizer=torch.optim.AdamW, \n",
        "                                                            lr_transformer=lr_transformer, \n",
        "                                                            lr_classifier=2e-3,\n",
        "                                                            weight_decay=weight_decay,\n",
        "                                                            n_training_steps=total_training_steps, \n",
        "                                                            n_warmup_steps=warmup_steps,\n",
        "                                                            use_lora=True,\n",
        "                                                            lora_config=lora_config\n",
        "                                                            ) \n",
        "\n",
        "                checkpoint_callback = ModelCheckpoint(\n",
        "                  dirpath=\"checkpoints\",\n",
        "                  filename=\"best-checkpoint\",\n",
        "                  save_top_k=1,\n",
        "                  verbose=True,\n",
        "                  monitor=\"val_loss\",\n",
        "                  mode=\"min\"\n",
        "                )\n",
        "                early_stopping_callback = EarlyStopping(monitor='val_loss', patience=1, min_delta=.002)\n",
        "                lr_monitor = LearningRateMonitor(logging_interval='step')\n",
        "                tensorboard_logger = pl.loggers.TensorBoardLogger(\"lightning_logs\", name=\"human-values\")\n",
        "\n",
        "                try:\n",
        "                    wandb.finish()\n",
        "                except:\n",
        "                    pass\n",
        "\n",
        "                run_name=f'LoRA_mpnet_r{rank}_{\"\".join(target)}_{lr_transformer}_{weight_decay}'\n",
        "                wandb_logger = WandbLogger(project=\"human-value-final\", name=run_name)\n",
        "\n",
        "                trainer = pl.Trainer(\n",
        "                  logger=[tensorboard_logger, wandb_logger],\n",
        "                  callbacks=[checkpoint_callback, lr_monitor, early_stopping_callback],\n",
        "                  max_epochs=N_EPOCHS,\n",
        "                  accelerator='gpu'\n",
        "                )\n",
        "                # log gradients, parameter histogram and model topology\n",
        "                wandb_logger.watch(lora_model, log=\"all\")\n",
        "                trainer.fit(lora_model, data_module_aug)\n",
        "                \n",
        "                lora_model.eval()\n",
        "                lora_model.freeze()\n",
        "\n",
        "                predictions_train = trainer.predict(lora_model, data_module_aug.threshold_train_dataloader())\n",
        "                predictions_test = trainer.predict(lora_model, data_module_aug.test_dataloader())\n",
        "\n",
        "                pred_labels_train = np.array([pred.cpu().numpy() for preds in predictions_train for pred in preds])\n",
        "                true_labels_train = np.array([i for i in train_df['labels']])\n",
        "                pred_labels_test = np.array([pred.cpu().numpy() for preds in predictions_test for pred in preds])\n",
        "                true_labels_test = np.array([i for i in test_df['labels']])\n",
        "\n",
        "                MANUAL_THRESHOLD = .5\n",
        "                f1_score_optimized_thresholds = get_f1_optimized_thresholding(true_labels_train, pred_labels_train, labels_columns)\n",
        "                print(f'optimized_thresholds: \\n{f1_score_optimized_thresholds}')\n",
        "\n",
        "                print_classification_report_thresholding(true_labels_test, pred_labels_test, labels_columns, threshold=f1_score_optimized_thresholds)\n",
        "\n",
        "                del lora_model\n",
        "                del trainer\n",
        "                torch.cuda.empty_cache()"
      ]
    },
    {
      "cell_type": "markdown",
      "metadata": {
        "id": "1qbcafHTZHIL"
      },
      "source": [
        "### Training"
      ]
    },
    {
      "cell_type": "code",
      "execution_count": 53,
      "metadata": {
        "id": "CIFo5n-LZHIL"
      },
      "outputs": [],
      "source": [
        "!cp -f '/content/human-value-detection/checkpoints/best-checkpoint.ckpt' '/content/drive/MyDrive/human-value-detection/models/pooling-mpnet-aug.ckpt'"
      ]
    },
    {
      "cell_type": "code",
      "execution_count": 54,
      "metadata": {
        "colab": {
          "base_uri": "https://localhost:8080/",
          "height": 81
        },
        "id": "foI3sUk5ZHIM",
        "outputId": "22482d19-330b-4df6-af60-a5ee93bd9ed7"
      },
      "outputs": [
        {
          "output_type": "display_data",
          "data": {
            "text/plain": [
              "\u001b[31m╭─\u001b[0m\u001b[31m──────────────────────────────\u001b[0m\u001b[31m \u001b[0m\u001b[1;31mTraceback \u001b[0m\u001b[1;2;31m(most recent call last)\u001b[0m\u001b[31m \u001b[0m\u001b[31m───────────────────────────────\u001b[0m\u001b[31m─╮\u001b[0m\n",
              "\u001b[31m│\u001b[0m in \u001b[92m<cell line: 1>\u001b[0m:\u001b[94m1\u001b[0m                                                                              \u001b[31m│\u001b[0m\n",
              "\u001b[31m╰──────────────────────────────────────────────────────────────────────────────────────────────────╯\u001b[0m\n",
              "\u001b[1;91mNameError: \u001b[0mname \u001b[32m'plt'\u001b[0m is not defined\n"
            ],
            "text/html": [
              "<pre style=\"white-space:pre;overflow-x:auto;line-height:normal;font-family:Menlo,'DejaVu Sans Mono',consolas,'Courier New',monospace\"><span style=\"color: #800000; text-decoration-color: #800000\">╭─────────────────────────────── </span><span style=\"color: #800000; text-decoration-color: #800000; font-weight: bold\">Traceback </span><span style=\"color: #bf7f7f; text-decoration-color: #bf7f7f; font-weight: bold\">(most recent call last)</span><span style=\"color: #800000; text-decoration-color: #800000\"> ────────────────────────────────╮</span>\n",
              "<span style=\"color: #800000; text-decoration-color: #800000\">│</span> in <span style=\"color: #00ff00; text-decoration-color: #00ff00\">&lt;cell line: 1&gt;</span>:<span style=\"color: #0000ff; text-decoration-color: #0000ff\">1</span>                                                                              <span style=\"color: #800000; text-decoration-color: #800000\">│</span>\n",
              "<span style=\"color: #800000; text-decoration-color: #800000\">╰──────────────────────────────────────────────────────────────────────────────────────────────────╯</span>\n",
              "<span style=\"color: #ff0000; text-decoration-color: #ff0000; font-weight: bold\">NameError: </span>name <span style=\"color: #008000; text-decoration-color: #008000\">'plt'</span> is not defined\n",
              "</pre>\n"
            ]
          },
          "metadata": {}
        }
      ],
      "source": [
        "plt.plot([i.cpu().item() for i in pooling_model_aug.losses])"
      ]
    },
    {
      "cell_type": "markdown",
      "metadata": {
        "id": "nYdFWmmdZHIM"
      },
      "source": [
        "### Predictions"
      ]
    },
    {
      "cell_type": "code",
      "source": [
        "trained_model = lora_pooling_model"
      ],
      "metadata": {
        "id": "njighCVChWzp"
      },
      "execution_count": 35,
      "outputs": []
    },
    {
      "cell_type": "code",
      "execution_count": null,
      "metadata": {
        "id": "WXpE0UEnZHIM"
      },
      "outputs": [],
      "source": [
        "trained_model = TransformerClassifierPooling.load_from_checkpoint(\n",
        "  \"/content/drive/MyDrive/human-value-detection/models/pooling-mpnet-aug.ckpt\",\n",
        "  **{'model_name':model_name, \n",
        "     'num_labels':num_labels, \n",
        "     'classifier_dropout':.1, \n",
        "     'optimizer':torch.optim.AdamW,\n",
        "     'lr_transformer':5e-05, \n",
        "     'lr_classifier':1e-5,\n",
        "     'weight_decay':1e-4,\n",
        "     'n_training_steps':total_training_steps, \n",
        "     'n_warmup_steps':warmup_steps,\n",
        "     },\n",
        ")"
      ]
    },
    {
      "cell_type": "code",
      "execution_count": 36,
      "metadata": {
        "id": "2s--yvSAZHIM"
      },
      "outputs": [],
      "source": [
        "trained_model.eval()\n",
        "trained_model.freeze()"
      ]
    },
    {
      "cell_type": "code",
      "execution_count": 37,
      "metadata": {
        "colab": {
          "base_uri": "https://localhost:8080/",
          "height": 66,
          "referenced_widgets": [
            "7fb0815ba90c4704b785f55e33624a1f",
            "0889b50a227149f1a0f887acd6dedf0d",
            "65230c24f59a46c98cd9e2fb6edc3644",
            "cd82625552654119b31ff8cf5ef82a32",
            "67a544e931d14deb81befe271ea6b027",
            "8997f536046d4a949c016f8c3e0b1b89",
            "2bef34b20f7142a2b28ceceee38f11b7",
            "be53f65b658b42d5b4da4e94969efbec",
            "72274a8544504317a53eeb961e936d1f",
            "30c009309e73428687cfe592d6daf652",
            "e7f7c810cdc545e6b3b2e74865cb8ba1"
          ]
        },
        "id": "MPS38BGZZHIM",
        "outputId": "136da1e3-5a5f-4575-d7ed-152d35f17241"
      },
      "outputs": [
        {
          "output_type": "stream",
          "name": "stderr",
          "text": [
            "INFO:pytorch_lightning.accelerators.cuda:LOCAL_RANK: 0 - CUDA_VISIBLE_DEVICES: [0]\n"
          ]
        },
        {
          "output_type": "display_data",
          "data": {
            "text/plain": [
              "Predicting: 0it [00:00, ?it/s]"
            ],
            "application/vnd.jupyter.widget-view+json": {
              "version_major": 2,
              "version_minor": 0,
              "model_id": "7fb0815ba90c4704b785f55e33624a1f"
            }
          },
          "metadata": {}
        }
      ],
      "source": [
        "predictions_train = trainer.predict(trained_model, data_module.threshold_train_dataloader())"
      ]
    },
    {
      "cell_type": "code",
      "execution_count": 39,
      "metadata": {
        "id": "ALBPH03eZHIN"
      },
      "outputs": [],
      "source": []
    },
    {
      "cell_type": "code",
      "execution_count": 40,
      "metadata": {
        "colab": {
          "base_uri": "https://localhost:8080/",
          "height": 66,
          "referenced_widgets": [
            "b14da5f475574c1ba3775d2eb3e7b6a1",
            "35df4e75e30a4ebb90aeb778811b3c4d",
            "8e93c84e27ac4eff8299fb3cb490d86e",
            "b43f53bd8c4248f3b9f6041c685daa9a",
            "29c2ea56a5dc43f6bbdcbd597ea7f6f4",
            "d10b56b5a43a40988664cdf67eaa97b1",
            "4e2fa40ff31347e5a234bd837c5396dc",
            "d9354dfee27b417ab4cbd7984ad2611a",
            "cd4c8aba2d7946929010e98484b01daa",
            "6b7ba7e5b1c74940babc27773688ccbc",
            "f60e13a412d944ef8fbfdc785e3d635a"
          ]
        },
        "id": "uiVMedZqZHIN",
        "outputId": "e1d3f50d-964c-4f16-9b4d-e39ddeb40646"
      },
      "outputs": [
        {
          "output_type": "stream",
          "name": "stderr",
          "text": [
            "INFO:pytorch_lightning.accelerators.cuda:LOCAL_RANK: 0 - CUDA_VISIBLE_DEVICES: [0]\n"
          ]
        },
        {
          "output_type": "display_data",
          "data": {
            "text/plain": [
              "Predicting: 0it [00:00, ?it/s]"
            ],
            "application/vnd.jupyter.widget-view+json": {
              "version_major": 2,
              "version_minor": 0,
              "model_id": "b14da5f475574c1ba3775d2eb3e7b6a1"
            }
          },
          "metadata": {}
        }
      ],
      "source": [
        "predictions_test = trainer.predict(trained_model, data_module.test_dataloader())"
      ]
    },
    {
      "cell_type": "code",
      "execution_count": 41,
      "metadata": {
        "id": "sbMnS1fpZHIN"
      },
      "outputs": [],
      "source": [
        "pred_labels_test = np.array([pred.cpu().numpy() for preds in predictions_test for pred in preds])\n",
        "true_labels_test = np.array([i for i in test_df['labels']])"
      ]
    },
    {
      "cell_type": "markdown",
      "metadata": {
        "id": "fcfcVV5wZHIN"
      },
      "source": [
        "#### Threshold Optimization\n",
        "\n",
        "https://arxiv.org/pdf/2103.00833.pdf\n",
        "\n",
        "https://github.com/topel/sglthresh/blob/master/sgl_emotions.ipynb"
      ]
    },
    {
      "cell_type": "code",
      "execution_count": 42,
      "metadata": {
        "id": "jsoE9dQAZHIN"
      },
      "outputs": [],
      "source": [
        "MANUAL_THRESHOLD = .5"
      ]
    },
    {
      "cell_type": "code",
      "execution_count": 43,
      "metadata": {
        "colab": {
          "base_uri": "https://localhost:8080/"
        },
        "id": "HsXS6X_TZHIN",
        "outputId": "5a163a66-f6fe-4a87-a663-2e854d3e1b48"
      },
      "outputs": [
        {
          "output_type": "stream",
          "name": "stdout",
          "text": [
            "optimized_thresholds: \n",
            "[0.4, 0.4, 0.4, 0.5, 0.35, 0.5, 0.65, 0.3, 0.4, 0.55, 0.6, 0.45, 0.4, 0.5, 0.3, 0.25, 0.4, 0.6, 0.5, 0.3]\n"
          ]
        }
      ],
      "source": [
        "f1_score_optimized_thresholds = get_f1_optimized_thresholding(true_labels_train, pred_labels_train, labels_columns)\n",
        "print(f'optimized_thresholds: \\n{f1_score_optimized_thresholds}')"
      ]
    },
    {
      "cell_type": "code",
      "execution_count": 44,
      "metadata": {
        "colab": {
          "base_uri": "https://localhost:8080/",
          "height": 534
        },
        "id": "ZV7c0D5lZHIN",
        "outputId": "b0b7fda5-5e85-46df-b7fc-a0175f6f843a"
      },
      "outputs": [
        {
          "output_type": "stream",
          "name": "stdout",
          "text": [
            "--------------------\n",
            "learned_thresholds: \n",
            "[0.29655418 0.2883069  0.43584654 0.4942383  0.247547   0.41204542\n",
            " 0.46357697 0.30915907 0.22833599 0.26744035 0.34102234 0.25896993\n",
            " 0.3274744  0.3994595  0.23200493 0.25858602 0.23125963 0.36807668\n",
            " 0.40559474 0.21493834]\n"
          ]
        },
        {
          "output_type": "display_data",
          "data": {
            "text/plain": [
              "<Figure size 640x480 with 1 Axes>"
            ],
            "image/png": "[encoded data removed]"
          },
          "metadata": {}
        }
      ],
      "source": [
        "threshold_fn = SurrogateHeaviside.apply\n",
        "model = ThresholdModel(threshold_fn=threshold_fn, device=device, t=.5, sigma=1., num_labels=num_labels, use_dense=False)\n",
        "criterion = torch.nn.CrossEntropyLoss()\n",
        "\n",
        "train_thresholding_model(model=model, \n",
        "                         predictions=pred_labels_train,\n",
        "                         labels=true_labels_train,\n",
        "                         epochs=2000, \n",
        "                         criterion=criterion, \n",
        "                         num_labels=num_labels,\n",
        "                         lr=1e-01,\n",
        "                         verbose=False\n",
        "                         )\n",
        "learned_thresholds=model.thresh.clone().detach().cpu().numpy()\n",
        "sigma = model.sigma.clone().detach().cpu().numpy()\n",
        "print(f'learned_thresholds: \\n{learned_thresholds}')"
      ]
    },
    {
      "cell_type": "markdown",
      "metadata": {
        "id": "TmpzNya4ZHIO"
      },
      "source": []
    },
    {
      "cell_type": "markdown",
      "metadata": {
        "id": "cptzhBoVZHIO"
      },
      "source": [
        "#### Train"
      ]
    },
    {
      "cell_type": "code",
      "execution_count": 45,
      "metadata": {
        "colab": {
          "base_uri": "https://localhost:8080/"
        },
        "id": "WTyzzsyAZHIO",
        "outputId": "66cf2a39-bc9c-497c-87a0-4c6d22b23b39"
      },
      "outputs": [
        {
          "output_type": "stream",
          "name": "stdout",
          "text": [
            "                            precision    recall  f1-score   support\n",
            "\n",
            "   Self-direction: thought       0.56      0.85      0.67       804\n",
            "    Self-direction: action       0.54      0.83      0.65      1134\n",
            "               Stimulation       0.26      0.59      0.36       196\n",
            "                  Hedonism       0.28      0.83      0.42       137\n",
            "               Achievement       0.59      0.84      0.69      1212\n",
            "          Power: dominance       0.32      0.73      0.44       482\n",
            "          Power: resources       0.43      0.94      0.59       496\n",
            "                      Face       0.32      0.59      0.42       304\n",
            "        Security: personal       0.64      0.87      0.74      1594\n",
            "        Security: societal       0.59      0.90      0.72      1383\n",
            "                 Tradition       0.47      0.85      0.60       454\n",
            "         Conformity: rules       0.47      0.78      0.58       928\n",
            " Conformity: interpersonal       0.41      0.70      0.52       172\n",
            "                  Humility       0.34      0.71      0.46       327\n",
            "       Benevolence: caring       0.45      0.74      0.56      1056\n",
            "Benevolence: dependability       0.36      0.61      0.45       662\n",
            "     Universalism: concern       0.62      0.89      0.73      1659\n",
            "      Universalism: nature       0.70      0.91      0.79       336\n",
            "   Universalism: tolerance       0.34      0.80      0.47       537\n",
            " Universalism: objectivity       0.47      0.63      0.54       843\n",
            "\n",
            "                 micro avg       0.50      0.81      0.61     14716\n",
            "                 macro avg       0.46      0.78      0.57     14716\n",
            "              weighted avg       0.51      0.81      0.62     14716\n",
            "               samples avg       0.52      0.84      0.61     14716\n",
            "\n",
            "accuracy: 0.8272253274917603\n"
          ]
        }
      ],
      "source": [
        "print_classification_report_thresholding(true_labels_train, pred_labels_train, labels_columns, threshold=0.25)"
      ]
    },
    {
      "cell_type": "code",
      "execution_count": 46,
      "metadata": {
        "colab": {
          "base_uri": "https://localhost:8080/"
        },
        "id": "Ka8SBZm4ZHIO",
        "outputId": "842a7905-02c6-46e1-de74-d5d9e828d848"
      },
      "outputs": [
        {
          "output_type": "stream",
          "name": "stdout",
          "text": [
            "                            precision    recall  f1-score   support\n",
            "\n",
            "   Self-direction: thought       0.66      0.77      0.71       804\n",
            "    Self-direction: action       0.67      0.71      0.69      1134\n",
            "               Stimulation       0.40      0.46      0.43       196\n",
            "                  Hedonism       0.47      0.64      0.54       137\n",
            "               Achievement       0.68      0.78      0.72      1212\n",
            "          Power: dominance       0.52      0.50      0.51       482\n",
            "          Power: resources       0.62      0.75      0.68       496\n",
            "                      Face       0.36      0.50      0.42       304\n",
            "        Security: personal       0.74      0.78      0.76      1594\n",
            "        Security: societal       0.78      0.72      0.75      1383\n",
            "                 Tradition       0.70      0.65      0.67       454\n",
            "         Conformity: rules       0.63      0.59      0.61       928\n",
            " Conformity: interpersonal       0.53      0.56      0.55       172\n",
            "                  Humility       0.56      0.49      0.52       327\n",
            "       Benevolence: caring       0.49      0.67      0.57      1056\n",
            "Benevolence: dependability       0.36      0.61      0.45       662\n",
            "     Universalism: concern       0.72      0.78      0.75      1659\n",
            "      Universalism: nature       0.88      0.81      0.85       336\n",
            "   Universalism: tolerance       0.52      0.53      0.52       537\n",
            " Universalism: objectivity       0.53      0.56      0.55       843\n",
            "\n",
            "                 micro avg       0.62      0.69      0.65     14716\n",
            "                 macro avg       0.59      0.64      0.61     14716\n",
            "              weighted avg       0.63      0.69      0.66     14716\n",
            "               samples avg       0.65      0.73      0.65     14716\n",
            "\n",
            "accuracy: 0.8748725056648254\n"
          ]
        }
      ],
      "source": [
        "print_classification_report_thresholding(true_labels_train, pred_labels_train, labels_columns, threshold=f1_score_optimized_thresholds)"
      ]
    },
    {
      "cell_type": "code",
      "execution_count": 47,
      "metadata": {
        "colab": {
          "base_uri": "https://localhost:8080/"
        },
        "id": "WrZIpA7EZHIO",
        "outputId": "4e42c6ff-a3e9-450c-84fa-5c484bf26dbd"
      },
      "outputs": [
        {
          "output_type": "stream",
          "name": "stdout",
          "text": [
            "                            precision    recall  f1-score   support\n",
            "\n",
            "   Self-direction: thought       0.59      0.82      0.69       804\n",
            "    Self-direction: action       0.57      0.80      0.66      1134\n",
            "               Stimulation       0.42      0.41      0.42       196\n",
            "                  Hedonism       0.48      0.65      0.55       137\n",
            "               Achievement       0.59      0.84      0.69      1212\n",
            "          Power: dominance       0.44      0.56      0.49       482\n",
            "          Power: resources       0.52      0.85      0.65       496\n",
            "                      Face       0.36      0.48      0.41       304\n",
            "        Security: personal       0.63      0.89      0.73      1594\n",
            "        Security: societal       0.61      0.89      0.72      1383\n",
            "                 Tradition       0.54      0.80      0.65       454\n",
            "         Conformity: rules       0.48      0.77      0.59       928\n",
            " Conformity: interpersonal       0.47      0.62      0.54       172\n",
            "                  Humility       0.46      0.56      0.51       327\n",
            "       Benevolence: caring       0.43      0.76      0.55      1056\n",
            "Benevolence: dependability       0.36      0.60      0.45       662\n",
            "     Universalism: concern       0.61      0.90      0.73      1659\n",
            "      Universalism: nature       0.77      0.87      0.82       336\n",
            "   Universalism: tolerance       0.44      0.62      0.52       537\n",
            " Universalism: objectivity       0.43      0.67      0.53       843\n",
            "\n",
            "                 micro avg       0.53      0.78      0.63     14716\n",
            "                 macro avg       0.51      0.72      0.59     14716\n",
            "              weighted avg       0.54      0.78      0.63     14716\n",
            "               samples avg       0.56      0.81      0.63     14716\n",
            "\n",
            "accuracy: 0.8457116484642029\n"
          ]
        }
      ],
      "source": [
        "print_classification_report_thresholding(true_labels_train, pred_labels_train, labels_columns, threshold=learned_thresholds)"
      ]
    },
    {
      "cell_type": "markdown",
      "metadata": {
        "id": "PupJnK8XZHIO"
      },
      "source": [
        "#### Test\n"
      ]
    },
    {
      "cell_type": "code",
      "execution_count": 48,
      "metadata": {
        "colab": {
          "base_uri": "https://localhost:8080/"
        },
        "id": "XOoo2jqsZHIO",
        "outputId": "72c3d97a-3d8a-49f6-f489-bf890d8cd691"
      },
      "outputs": [
        {
          "output_type": "stream",
          "name": "stdout",
          "text": [
            "                            precision    recall  f1-score   support\n",
            "\n",
            "   Self-direction: thought       0.40      0.73      0.52       251\n",
            "    Self-direction: action       0.45      0.77      0.57       496\n",
            "               Stimulation       0.33      0.36      0.35       138\n",
            "                  Hedonism       0.32      0.58      0.41       103\n",
            "               Achievement       0.57      0.78      0.66       575\n",
            "          Power: dominance       0.22      0.49      0.31       164\n",
            "          Power: resources       0.34      0.86      0.49       132\n",
            "                      Face       0.24      0.29      0.26       130\n",
            "        Security: personal       0.62      0.90      0.74       759\n",
            "        Security: societal       0.44      0.81      0.57       488\n",
            "                 Tradition       0.37      0.58      0.45       172\n",
            "         Conformity: rules       0.45      0.75      0.56       455\n",
            " Conformity: interpersonal       0.27      0.22      0.24        60\n",
            "                  Humility       0.16      0.30      0.21       127\n",
            "       Benevolence: caring       0.45      0.85      0.59       633\n",
            "Benevolence: dependability       0.26      0.47      0.33       268\n",
            "     Universalism: concern       0.57      0.88      0.69       687\n",
            "      Universalism: nature       0.67      0.74      0.70       127\n",
            "   Universalism: tolerance       0.25      0.56      0.34       223\n",
            " Universalism: objectivity       0.38      0.67      0.49       371\n",
            "\n",
            "                 micro avg       0.44      0.73      0.55      6359\n",
            "                 macro avg       0.39      0.63      0.47      6359\n",
            "              weighted avg       0.45      0.73      0.55      6359\n",
            "               samples avg       0.46      0.77      0.55      6359\n",
            "\n",
            "accuracy: 0.7979430556297302\n"
          ]
        }
      ],
      "source": [
        "print_classification_report_thresholding(true_labels_test, pred_labels_test, labels_columns, threshold=0.25)"
      ]
    },
    {
      "cell_type": "code",
      "execution_count": 49,
      "metadata": {
        "colab": {
          "base_uri": "https://localhost:8080/"
        },
        "id": "KqjlRgDOZHIO",
        "outputId": "42ac9be1-ccb4-473d-8b66-0c5e83ba0c7f"
      },
      "outputs": [
        {
          "output_type": "stream",
          "name": "stdout",
          "text": [
            "                            precision    recall  f1-score   support\n",
            "\n",
            "   Self-direction: thought       0.50      0.57      0.54       251\n",
            "    Self-direction: action       0.59      0.59      0.59       496\n",
            "               Stimulation       0.45      0.23      0.31       138\n",
            "                  Hedonism       0.52      0.42      0.46       103\n",
            "               Achievement       0.64      0.69      0.66       575\n",
            "          Power: dominance       0.40      0.24      0.30       164\n",
            "          Power: resources       0.45      0.56      0.50       132\n",
            "                      Face       0.26      0.20      0.23       130\n",
            "        Security: personal       0.71      0.84      0.77       759\n",
            "        Security: societal       0.63      0.49      0.55       488\n",
            "                 Tradition       0.51      0.40      0.45       172\n",
            "         Conformity: rules       0.57      0.52      0.54       455\n",
            " Conformity: interpersonal       0.50      0.10      0.17        60\n",
            "                  Humility       0.27      0.11      0.16       127\n",
            "       Benevolence: caring       0.47      0.80      0.60       633\n",
            "Benevolence: dependability       0.26      0.47      0.33       268\n",
            "     Universalism: concern       0.67      0.74      0.70       687\n",
            "      Universalism: nature       0.79      0.64      0.71       127\n",
            "   Universalism: tolerance       0.40      0.22      0.28       223\n",
            " Universalism: objectivity       0.41      0.59      0.48       371\n",
            "\n",
            "                 micro avg       0.54      0.59      0.56      6359\n",
            "                 macro avg       0.50      0.47      0.47      6359\n",
            "              weighted avg       0.55      0.59      0.56      6359\n",
            "               samples avg       0.58      0.64      0.57      6359\n",
            "\n",
            "accuracy: 0.8477848172187805\n"
          ]
        }
      ],
      "source": [
        "print_classification_report_thresholding(true_labels_test, pred_labels_test, labels_columns, threshold=f1_score_optimized_thresholds)"
      ]
    },
    {
      "cell_type": "code",
      "execution_count": 50,
      "metadata": {
        "colab": {
          "base_uri": "https://localhost:8080/"
        },
        "id": "6eC96dlHZHIP",
        "outputId": "98ec504d-371a-4d2a-f1c6-fd054cb4740e"
      },
      "outputs": [
        {
          "output_type": "stream",
          "name": "stdout",
          "text": [
            "                            precision    recall  f1-score   support\n",
            "\n",
            "   Self-direction: thought       0.42      0.68      0.52       251\n",
            "    Self-direction: action       0.50      0.72      0.59       496\n",
            "               Stimulation       0.48      0.22      0.31       138\n",
            "                  Hedonism       0.52      0.42      0.46       103\n",
            "               Achievement       0.57      0.78      0.66       575\n",
            "          Power: dominance       0.34      0.30      0.32       164\n",
            "          Power: resources       0.40      0.70      0.51       132\n",
            "                      Face       0.26      0.18      0.22       130\n",
            "        Security: personal       0.60      0.91      0.72       759\n",
            "        Security: societal       0.45      0.79      0.58       488\n",
            "                 Tradition       0.41      0.52      0.46       172\n",
            "         Conformity: rules       0.46      0.74      0.57       455\n",
            " Conformity: interpersonal       0.30      0.12      0.17        60\n",
            "                  Humility       0.23      0.17      0.20       127\n",
            "       Benevolence: caring       0.43      0.87      0.58       633\n",
            "Benevolence: dependability       0.26      0.45      0.33       268\n",
            "     Universalism: concern       0.56      0.89      0.68       687\n",
            "      Universalism: nature       0.73      0.70      0.71       127\n",
            "   Universalism: tolerance       0.36      0.33      0.34       223\n",
            " Universalism: objectivity       0.36      0.74      0.48       371\n",
            "\n",
            "                 micro avg       0.47      0.70      0.56      6359\n",
            "                 macro avg       0.43      0.56      0.47      6359\n",
            "              weighted avg       0.47      0.70      0.55      6359\n",
            "               samples avg       0.49      0.74      0.56      6359\n",
            "\n",
            "accuracy: 0.8171413540840149\n"
          ]
        }
      ],
      "source": [
        "pooling_aug_report = print_classification_report_thresholding(true_labels_test, pred_labels_test, labels_columns, threshold=learned_thresholds, output_dict=True)"
      ]
    },
    {
      "cell_type": "markdown",
      "metadata": {
        "id": "CjdDX_PbIcu5"
      },
      "source": [
        "# Error Analysis\n"
      ]
    },
    {
      "cell_type": "code",
      "execution_count": null,
      "metadata": {
        "id": "9JVuPns1I4C2"
      },
      "outputs": [],
      "source": [
        "pooling_reports = [pooling_aug_report]"
      ]
    },
    {
      "cell_type": "code",
      "execution_count": null,
      "metadata": {
        "id": "Nn5Fa_2KIe2Q"
      },
      "outputs": [],
      "source": [
        "import pickle\n",
        "with open('/content/human-value-detection/baseling_bert_base_reports.pkl', 'rb') as f:\n",
        "    baseling_bert_base_reports = pickle.load(f)\n",
        "\n",
        "with open('/content/human-value-detection/baseling_mpnet_base_reports.pkl', 'rb') as f:\n",
        "    baseling_mpnet_base_reports = pickle.load(f)"
      ]
    },
    {
      "cell_type": "code",
      "execution_count": null,
      "metadata": {
        "colab": {
          "base_uri": "https://localhost:8080/",
          "height": 549
        },
        "id": "wwYiXQAdJJf3",
        "outputId": "f4fbc15f-303c-4767-e23e-68ffe366db4c"
      },
      "outputs": [
        {
          "data": {
            "image/png": "[encoded data removed]",
            "text/plain": [
              "<Figure size 1000x500 with 2 Axes>"
            ]
          },
          "metadata": {},
          "output_type": "display_data"
        }
      ],
      "source": [
        "from plotting.data_analysis import plot_classification_reports\n",
        "\n",
        "reports = [baseling_bert_base_reports[1], baseling_mpnet_base_reports[1], pooling_reports[0]]\n",
        "reports_names = ['BERT_baseline + Aug', 'MPNet_baseline + Aug', 'MPNet_pooling + Aug']\n",
        "\n",
        "plot_classification_reports(reports, reports_names, 'Best models F1-Scores')"
      ]
    }
  ],
  "metadata": {
    "accelerator": "GPU",
    "colab": {
      "collapsed_sections": [
        "6c7eiIWbwbxi",
        "LvixN0X5nT8Y",
        "sY8weoj48Zjx",
        "cptzhBoVZHIO"
      ],
      "machine_shape": "hm",
      "provenance": []
    },
    "gpuClass": "standard",
    "kernelspec": {
      "display_name": "Python 3",
      "name": "python3"
    },
    "language_info": {
      "codemirror_mode": {
        "name": "ipython",
        "version": 3
      },
      "file_extension": ".py",
      "mimetype": "text/x-python",
      "name": "python",
      "nbconvert_exporter": "python",
      "pygments_lexer": "ipython3",
      "version": "3.8.6"
    },
    "widgets": {
      "application/vnd.jupyter.widget-state+json": {
        "262c2a1a3d7343e182b06744d7d0a448": {
          "model_module": "@jupyter-widgets/controls",
          "model_name": "HBoxModel",
          "model_module_version": "1.5.0",
          "state": {
            "_dom_classes": [],
            "_model_module": "@jupyter-widgets/controls",
            "_model_module_version": "1.5.0",
            "_model_name": "HBoxModel",
            "_view_count": null,
            "_view_module": "@jupyter-widgets/controls",
            "_view_module_version": "1.5.0",
            "_view_name": "HBoxView",
            "box_style": "",
            "children": [
              "IPY_MODEL_e5e3835af992443080e67c2b286fa12b",
              "IPY_MODEL_89b12deb2d744da6b9763e3d5c8a8840",
              "IPY_MODEL_d228515f4ba24b4e856354c143391636"
            ],
            "layout": "IPY_MODEL_efee31d5bcae4d09ad809b4c8e59dc9f"
          }
        },
        "e5e3835af992443080e67c2b286fa12b": {
          "model_module": "@jupyter-widgets/controls",
          "model_name": "HTMLModel",
          "model_module_version": "1.5.0",
          "state": {
            "_dom_classes": [],
            "_model_module": "@jupyter-widgets/controls",
            "_model_module_version": "1.5.0",
            "_model_name": "HTMLModel",
            "_view_count": null,
            "_view_module": "@jupyter-widgets/controls",
            "_view_module_version": "1.5.0",
            "_view_name": "HTMLView",
            "description": "",
            "description_tooltip": null,
            "layout": "IPY_MODEL_c6e6fca2e37944ada70084ef52dcb6aa",
            "placeholder": "​",
            "style": "IPY_MODEL_46953dffc39842fea80055285ebbc26e",
            "value": "Sanity Checking DataLoader 0: 100%"
          }
        },
        "89b12deb2d744da6b9763e3d5c8a8840": {
          "model_module": "@jupyter-widgets/controls",
          "model_name": "FloatProgressModel",
          "model_module_version": "1.5.0",
          "state": {
            "_dom_classes": [],
            "_model_module": "@jupyter-widgets/controls",
            "_model_module_version": "1.5.0",
            "_model_name": "FloatProgressModel",
            "_view_count": null,
            "_view_module": "@jupyter-widgets/controls",
            "_view_module_version": "1.5.0",
            "_view_name": "ProgressView",
            "bar_style": "",
            "description": "",
            "description_tooltip": null,
            "layout": "IPY_MODEL_471d31ca905d4151922c68177e9a42e3",
            "max": 2,
            "min": 0,
            "orientation": "horizontal",
            "style": "IPY_MODEL_517617d877e24fbaadd4485ecbba0ddb",
            "value": 2
          }
        },
        "d228515f4ba24b4e856354c143391636": {
          "model_module": "@jupyter-widgets/controls",
          "model_name": "HTMLModel",
          "model_module_version": "1.5.0",
          "state": {
            "_dom_classes": [],
            "_model_module": "@jupyter-widgets/controls",
            "_model_module_version": "1.5.0",
            "_model_name": "HTMLModel",
            "_view_count": null,
            "_view_module": "@jupyter-widgets/controls",
            "_view_module_version": "1.5.0",
            "_view_name": "HTMLView",
            "description": "",
            "description_tooltip": null,
            "layout": "IPY_MODEL_1b9b591cd0724f96ab2dd3b75c13a947",
            "placeholder": "​",
            "style": "IPY_MODEL_b0f60d5e42b44c2f9a727659d27b854d",
            "value": " 2/2 [00:00&lt;00:00,  5.79it/s]"
          }
        },
        "efee31d5bcae4d09ad809b4c8e59dc9f": {
          "model_module": "@jupyter-widgets/base",
          "model_name": "LayoutModel",
          "model_module_version": "1.2.0",
          "state": {
            "_model_module": "@jupyter-widgets/base",
            "_model_module_version": "1.2.0",
            "_model_name": "LayoutModel",
            "_view_count": null,
            "_view_module": "@jupyter-widgets/base",
            "_view_module_version": "1.2.0",
            "_view_name": "LayoutView",
            "align_content": null,
            "align_items": null,
            "align_self": null,
            "border": null,
            "bottom": null,
            "display": "inline-flex",
            "flex": null,
            "flex_flow": "row wrap",
            "grid_area": null,
            "grid_auto_columns": null,
            "grid_auto_flow": null,
            "grid_auto_rows": null,
            "grid_column": null,
            "grid_gap": null,
            "grid_row": null,
            "grid_template_areas": null,
            "grid_template_columns": null,
            "grid_template_rows": null,
            "height": null,
            "justify_content": null,
            "justify_items": null,
            "left": null,
            "margin": null,
            "max_height": null,
            "max_width": null,
            "min_height": null,
            "min_width": null,
            "object_fit": null,
            "object_position": null,
            "order": null,
            "overflow": null,
            "overflow_x": null,
            "overflow_y": null,
            "padding": null,
            "right": null,
            "top": null,
            "visibility": "hidden",
            "width": "100%"
          }
        },
        "c6e6fca2e37944ada70084ef52dcb6aa": {
          "model_module": "@jupyter-widgets/base",
          "model_name": "LayoutModel",
          "model_module_version": "1.2.0",
          "state": {
            "_model_module": "@jupyter-widgets/base",
            "_model_module_version": "1.2.0",
            "_model_name": "LayoutModel",
            "_view_count": null,
            "_view_module": "@jupyter-widgets/base",
            "_view_module_version": "1.2.0",
            "_view_name": "LayoutView",
            "align_content": null,
            "align_items": null,
            "align_self": null,
            "border": null,
            "bottom": null,
            "display": null,
            "flex": null,
            "flex_flow": null,
            "grid_area": null,
            "grid_auto_columns": null,
            "grid_auto_flow": null,
            "grid_auto_rows": null,
            "grid_column": null,
            "grid_gap": null,
            "grid_row": null,
            "grid_template_areas": null,
            "grid_template_columns": null,
            "grid_template_rows": null,
            "height": null,
            "justify_content": null,
            "justify_items": null,
            "left": null,
            "margin": null,
            "max_height": null,
            "max_width": null,
            "min_height": null,
            "min_width": null,
            "object_fit": null,
            "object_position": null,
            "order": null,
            "overflow": null,
            "overflow_x": null,
            "overflow_y": null,
            "padding": null,
            "right": null,
            "top": null,
            "visibility": null,
            "width": null
          }
        },
        "46953dffc39842fea80055285ebbc26e": {
          "model_module": "@jupyter-widgets/controls",
          "model_name": "DescriptionStyleModel",
          "model_module_version": "1.5.0",
          "state": {
            "_model_module": "@jupyter-widgets/controls",
            "_model_module_version": "1.5.0",
            "_model_name": "DescriptionStyleModel",
            "_view_count": null,
            "_view_module": "@jupyter-widgets/base",
            "_view_module_version": "1.2.0",
            "_view_name": "StyleView",
            "description_width": ""
          }
        },
        "471d31ca905d4151922c68177e9a42e3": {
          "model_module": "@jupyter-widgets/base",
          "model_name": "LayoutModel",
          "model_module_version": "1.2.0",
          "state": {
            "_model_module": "@jupyter-widgets/base",
            "_model_module_version": "1.2.0",
            "_model_name": "LayoutModel",
            "_view_count": null,
            "_view_module": "@jupyter-widgets/base",
            "_view_module_version": "1.2.0",
            "_view_name": "LayoutView",
            "align_content": null,
            "align_items": null,
            "align_self": null,
            "border": null,
            "bottom": null,
            "display": null,
            "flex": "2",
            "flex_flow": null,
            "grid_area": null,
            "grid_auto_columns": null,
            "grid_auto_flow": null,
            "grid_auto_rows": null,
            "grid_column": null,
            "grid_gap": null,
            "grid_row": null,
            "grid_template_areas": null,
            "grid_template_columns": null,
            "grid_template_rows": null,
            "height": null,
            "justify_content": null,
            "justify_items": null,
            "left": null,
            "margin": null,
            "max_height": null,
            "max_width": null,
            "min_height": null,
            "min_width": null,
            "object_fit": null,
            "object_position": null,
            "order": null,
            "overflow": null,
            "overflow_x": null,
            "overflow_y": null,
            "padding": null,
            "right": null,
            "top": null,
            "visibility": null,
            "width": null
          }
        },
        "517617d877e24fbaadd4485ecbba0ddb": {
          "model_module": "@jupyter-widgets/controls",
          "model_name": "ProgressStyleModel",
          "model_module_version": "1.5.0",
          "state": {
            "_model_module": "@jupyter-widgets/controls",
            "_model_module_version": "1.5.0",
            "_model_name": "ProgressStyleModel",
            "_view_count": null,
            "_view_module": "@jupyter-widgets/base",
            "_view_module_version": "1.2.0",
            "_view_name": "StyleView",
            "bar_color": null,
            "description_width": ""
          }
        },
        "1b9b591cd0724f96ab2dd3b75c13a947": {
          "model_module": "@jupyter-widgets/base",
          "model_name": "LayoutModel",
          "model_module_version": "1.2.0",
          "state": {
            "_model_module": "@jupyter-widgets/base",
            "_model_module_version": "1.2.0",
            "_model_name": "LayoutModel",
            "_view_count": null,
            "_view_module": "@jupyter-widgets/base",
            "_view_module_version": "1.2.0",
            "_view_name": "LayoutView",
            "align_content": null,
            "align_items": null,
            "align_self": null,
            "border": null,
            "bottom": null,
            "display": null,
            "flex": null,
            "flex_flow": null,
            "grid_area": null,
            "grid_auto_columns": null,
            "grid_auto_flow": null,
            "grid_auto_rows": null,
            "grid_column": null,
            "grid_gap": null,
            "grid_row": null,
            "grid_template_areas": null,
            "grid_template_columns": null,
            "grid_template_rows": null,
            "height": null,
            "justify_content": null,
            "justify_items": null,
            "left": null,
            "margin": null,
            "max_height": null,
            "max_width": null,
            "min_height": null,
            "min_width": null,
            "object_fit": null,
            "object_position": null,
            "order": null,
            "overflow": null,
            "overflow_x": null,
            "overflow_y": null,
            "padding": null,
            "right": null,
            "top": null,
            "visibility": null,
            "width": null
          }
        },
        "b0f60d5e42b44c2f9a727659d27b854d": {
          "model_module": "@jupyter-widgets/controls",
          "model_name": "DescriptionStyleModel",
          "model_module_version": "1.5.0",
          "state": {
            "_model_module": "@jupyter-widgets/controls",
            "_model_module_version": "1.5.0",
            "_model_name": "DescriptionStyleModel",
            "_view_count": null,
            "_view_module": "@jupyter-widgets/base",
            "_view_module_version": "1.2.0",
            "_view_name": "StyleView",
            "description_width": ""
          }
        },
        "36de48cfaf5b41a582c42137b6906774": {
          "model_module": "@jupyter-widgets/controls",
          "model_name": "HBoxModel",
          "model_module_version": "1.5.0",
          "state": {
            "_dom_classes": [],
            "_model_module": "@jupyter-widgets/controls",
            "_model_module_version": "1.5.0",
            "_model_name": "HBoxModel",
            "_view_count": null,
            "_view_module": "@jupyter-widgets/controls",
            "_view_module_version": "1.5.0",
            "_view_name": "HBoxView",
            "box_style": "",
            "children": [
              "IPY_MODEL_cdf1461548754d6b979aad721cf9e8d4",
              "IPY_MODEL_5b8a2c535b5d4eae8f1d4727fcb3b165",
              "IPY_MODEL_6bdf3354145c4349b5659ea06c7d02d2"
            ],
            "layout": "IPY_MODEL_0e896ef7f7834ee58c588c5d52ac5969"
          }
        },
        "cdf1461548754d6b979aad721cf9e8d4": {
          "model_module": "@jupyter-widgets/controls",
          "model_name": "HTMLModel",
          "model_module_version": "1.5.0",
          "state": {
            "_dom_classes": [],
            "_model_module": "@jupyter-widgets/controls",
            "_model_module_version": "1.5.0",
            "_model_name": "HTMLModel",
            "_view_count": null,
            "_view_module": "@jupyter-widgets/controls",
            "_view_module_version": "1.5.0",
            "_view_name": "HTMLView",
            "description": "",
            "description_tooltip": null,
            "layout": "IPY_MODEL_36b7994b243a4fcfb5ab6ff91f37bad2",
            "placeholder": "​",
            "style": "IPY_MODEL_35ce6a8775084892a0a6649dd2cd0069",
            "value": "Epoch 2:  81%"
          }
        },
        "5b8a2c535b5d4eae8f1d4727fcb3b165": {
          "model_module": "@jupyter-widgets/controls",
          "model_name": "FloatProgressModel",
          "model_module_version": "1.5.0",
          "state": {
            "_dom_classes": [],
            "_model_module": "@jupyter-widgets/controls",
            "_model_module_version": "1.5.0",
            "_model_name": "FloatProgressModel",
            "_view_count": null,
            "_view_module": "@jupyter-widgets/controls",
            "_view_module_version": "1.5.0",
            "_view_name": "ProgressView",
            "bar_style": "",
            "description": "",
            "description_tooltip": null,
            "layout": "IPY_MODEL_712a8e7ff8af4b12a107bd9d79be0dcc",
            "max": 370,
            "min": 0,
            "orientation": "horizontal",
            "style": "IPY_MODEL_c12db62f391e4643a2909acfa29362d1",
            "value": 300
          }
        },
        "6bdf3354145c4349b5659ea06c7d02d2": {
          "model_module": "@jupyter-widgets/controls",
          "model_name": "HTMLModel",
          "model_module_version": "1.5.0",
          "state": {
            "_dom_classes": [],
            "_model_module": "@jupyter-widgets/controls",
            "_model_module_version": "1.5.0",
            "_model_name": "HTMLModel",
            "_view_count": null,
            "_view_module": "@jupyter-widgets/controls",
            "_view_module_version": "1.5.0",
            "_view_name": "HTMLView",
            "description": "",
            "description_tooltip": null,
            "layout": "IPY_MODEL_5f3bda2fa0344720abc411a52c5247e5",
            "placeholder": "​",
            "style": "IPY_MODEL_aad2a0101cbf43999d9e77fc5bc35d29",
            "value": " 300/370 [01:31&lt;00:21,  3.30it/s, v_num=9doq, train_loss=0.282]"
          }
        },
        "0e896ef7f7834ee58c588c5d52ac5969": {
          "model_module": "@jupyter-widgets/base",
          "model_name": "LayoutModel",
          "model_module_version": "1.2.0",
          "state": {
            "_model_module": "@jupyter-widgets/base",
            "_model_module_version": "1.2.0",
            "_model_name": "LayoutModel",
            "_view_count": null,
            "_view_module": "@jupyter-widgets/base",
            "_view_module_version": "1.2.0",
            "_view_name": "LayoutView",
            "align_content": null,
            "align_items": null,
            "align_self": null,
            "border": null,
            "bottom": null,
            "display": "inline-flex",
            "flex": null,
            "flex_flow": "row wrap",
            "grid_area": null,
            "grid_auto_columns": null,
            "grid_auto_flow": null,
            "grid_auto_rows": null,
            "grid_column": null,
            "grid_gap": null,
            "grid_row": null,
            "grid_template_areas": null,
            "grid_template_columns": null,
            "grid_template_rows": null,
            "height": null,
            "justify_content": null,
            "justify_items": null,
            "left": null,
            "margin": null,
            "max_height": null,
            "max_width": null,
            "min_height": null,
            "min_width": null,
            "object_fit": null,
            "object_position": null,
            "order": null,
            "overflow": null,
            "overflow_x": null,
            "overflow_y": null,
            "padding": null,
            "right": null,
            "top": null,
            "visibility": null,
            "width": "100%"
          }
        },
        "36b7994b243a4fcfb5ab6ff91f37bad2": {
          "model_module": "@jupyter-widgets/base",
          "model_name": "LayoutModel",
          "model_module_version": "1.2.0",
          "state": {
            "_model_module": "@jupyter-widgets/base",
            "_model_module_version": "1.2.0",
            "_model_name": "LayoutModel",
            "_view_count": null,
            "_view_module": "@jupyter-widgets/base",
            "_view_module_version": "1.2.0",
            "_view_name": "LayoutView",
            "align_content": null,
            "align_items": null,
            "align_self": null,
            "border": null,
            "bottom": null,
            "display": null,
            "flex": null,
            "flex_flow": null,
            "grid_area": null,
            "grid_auto_columns": null,
            "grid_auto_flow": null,
            "grid_auto_rows": null,
            "grid_column": null,
            "grid_gap": null,
            "grid_row": null,
            "grid_template_areas": null,
            "grid_template_columns": null,
            "grid_template_rows": null,
            "height": null,
            "justify_content": null,
            "justify_items": null,
            "left": null,
            "margin": null,
            "max_height": null,
            "max_width": null,
            "min_height": null,
            "min_width": null,
            "object_fit": null,
            "object_position": null,
            "order": null,
            "overflow": null,
            "overflow_x": null,
            "overflow_y": null,
            "padding": null,
            "right": null,
            "top": null,
            "visibility": null,
            "width": null
          }
        },
        "35ce6a8775084892a0a6649dd2cd0069": {
          "model_module": "@jupyter-widgets/controls",
          "model_name": "DescriptionStyleModel",
          "model_module_version": "1.5.0",
          "state": {
            "_model_module": "@jupyter-widgets/controls",
            "_model_module_version": "1.5.0",
            "_model_name": "DescriptionStyleModel",
            "_view_count": null,
            "_view_module": "@jupyter-widgets/base",
            "_view_module_version": "1.2.0",
            "_view_name": "StyleView",
            "description_width": ""
          }
        },
        "712a8e7ff8af4b12a107bd9d79be0dcc": {
          "model_module": "@jupyter-widgets/base",
          "model_name": "LayoutModel",
          "model_module_version": "1.2.0",
          "state": {
            "_model_module": "@jupyter-widgets/base",
            "_model_module_version": "1.2.0",
            "_model_name": "LayoutModel",
            "_view_count": null,
            "_view_module": "@jupyter-widgets/base",
            "_view_module_version": "1.2.0",
            "_view_name": "LayoutView",
            "align_content": null,
            "align_items": null,
            "align_self": null,
            "border": null,
            "bottom": null,
            "display": null,
            "flex": "2",
            "flex_flow": null,
            "grid_area": null,
            "grid_auto_columns": null,
            "grid_auto_flow": null,
            "grid_auto_rows": null,
            "grid_column": null,
            "grid_gap": null,
            "grid_row": null,
            "grid_template_areas": null,
            "grid_template_columns": null,
            "grid_template_rows": null,
            "height": null,
            "justify_content": null,
            "justify_items": null,
            "left": null,
            "margin": null,
            "max_height": null,
            "max_width": null,
            "min_height": null,
            "min_width": null,
            "object_fit": null,
            "object_position": null,
            "order": null,
            "overflow": null,
            "overflow_x": null,
            "overflow_y": null,
            "padding": null,
            "right": null,
            "top": null,
            "visibility": null,
            "width": null
          }
        },
        "c12db62f391e4643a2909acfa29362d1": {
          "model_module": "@jupyter-widgets/controls",
          "model_name": "ProgressStyleModel",
          "model_module_version": "1.5.0",
          "state": {
            "_model_module": "@jupyter-widgets/controls",
            "_model_module_version": "1.5.0",
            "_model_name": "ProgressStyleModel",
            "_view_count": null,
            "_view_module": "@jupyter-widgets/base",
            "_view_module_version": "1.2.0",
            "_view_name": "StyleView",
            "bar_color": null,
            "description_width": ""
          }
        },
        "5f3bda2fa0344720abc411a52c5247e5": {
          "model_module": "@jupyter-widgets/base",
          "model_name": "LayoutModel",
          "model_module_version": "1.2.0",
          "state": {
            "_model_module": "@jupyter-widgets/base",
            "_model_module_version": "1.2.0",
            "_model_name": "LayoutModel",
            "_view_count": null,
            "_view_module": "@jupyter-widgets/base",
            "_view_module_version": "1.2.0",
            "_view_name": "LayoutView",
            "align_content": null,
            "align_items": null,
            "align_self": null,
            "border": null,
            "bottom": null,
            "display": null,
            "flex": null,
            "flex_flow": null,
            "grid_area": null,
            "grid_auto_columns": null,
            "grid_auto_flow": null,
            "grid_auto_rows": null,
            "grid_column": null,
            "grid_gap": null,
            "grid_row": null,
            "grid_template_areas": null,
            "grid_template_columns": null,
            "grid_template_rows": null,
            "height": null,
            "justify_content": null,
            "justify_items": null,
            "left": null,
            "margin": null,
            "max_height": null,
            "max_width": null,
            "min_height": null,
            "min_width": null,
            "object_fit": null,
            "object_position": null,
            "order": null,
            "overflow": null,
            "overflow_x": null,
            "overflow_y": null,
            "padding": null,
            "right": null,
            "top": null,
            "visibility": null,
            "width": null
          }
        },
        "aad2a0101cbf43999d9e77fc5bc35d29": {
          "model_module": "@jupyter-widgets/controls",
          "model_name": "DescriptionStyleModel",
          "model_module_version": "1.5.0",
          "state": {
            "_model_module": "@jupyter-widgets/controls",
            "_model_module_version": "1.5.0",
            "_model_name": "DescriptionStyleModel",
            "_view_count": null,
            "_view_module": "@jupyter-widgets/base",
            "_view_module_version": "1.2.0",
            "_view_name": "StyleView",
            "description_width": ""
          }
        },
        "3e12ea0fb1464c99816ba11bdc5ad9fb": {
          "model_module": "@jupyter-widgets/controls",
          "model_name": "HBoxModel",
          "model_module_version": "1.5.0",
          "state": {
            "_dom_classes": [],
            "_model_module": "@jupyter-widgets/controls",
            "_model_module_version": "1.5.0",
            "_model_name": "HBoxModel",
            "_view_count": null,
            "_view_module": "@jupyter-widgets/controls",
            "_view_module_version": "1.5.0",
            "_view_name": "HBoxView",
            "box_style": "",
            "children": [
              "IPY_MODEL_040e8c8c69ac471c99d7775743ffbf0c",
              "IPY_MODEL_5c380a629d714dea8f4fc599b237b42b",
              "IPY_MODEL_ae3bbcb44b5d441d82bab6c91528853c"
            ],
            "layout": "IPY_MODEL_07417b4284a647f4981169c1e451cacd"
          }
        },
        "040e8c8c69ac471c99d7775743ffbf0c": {
          "model_module": "@jupyter-widgets/controls",
          "model_name": "HTMLModel",
          "model_module_version": "1.5.0",
          "state": {
            "_dom_classes": [],
            "_model_module": "@jupyter-widgets/controls",
            "_model_module_version": "1.5.0",
            "_model_name": "HTMLModel",
            "_view_count": null,
            "_view_module": "@jupyter-widgets/controls",
            "_view_module_version": "1.5.0",
            "_view_name": "HTMLView",
            "description": "",
            "description_tooltip": null,
            "layout": "IPY_MODEL_65df2a54926143caa4cf5729da62fa94",
            "placeholder": "​",
            "style": "IPY_MODEL_779bae972625405cb369d635dc39e56e",
            "value": "Validation DataLoader 0: 100%"
          }
        },
        "5c380a629d714dea8f4fc599b237b42b": {
          "model_module": "@jupyter-widgets/controls",
          "model_name": "FloatProgressModel",
          "model_module_version": "1.5.0",
          "state": {
            "_dom_classes": [],
            "_model_module": "@jupyter-widgets/controls",
            "_model_module_version": "1.5.0",
            "_model_name": "FloatProgressModel",
            "_view_count": null,
            "_view_module": "@jupyter-widgets/controls",
            "_view_module_version": "1.5.0",
            "_view_name": "ProgressView",
            "bar_style": "",
            "description": "",
            "description_tooltip": null,
            "layout": "IPY_MODEL_1797047f311840539325f2b55c79f351",
            "max": 68,
            "min": 0,
            "orientation": "horizontal",
            "style": "IPY_MODEL_6f706ecaa77c4b24be3177fdf3b3dbe3",
            "value": 68
          }
        },
        "ae3bbcb44b5d441d82bab6c91528853c": {
          "model_module": "@jupyter-widgets/controls",
          "model_name": "HTMLModel",
          "model_module_version": "1.5.0",
          "state": {
            "_dom_classes": [],
            "_model_module": "@jupyter-widgets/controls",
            "_model_module_version": "1.5.0",
            "_model_name": "HTMLModel",
            "_view_count": null,
            "_view_module": "@jupyter-widgets/controls",
            "_view_module_version": "1.5.0",
            "_view_name": "HTMLView",
            "description": "",
            "description_tooltip": null,
            "layout": "IPY_MODEL_03ae859002e845a481cebe559b86b350",
            "placeholder": "​",
            "style": "IPY_MODEL_cb6c8c85486444ac847c723581c76396",
            "value": " 68/68 [00:11&lt;00:00,  5.83it/s]"
          }
        },
        "07417b4284a647f4981169c1e451cacd": {
          "model_module": "@jupyter-widgets/base",
          "model_name": "LayoutModel",
          "model_module_version": "1.2.0",
          "state": {
            "_model_module": "@jupyter-widgets/base",
            "_model_module_version": "1.2.0",
            "_model_name": "LayoutModel",
            "_view_count": null,
            "_view_module": "@jupyter-widgets/base",
            "_view_module_version": "1.2.0",
            "_view_name": "LayoutView",
            "align_content": null,
            "align_items": null,
            "align_self": null,
            "border": null,
            "bottom": null,
            "display": "inline-flex",
            "flex": null,
            "flex_flow": "row wrap",
            "grid_area": null,
            "grid_auto_columns": null,
            "grid_auto_flow": null,
            "grid_auto_rows": null,
            "grid_column": null,
            "grid_gap": null,
            "grid_row": null,
            "grid_template_areas": null,
            "grid_template_columns": null,
            "grid_template_rows": null,
            "height": null,
            "justify_content": null,
            "justify_items": null,
            "left": null,
            "margin": null,
            "max_height": null,
            "max_width": null,
            "min_height": null,
            "min_width": null,
            "object_fit": null,
            "object_position": null,
            "order": null,
            "overflow": null,
            "overflow_x": null,
            "overflow_y": null,
            "padding": null,
            "right": null,
            "top": null,
            "visibility": "hidden",
            "width": "100%"
          }
        },
        "65df2a54926143caa4cf5729da62fa94": {
          "model_module": "@jupyter-widgets/base",
          "model_name": "LayoutModel",
          "model_module_version": "1.2.0",
          "state": {
            "_model_module": "@jupyter-widgets/base",
            "_model_module_version": "1.2.0",
            "_model_name": "LayoutModel",
            "_view_count": null,
            "_view_module": "@jupyter-widgets/base",
            "_view_module_version": "1.2.0",
            "_view_name": "LayoutView",
            "align_content": null,
            "align_items": null,
            "align_self": null,
            "border": null,
            "bottom": null,
            "display": null,
            "flex": null,
            "flex_flow": null,
            "grid_area": null,
            "grid_auto_columns": null,
            "grid_auto_flow": null,
            "grid_auto_rows": null,
            "grid_column": null,
            "grid_gap": null,
            "grid_row": null,
            "grid_template_areas": null,
            "grid_template_columns": null,
            "grid_template_rows": null,
            "height": null,
            "justify_content": null,
            "justify_items": null,
            "left": null,
            "margin": null,
            "max_height": null,
            "max_width": null,
            "min_height": null,
            "min_width": null,
            "object_fit": null,
            "object_position": null,
            "order": null,
            "overflow": null,
            "overflow_x": null,
            "overflow_y": null,
            "padding": null,
            "right": null,
            "top": null,
            "visibility": null,
            "width": null
          }
        },
        "779bae972625405cb369d635dc39e56e": {
          "model_module": "@jupyter-widgets/controls",
          "model_name": "DescriptionStyleModel",
          "model_module_version": "1.5.0",
          "state": {
            "_model_module": "@jupyter-widgets/controls",
            "_model_module_version": "1.5.0",
            "_model_name": "DescriptionStyleModel",
            "_view_count": null,
            "_view_module": "@jupyter-widgets/base",
            "_view_module_version": "1.2.0",
            "_view_name": "StyleView",
            "description_width": ""
          }
        },
        "1797047f311840539325f2b55c79f351": {
          "model_module": "@jupyter-widgets/base",
          "model_name": "LayoutModel",
          "model_module_version": "1.2.0",
          "state": {
            "_model_module": "@jupyter-widgets/base",
            "_model_module_version": "1.2.0",
            "_model_name": "LayoutModel",
            "_view_count": null,
            "_view_module": "@jupyter-widgets/base",
            "_view_module_version": "1.2.0",
            "_view_name": "LayoutView",
            "align_content": null,
            "align_items": null,
            "align_self": null,
            "border": null,
            "bottom": null,
            "display": null,
            "flex": "2",
            "flex_flow": null,
            "grid_area": null,
            "grid_auto_columns": null,
            "grid_auto_flow": null,
            "grid_auto_rows": null,
            "grid_column": null,
            "grid_gap": null,
            "grid_row": null,
            "grid_template_areas": null,
            "grid_template_columns": null,
            "grid_template_rows": null,
            "height": null,
            "justify_content": null,
            "justify_items": null,
            "left": null,
            "margin": null,
            "max_height": null,
            "max_width": null,
            "min_height": null,
            "min_width": null,
            "object_fit": null,
            "object_position": null,
            "order": null,
            "overflow": null,
            "overflow_x": null,
            "overflow_y": null,
            "padding": null,
            "right": null,
            "top": null,
            "visibility": null,
            "width": null
          }
        },
        "6f706ecaa77c4b24be3177fdf3b3dbe3": {
          "model_module": "@jupyter-widgets/controls",
          "model_name": "ProgressStyleModel",
          "model_module_version": "1.5.0",
          "state": {
            "_model_module": "@jupyter-widgets/controls",
            "_model_module_version": "1.5.0",
            "_model_name": "ProgressStyleModel",
            "_view_count": null,
            "_view_module": "@jupyter-widgets/base",
            "_view_module_version": "1.2.0",
            "_view_name": "StyleView",
            "bar_color": null,
            "description_width": ""
          }
        },
        "03ae859002e845a481cebe559b86b350": {
          "model_module": "@jupyter-widgets/base",
          "model_name": "LayoutModel",
          "model_module_version": "1.2.0",
          "state": {
            "_model_module": "@jupyter-widgets/base",
            "_model_module_version": "1.2.0",
            "_model_name": "LayoutModel",
            "_view_count": null,
            "_view_module": "@jupyter-widgets/base",
            "_view_module_version": "1.2.0",
            "_view_name": "LayoutView",
            "align_content": null,
            "align_items": null,
            "align_self": null,
            "border": null,
            "bottom": null,
            "display": null,
            "flex": null,
            "flex_flow": null,
            "grid_area": null,
            "grid_auto_columns": null,
            "grid_auto_flow": null,
            "grid_auto_rows": null,
            "grid_column": null,
            "grid_gap": null,
            "grid_row": null,
            "grid_template_areas": null,
            "grid_template_columns": null,
            "grid_template_rows": null,
            "height": null,
            "justify_content": null,
            "justify_items": null,
            "left": null,
            "margin": null,
            "max_height": null,
            "max_width": null,
            "min_height": null,
            "min_width": null,
            "object_fit": null,
            "object_position": null,
            "order": null,
            "overflow": null,
            "overflow_x": null,
            "overflow_y": null,
            "padding": null,
            "right": null,
            "top": null,
            "visibility": null,
            "width": null
          }
        },
        "cb6c8c85486444ac847c723581c76396": {
          "model_module": "@jupyter-widgets/controls",
          "model_name": "DescriptionStyleModel",
          "model_module_version": "1.5.0",
          "state": {
            "_model_module": "@jupyter-widgets/controls",
            "_model_module_version": "1.5.0",
            "_model_name": "DescriptionStyleModel",
            "_view_count": null,
            "_view_module": "@jupyter-widgets/base",
            "_view_module_version": "1.2.0",
            "_view_name": "StyleView",
            "description_width": ""
          }
        },
        "3c2c05c26faf4b42a5a59e6ff0f0f3e4": {
          "model_module": "@jupyter-widgets/controls",
          "model_name": "HBoxModel",
          "model_module_version": "1.5.0",
          "state": {
            "_dom_classes": [],
            "_model_module": "@jupyter-widgets/controls",
            "_model_module_version": "1.5.0",
            "_model_name": "HBoxModel",
            "_view_count": null,
            "_view_module": "@jupyter-widgets/controls",
            "_view_module_version": "1.5.0",
            "_view_name": "HBoxView",
            "box_style": "",
            "children": [
              "IPY_MODEL_6510045069d84bbca926bf1e9a37a526",
              "IPY_MODEL_2eee2031b91645afa337e56894683ba4",
              "IPY_MODEL_db1d553740884ab7bea3e56c8cb1bd1a"
            ],
            "layout": "IPY_MODEL_a61d009a79da44fca8f28d4e370a6fae"
          }
        },
        "6510045069d84bbca926bf1e9a37a526": {
          "model_module": "@jupyter-widgets/controls",
          "model_name": "HTMLModel",
          "model_module_version": "1.5.0",
          "state": {
            "_dom_classes": [],
            "_model_module": "@jupyter-widgets/controls",
            "_model_module_version": "1.5.0",
            "_model_name": "HTMLModel",
            "_view_count": null,
            "_view_module": "@jupyter-widgets/controls",
            "_view_module_version": "1.5.0",
            "_view_name": "HTMLView",
            "description": "",
            "description_tooltip": null,
            "layout": "IPY_MODEL_a0a9a7cd52e743d48b5114b2fe3e38bc",
            "placeholder": "​",
            "style": "IPY_MODEL_3815d7818b3e49e3be767b7623e26add",
            "value": "Validation DataLoader 0: 100%"
          }
        },
        "2eee2031b91645afa337e56894683ba4": {
          "model_module": "@jupyter-widgets/controls",
          "model_name": "FloatProgressModel",
          "model_module_version": "1.5.0",
          "state": {
            "_dom_classes": [],
            "_model_module": "@jupyter-widgets/controls",
            "_model_module_version": "1.5.0",
            "_model_name": "FloatProgressModel",
            "_view_count": null,
            "_view_module": "@jupyter-widgets/controls",
            "_view_module_version": "1.5.0",
            "_view_name": "ProgressView",
            "bar_style": "",
            "description": "",
            "description_tooltip": null,
            "layout": "IPY_MODEL_9768f76574ac4ee5acd1f02061b98c95",
            "max": 68,
            "min": 0,
            "orientation": "horizontal",
            "style": "IPY_MODEL_b92017a9007440edba51241ae4fcaeff",
            "value": 68
          }
        },
        "db1d553740884ab7bea3e56c8cb1bd1a": {
          "model_module": "@jupyter-widgets/controls",
          "model_name": "HTMLModel",
          "model_module_version": "1.5.0",
          "state": {
            "_dom_classes": [],
            "_model_module": "@jupyter-widgets/controls",
            "_model_module_version": "1.5.0",
            "_model_name": "HTMLModel",
            "_view_count": null,
            "_view_module": "@jupyter-widgets/controls",
            "_view_module_version": "1.5.0",
            "_view_name": "HTMLView",
            "description": "",
            "description_tooltip": null,
            "layout": "IPY_MODEL_b8d6d61f4a2f4531917f7274ce652072",
            "placeholder": "​",
            "style": "IPY_MODEL_c473edfb7240488aaa8ea08ff7780d99",
            "value": " 68/68 [00:09&lt;00:00,  7.42it/s]"
          }
        },
        "a61d009a79da44fca8f28d4e370a6fae": {
          "model_module": "@jupyter-widgets/base",
          "model_name": "LayoutModel",
          "model_module_version": "1.2.0",
          "state": {
            "_model_module": "@jupyter-widgets/base",
            "_model_module_version": "1.2.0",
            "_model_name": "LayoutModel",
            "_view_count": null,
            "_view_module": "@jupyter-widgets/base",
            "_view_module_version": "1.2.0",
            "_view_name": "LayoutView",
            "align_content": null,
            "align_items": null,
            "align_self": null,
            "border": null,
            "bottom": null,
            "display": "inline-flex",
            "flex": null,
            "flex_flow": "row wrap",
            "grid_area": null,
            "grid_auto_columns": null,
            "grid_auto_flow": null,
            "grid_auto_rows": null,
            "grid_column": null,
            "grid_gap": null,
            "grid_row": null,
            "grid_template_areas": null,
            "grid_template_columns": null,
            "grid_template_rows": null,
            "height": null,
            "justify_content": null,
            "justify_items": null,
            "left": null,
            "margin": null,
            "max_height": null,
            "max_width": null,
            "min_height": null,
            "min_width": null,
            "object_fit": null,
            "object_position": null,
            "order": null,
            "overflow": null,
            "overflow_x": null,
            "overflow_y": null,
            "padding": null,
            "right": null,
            "top": null,
            "visibility": "hidden",
            "width": "100%"
          }
        },
        "a0a9a7cd52e743d48b5114b2fe3e38bc": {
          "model_module": "@jupyter-widgets/base",
          "model_name": "LayoutModel",
          "model_module_version": "1.2.0",
          "state": {
            "_model_module": "@jupyter-widgets/base",
            "_model_module_version": "1.2.0",
            "_model_name": "LayoutModel",
            "_view_count": null,
            "_view_module": "@jupyter-widgets/base",
            "_view_module_version": "1.2.0",
            "_view_name": "LayoutView",
            "align_content": null,
            "align_items": null,
            "align_self": null,
            "border": null,
            "bottom": null,
            "display": null,
            "flex": null,
            "flex_flow": null,
            "grid_area": null,
            "grid_auto_columns": null,
            "grid_auto_flow": null,
            "grid_auto_rows": null,
            "grid_column": null,
            "grid_gap": null,
            "grid_row": null,
            "grid_template_areas": null,
            "grid_template_columns": null,
            "grid_template_rows": null,
            "height": null,
            "justify_content": null,
            "justify_items": null,
            "left": null,
            "margin": null,
            "max_height": null,
            "max_width": null,
            "min_height": null,
            "min_width": null,
            "object_fit": null,
            "object_position": null,
            "order": null,
            "overflow": null,
            "overflow_x": null,
            "overflow_y": null,
            "padding": null,
            "right": null,
            "top": null,
            "visibility": null,
            "width": null
          }
        },
        "3815d7818b3e49e3be767b7623e26add": {
          "model_module": "@jupyter-widgets/controls",
          "model_name": "DescriptionStyleModel",
          "model_module_version": "1.5.0",
          "state": {
            "_model_module": "@jupyter-widgets/controls",
            "_model_module_version": "1.5.0",
            "_model_name": "DescriptionStyleModel",
            "_view_count": null,
            "_view_module": "@jupyter-widgets/base",
            "_view_module_version": "1.2.0",
            "_view_name": "StyleView",
            "description_width": ""
          }
        },
        "9768f76574ac4ee5acd1f02061b98c95": {
          "model_module": "@jupyter-widgets/base",
          "model_name": "LayoutModel",
          "model_module_version": "1.2.0",
          "state": {
            "_model_module": "@jupyter-widgets/base",
            "_model_module_version": "1.2.0",
            "_model_name": "LayoutModel",
            "_view_count": null,
            "_view_module": "@jupyter-widgets/base",
            "_view_module_version": "1.2.0",
            "_view_name": "LayoutView",
            "align_content": null,
            "align_items": null,
            "align_self": null,
            "border": null,
            "bottom": null,
            "display": null,
            "flex": "2",
            "flex_flow": null,
            "grid_area": null,
            "grid_auto_columns": null,
            "grid_auto_flow": null,
            "grid_auto_rows": null,
            "grid_column": null,
            "grid_gap": null,
            "grid_row": null,
            "grid_template_areas": null,
            "grid_template_columns": null,
            "grid_template_rows": null,
            "height": null,
            "justify_content": null,
            "justify_items": null,
            "left": null,
            "margin": null,
            "max_height": null,
            "max_width": null,
            "min_height": null,
            "min_width": null,
            "object_fit": null,
            "object_position": null,
            "order": null,
            "overflow": null,
            "overflow_x": null,
            "overflow_y": null,
            "padding": null,
            "right": null,
            "top": null,
            "visibility": null,
            "width": null
          }
        },
        "b92017a9007440edba51241ae4fcaeff": {
          "model_module": "@jupyter-widgets/controls",
          "model_name": "ProgressStyleModel",
          "model_module_version": "1.5.0",
          "state": {
            "_model_module": "@jupyter-widgets/controls",
            "_model_module_version": "1.5.0",
            "_model_name": "ProgressStyleModel",
            "_view_count": null,
            "_view_module": "@jupyter-widgets/base",
            "_view_module_version": "1.2.0",
            "_view_name": "StyleView",
            "bar_color": null,
            "description_width": ""
          }
        },
        "b8d6d61f4a2f4531917f7274ce652072": {
          "model_module": "@jupyter-widgets/base",
          "model_name": "LayoutModel",
          "model_module_version": "1.2.0",
          "state": {
            "_model_module": "@jupyter-widgets/base",
            "_model_module_version": "1.2.0",
            "_model_name": "LayoutModel",
            "_view_count": null,
            "_view_module": "@jupyter-widgets/base",
            "_view_module_version": "1.2.0",
            "_view_name": "LayoutView",
            "align_content": null,
            "align_items": null,
            "align_self": null,
            "border": null,
            "bottom": null,
            "display": null,
            "flex": null,
            "flex_flow": null,
            "grid_area": null,
            "grid_auto_columns": null,
            "grid_auto_flow": null,
            "grid_auto_rows": null,
            "grid_column": null,
            "grid_gap": null,
            "grid_row": null,
            "grid_template_areas": null,
            "grid_template_columns": null,
            "grid_template_rows": null,
            "height": null,
            "justify_content": null,
            "justify_items": null,
            "left": null,
            "margin": null,
            "max_height": null,
            "max_width": null,
            "min_height": null,
            "min_width": null,
            "object_fit": null,
            "object_position": null,
            "order": null,
            "overflow": null,
            "overflow_x": null,
            "overflow_y": null,
            "padding": null,
            "right": null,
            "top": null,
            "visibility": null,
            "width": null
          }
        },
        "c473edfb7240488aaa8ea08ff7780d99": {
          "model_module": "@jupyter-widgets/controls",
          "model_name": "DescriptionStyleModel",
          "model_module_version": "1.5.0",
          "state": {
            "_model_module": "@jupyter-widgets/controls",
            "_model_module_version": "1.5.0",
            "_model_name": "DescriptionStyleModel",
            "_view_count": null,
            "_view_module": "@jupyter-widgets/base",
            "_view_module_version": "1.2.0",
            "_view_name": "StyleView",
            "description_width": ""
          }
        },
        "7fb0815ba90c4704b785f55e33624a1f": {
          "model_module": "@jupyter-widgets/controls",
          "model_name": "HBoxModel",
          "model_module_version": "1.5.0",
          "state": {
            "_dom_classes": [],
            "_model_module": "@jupyter-widgets/controls",
            "_model_module_version": "1.5.0",
            "_model_name": "HBoxModel",
            "_view_count": null,
            "_view_module": "@jupyter-widgets/controls",
            "_view_module_version": "1.5.0",
            "_view_name": "HBoxView",
            "box_style": "",
            "children": [
              "IPY_MODEL_0889b50a227149f1a0f887acd6dedf0d",
              "IPY_MODEL_65230c24f59a46c98cd9e2fb6edc3644",
              "IPY_MODEL_cd82625552654119b31ff8cf5ef82a32"
            ],
            "layout": "IPY_MODEL_67a544e931d14deb81befe271ea6b027"
          }
        },
        "0889b50a227149f1a0f887acd6dedf0d": {
          "model_module": "@jupyter-widgets/controls",
          "model_name": "HTMLModel",
          "model_module_version": "1.5.0",
          "state": {
            "_dom_classes": [],
            "_model_module": "@jupyter-widgets/controls",
            "_model_module_version": "1.5.0",
            "_model_name": "HTMLModel",
            "_view_count": null,
            "_view_module": "@jupyter-widgets/controls",
            "_view_module_version": "1.5.0",
            "_view_name": "HTMLView",
            "description": "",
            "description_tooltip": null,
            "layout": "IPY_MODEL_8997f536046d4a949c016f8c3e0b1b89",
            "placeholder": "​",
            "style": "IPY_MODEL_2bef34b20f7142a2b28ceceee38f11b7",
            "value": "Predicting DataLoader 0: 100%"
          }
        },
        "65230c24f59a46c98cd9e2fb6edc3644": {
          "model_module": "@jupyter-widgets/controls",
          "model_name": "FloatProgressModel",
          "model_module_version": "1.5.0",
          "state": {
            "_dom_classes": [],
            "_model_module": "@jupyter-widgets/controls",
            "_model_module_version": "1.5.0",
            "_model_name": "FloatProgressModel",
            "_view_count": null,
            "_view_module": "@jupyter-widgets/controls",
            "_view_module_version": "1.5.0",
            "_view_name": "ProgressView",
            "bar_style": "success",
            "description": "",
            "description_tooltip": null,
            "layout": "IPY_MODEL_be53f65b658b42d5b4da4e94969efbec",
            "max": 270,
            "min": 0,
            "orientation": "horizontal",
            "style": "IPY_MODEL_72274a8544504317a53eeb961e936d1f",
            "value": 270
          }
        },
        "cd82625552654119b31ff8cf5ef82a32": {
          "model_module": "@jupyter-widgets/controls",
          "model_name": "HTMLModel",
          "model_module_version": "1.5.0",
          "state": {
            "_dom_classes": [],
            "_model_module": "@jupyter-widgets/controls",
            "_model_module_version": "1.5.0",
            "_model_name": "HTMLModel",
            "_view_count": null,
            "_view_module": "@jupyter-widgets/controls",
            "_view_module_version": "1.5.0",
            "_view_name": "HTMLView",
            "description": "",
            "description_tooltip": null,
            "layout": "IPY_MODEL_30c009309e73428687cfe592d6daf652",
            "placeholder": "​",
            "style": "IPY_MODEL_e7f7c810cdc545e6b3b2e74865cb8ba1",
            "value": " 270/270 [00:39&lt;00:00,  6.84it/s]"
          }
        },
        "67a544e931d14deb81befe271ea6b027": {
          "model_module": "@jupyter-widgets/base",
          "model_name": "LayoutModel",
          "model_module_version": "1.2.0",
          "state": {
            "_model_module": "@jupyter-widgets/base",
            "_model_module_version": "1.2.0",
            "_model_name": "LayoutModel",
            "_view_count": null,
            "_view_module": "@jupyter-widgets/base",
            "_view_module_version": "1.2.0",
            "_view_name": "LayoutView",
            "align_content": null,
            "align_items": null,
            "align_self": null,
            "border": null,
            "bottom": null,
            "display": "inline-flex",
            "flex": null,
            "flex_flow": "row wrap",
            "grid_area": null,
            "grid_auto_columns": null,
            "grid_auto_flow": null,
            "grid_auto_rows": null,
            "grid_column": null,
            "grid_gap": null,
            "grid_row": null,
            "grid_template_areas": null,
            "grid_template_columns": null,
            "grid_template_rows": null,
            "height": null,
            "justify_content": null,
            "justify_items": null,
            "left": null,
            "margin": null,
            "max_height": null,
            "max_width": null,
            "min_height": null,
            "min_width": null,
            "object_fit": null,
            "object_position": null,
            "order": null,
            "overflow": null,
            "overflow_x": null,
            "overflow_y": null,
            "padding": null,
            "right": null,
            "top": null,
            "visibility": null,
            "width": "100%"
          }
        },
        "8997f536046d4a949c016f8c3e0b1b89": {
          "model_module": "@jupyter-widgets/base",
          "model_name": "LayoutModel",
          "model_module_version": "1.2.0",
          "state": {
            "_model_module": "@jupyter-widgets/base",
            "_model_module_version": "1.2.0",
            "_model_name": "LayoutModel",
            "_view_count": null,
            "_view_module": "@jupyter-widgets/base",
            "_view_module_version": "1.2.0",
            "_view_name": "LayoutView",
            "align_content": null,
            "align_items": null,
            "align_self": null,
            "border": null,
            "bottom": null,
            "display": null,
            "flex": null,
            "flex_flow": null,
            "grid_area": null,
            "grid_auto_columns": null,
            "grid_auto_flow": null,
            "grid_auto_rows": null,
            "grid_column": null,
            "grid_gap": null,
            "grid_row": null,
            "grid_template_areas": null,
            "grid_template_columns": null,
            "grid_template_rows": null,
            "height": null,
            "justify_content": null,
            "justify_items": null,
            "left": null,
            "margin": null,
            "max_height": null,
            "max_width": null,
            "min_height": null,
            "min_width": null,
            "object_fit": null,
            "object_position": null,
            "order": null,
            "overflow": null,
            "overflow_x": null,
            "overflow_y": null,
            "padding": null,
            "right": null,
            "top": null,
            "visibility": null,
            "width": null
          }
        },
        "2bef34b20f7142a2b28ceceee38f11b7": {
          "model_module": "@jupyter-widgets/controls",
          "model_name": "DescriptionStyleModel",
          "model_module_version": "1.5.0",
          "state": {
            "_model_module": "@jupyter-widgets/controls",
            "_model_module_version": "1.5.0",
            "_model_name": "DescriptionStyleModel",
            "_view_count": null,
            "_view_module": "@jupyter-widgets/base",
            "_view_module_version": "1.2.0",
            "_view_name": "StyleView",
            "description_width": ""
          }
        },
        "be53f65b658b42d5b4da4e94969efbec": {
          "model_module": "@jupyter-widgets/base",
          "model_name": "LayoutModel",
          "model_module_version": "1.2.0",
          "state": {
            "_model_module": "@jupyter-widgets/base",
            "_model_module_version": "1.2.0",
            "_model_name": "LayoutModel",
            "_view_count": null,
            "_view_module": "@jupyter-widgets/base",
            "_view_module_version": "1.2.0",
            "_view_name": "LayoutView",
            "align_content": null,
            "align_items": null,
            "align_self": null,
            "border": null,
            "bottom": null,
            "display": null,
            "flex": "2",
            "flex_flow": null,
            "grid_area": null,
            "grid_auto_columns": null,
            "grid_auto_flow": null,
            "grid_auto_rows": null,
            "grid_column": null,
            "grid_gap": null,
            "grid_row": null,
            "grid_template_areas": null,
            "grid_template_columns": null,
            "grid_template_rows": null,
            "height": null,
            "justify_content": null,
            "justify_items": null,
            "left": null,
            "margin": null,
            "max_height": null,
            "max_width": null,
            "min_height": null,
            "min_width": null,
            "object_fit": null,
            "object_position": null,
            "order": null,
            "overflow": null,
            "overflow_x": null,
            "overflow_y": null,
            "padding": null,
            "right": null,
            "top": null,
            "visibility": null,
            "width": null
          }
        },
        "72274a8544504317a53eeb961e936d1f": {
          "model_module": "@jupyter-widgets/controls",
          "model_name": "ProgressStyleModel",
          "model_module_version": "1.5.0",
          "state": {
            "_model_module": "@jupyter-widgets/controls",
            "_model_module_version": "1.5.0",
            "_model_name": "ProgressStyleModel",
            "_view_count": null,
            "_view_module": "@jupyter-widgets/base",
            "_view_module_version": "1.2.0",
            "_view_name": "StyleView",
            "bar_color": null,
            "description_width": ""
          }
        },
        "30c009309e73428687cfe592d6daf652": {
          "model_module": "@jupyter-widgets/base",
          "model_name": "LayoutModel",
          "model_module_version": "1.2.0",
          "state": {
            "_model_module": "@jupyter-widgets/base",
            "_model_module_version": "1.2.0",
            "_model_name": "LayoutModel",
            "_view_count": null,
            "_view_module": "@jupyter-widgets/base",
            "_view_module_version": "1.2.0",
            "_view_name": "LayoutView",
            "align_content": null,
            "align_items": null,
            "align_self": null,
            "border": null,
            "bottom": null,
            "display": null,
            "flex": null,
            "flex_flow": null,
            "grid_area": null,
            "grid_auto_columns": null,
            "grid_auto_flow": null,
            "grid_auto_rows": null,
            "grid_column": null,
            "grid_gap": null,
            "grid_row": null,
            "grid_template_areas": null,
            "grid_template_columns": null,
            "grid_template_rows": null,
            "height": null,
            "justify_content": null,
            "justify_items": null,
            "left": null,
            "margin": null,
            "max_height": null,
            "max_width": null,
            "min_height": null,
            "min_width": null,
            "object_fit": null,
            "object_position": null,
            "order": null,
            "overflow": null,
            "overflow_x": null,
            "overflow_y": null,
            "padding": null,
            "right": null,
            "top": null,
            "visibility": null,
            "width": null
          }
        },
        "e7f7c810cdc545e6b3b2e74865cb8ba1": {
          "model_module": "@jupyter-widgets/controls",
          "model_name": "DescriptionStyleModel",
          "model_module_version": "1.5.0",
          "state": {
            "_model_module": "@jupyter-widgets/controls",
            "_model_module_version": "1.5.0",
            "_model_name": "DescriptionStyleModel",
            "_view_count": null,
            "_view_module": "@jupyter-widgets/base",
            "_view_module_version": "1.2.0",
            "_view_name": "StyleView",
            "description_width": ""
          }
        },
        "b14da5f475574c1ba3775d2eb3e7b6a1": {
          "model_module": "@jupyter-widgets/controls",
          "model_name": "HBoxModel",
          "model_module_version": "1.5.0",
          "state": {
            "_dom_classes": [],
            "_model_module": "@jupyter-widgets/controls",
            "_model_module_version": "1.5.0",
            "_model_name": "HBoxModel",
            "_view_count": null,
            "_view_module": "@jupyter-widgets/controls",
            "_view_module_version": "1.5.0",
            "_view_name": "HBoxView",
            "box_style": "",
            "children": [
              "IPY_MODEL_35df4e75e30a4ebb90aeb778811b3c4d",
              "IPY_MODEL_8e93c84e27ac4eff8299fb3cb490d86e",
              "IPY_MODEL_b43f53bd8c4248f3b9f6041c685daa9a"
            ],
            "layout": "IPY_MODEL_29c2ea56a5dc43f6bbdcbd597ea7f6f4"
          }
        },
        "35df4e75e30a4ebb90aeb778811b3c4d": {
          "model_module": "@jupyter-widgets/controls",
          "model_name": "HTMLModel",
          "model_module_version": "1.5.0",
          "state": {
            "_dom_classes": [],
            "_model_module": "@jupyter-widgets/controls",
            "_model_module_version": "1.5.0",
            "_model_name": "HTMLModel",
            "_view_count": null,
            "_view_module": "@jupyter-widgets/controls",
            "_view_module_version": "1.5.0",
            "_view_name": "HTMLView",
            "description": "",
            "description_tooltip": null,
            "layout": "IPY_MODEL_d10b56b5a43a40988664cdf67eaa97b1",
            "placeholder": "​",
            "style": "IPY_MODEL_4e2fa40ff31347e5a234bd837c5396dc",
            "value": "Predicting DataLoader 0: 100%"
          }
        },
        "8e93c84e27ac4eff8299fb3cb490d86e": {
          "model_module": "@jupyter-widgets/controls",
          "model_name": "FloatProgressModel",
          "model_module_version": "1.5.0",
          "state": {
            "_dom_classes": [],
            "_model_module": "@jupyter-widgets/controls",
            "_model_module_version": "1.5.0",
            "_model_name": "FloatProgressModel",
            "_view_count": null,
            "_view_module": "@jupyter-widgets/controls",
            "_view_module_version": "1.5.0",
            "_view_name": "ProgressView",
            "bar_style": "success",
            "description": "",
            "description_tooltip": null,
            "layout": "IPY_MODEL_d9354dfee27b417ab4cbd7984ad2611a",
            "max": 119,
            "min": 0,
            "orientation": "horizontal",
            "style": "IPY_MODEL_cd4c8aba2d7946929010e98484b01daa",
            "value": 119
          }
        },
        "b43f53bd8c4248f3b9f6041c685daa9a": {
          "model_module": "@jupyter-widgets/controls",
          "model_name": "HTMLModel",
          "model_module_version": "1.5.0",
          "state": {
            "_dom_classes": [],
            "_model_module": "@jupyter-widgets/controls",
            "_model_module_version": "1.5.0",
            "_model_name": "HTMLModel",
            "_view_count": null,
            "_view_module": "@jupyter-widgets/controls",
            "_view_module_version": "1.5.0",
            "_view_name": "HTMLView",
            "description": "",
            "description_tooltip": null,
            "layout": "IPY_MODEL_6b7ba7e5b1c74940babc27773688ccbc",
            "placeholder": "​",
            "style": "IPY_MODEL_f60e13a412d944ef8fbfdc785e3d635a",
            "value": " 119/119 [00:17&lt;00:00,  6.80it/s]"
          }
        },
        "29c2ea56a5dc43f6bbdcbd597ea7f6f4": {
          "model_module": "@jupyter-widgets/base",
          "model_name": "LayoutModel",
          "model_module_version": "1.2.0",
          "state": {
            "_model_module": "@jupyter-widgets/base",
            "_model_module_version": "1.2.0",
            "_model_name": "LayoutModel",
            "_view_count": null,
            "_view_module": "@jupyter-widgets/base",
            "_view_module_version": "1.2.0",
            "_view_name": "LayoutView",
            "align_content": null,
            "align_items": null,
            "align_self": null,
            "border": null,
            "bottom": null,
            "display": "inline-flex",
            "flex": null,
            "flex_flow": "row wrap",
            "grid_area": null,
            "grid_auto_columns": null,
            "grid_auto_flow": null,
            "grid_auto_rows": null,
            "grid_column": null,
            "grid_gap": null,
            "grid_row": null,
            "grid_template_areas": null,
            "grid_template_columns": null,
            "grid_template_rows": null,
            "height": null,
            "justify_content": null,
            "justify_items": null,
            "left": null,
            "margin": null,
            "max_height": null,
            "max_width": null,
            "min_height": null,
            "min_width": null,
            "object_fit": null,
            "object_position": null,
            "order": null,
            "overflow": null,
            "overflow_x": null,
            "overflow_y": null,
            "padding": null,
            "right": null,
            "top": null,
            "visibility": null,
            "width": "100%"
          }
        },
        "d10b56b5a43a40988664cdf67eaa97b1": {
          "model_module": "@jupyter-widgets/base",
          "model_name": "LayoutModel",
          "model_module_version": "1.2.0",
          "state": {
            "_model_module": "@jupyter-widgets/base",
            "_model_module_version": "1.2.0",
            "_model_name": "LayoutModel",
            "_view_count": null,
            "_view_module": "@jupyter-widgets/base",
            "_view_module_version": "1.2.0",
            "_view_name": "LayoutView",
            "align_content": null,
            "align_items": null,
            "align_self": null,
            "border": null,
            "bottom": null,
            "display": null,
            "flex": null,
            "flex_flow": null,
            "grid_area": null,
            "grid_auto_columns": null,
            "grid_auto_flow": null,
            "grid_auto_rows": null,
            "grid_column": null,
            "grid_gap": null,
            "grid_row": null,
            "grid_template_areas": null,
            "grid_template_columns": null,
            "grid_template_rows": null,
            "height": null,
            "justify_content": null,
            "justify_items": null,
            "left": null,
            "margin": null,
            "max_height": null,
            "max_width": null,
            "min_height": null,
            "min_width": null,
            "object_fit": null,
            "object_position": null,
            "order": null,
            "overflow": null,
            "overflow_x": null,
            "overflow_y": null,
            "padding": null,
            "right": null,
            "top": null,
            "visibility": null,
            "width": null
          }
        },
        "4e2fa40ff31347e5a234bd837c5396dc": {
          "model_module": "@jupyter-widgets/controls",
          "model_name": "DescriptionStyleModel",
          "model_module_version": "1.5.0",
          "state": {
            "_model_module": "@jupyter-widgets/controls",
            "_model_module_version": "1.5.0",
            "_model_name": "DescriptionStyleModel",
            "_view_count": null,
            "_view_module": "@jupyter-widgets/base",
            "_view_module_version": "1.2.0",
            "_view_name": "StyleView",
            "description_width": ""
          }
        },
        "d9354dfee27b417ab4cbd7984ad2611a": {
          "model_module": "@jupyter-widgets/base",
          "model_name": "LayoutModel",
          "model_module_version": "1.2.0",
          "state": {
            "_model_module": "@jupyter-widgets/base",
            "_model_module_version": "1.2.0",
            "_model_name": "LayoutModel",
            "_view_count": null,
            "_view_module": "@jupyter-widgets/base",
            "_view_module_version": "1.2.0",
            "_view_name": "LayoutView",
            "align_content": null,
            "align_items": null,
            "align_self": null,
            "border": null,
            "bottom": null,
            "display": null,
            "flex": "2",
            "flex_flow": null,
            "grid_area": null,
            "grid_auto_columns": null,
            "grid_auto_flow": null,
            "grid_auto_rows": null,
            "grid_column": null,
            "grid_gap": null,
            "grid_row": null,
            "grid_template_areas": null,
            "grid_template_columns": null,
            "grid_template_rows": null,
            "height": null,
            "justify_content": null,
            "justify_items": null,
            "left": null,
            "margin": null,
            "max_height": null,
            "max_width": null,
            "min_height": null,
            "min_width": null,
            "object_fit": null,
            "object_position": null,
            "order": null,
            "overflow": null,
            "overflow_x": null,
            "overflow_y": null,
            "padding": null,
            "right": null,
            "top": null,
            "visibility": null,
            "width": null
          }
        },
        "cd4c8aba2d7946929010e98484b01daa": {
          "model_module": "@jupyter-widgets/controls",
          "model_name": "ProgressStyleModel",
          "model_module_version": "1.5.0",
          "state": {
            "_model_module": "@jupyter-widgets/controls",
            "_model_module_version": "1.5.0",
            "_model_name": "ProgressStyleModel",
            "_view_count": null,
            "_view_module": "@jupyter-widgets/base",
            "_view_module_version": "1.2.0",
            "_view_name": "StyleView",
            "bar_color": null,
            "description_width": ""
          }
        },
        "6b7ba7e5b1c74940babc27773688ccbc": {
          "model_module": "@jupyter-widgets/base",
          "model_name": "LayoutModel",
          "model_module_version": "1.2.0",
          "state": {
            "_model_module": "@jupyter-widgets/base",
            "_model_module_version": "1.2.0",
            "_model_name": "LayoutModel",
            "_view_count": null,
            "_view_module": "@jupyter-widgets/base",
            "_view_module_version": "1.2.0",
            "_view_name": "LayoutView",
            "align_content": null,
            "align_items": null,
            "align_self": null,
            "border": null,
            "bottom": null,
            "display": null,
            "flex": null,
            "flex_flow": null,
            "grid_area": null,
            "grid_auto_columns": null,
            "grid_auto_flow": null,
            "grid_auto_rows": null,
            "grid_column": null,
            "grid_gap": null,
            "grid_row": null,
            "grid_template_areas": null,
            "grid_template_columns": null,
            "grid_template_rows": null,
            "height": null,
            "justify_content": null,
            "justify_items": null,
            "left": null,
            "margin": null,
            "max_height": null,
            "max_width": null,
            "min_height": null,
            "min_width": null,
            "object_fit": null,
            "object_position": null,
            "order": null,
            "overflow": null,
            "overflow_x": null,
            "overflow_y": null,
            "padding": null,
            "right": null,
            "top": null,
            "visibility": null,
            "width": null
          }
        },
        "f60e13a412d944ef8fbfdc785e3d635a": {
          "model_module": "@jupyter-widgets/controls",
          "model_name": "DescriptionStyleModel",
          "model_module_version": "1.5.0",
          "state": {
            "_model_module": "@jupyter-widgets/controls",
            "_model_module_version": "1.5.0",
            "_model_name": "DescriptionStyleModel",
            "_view_count": null,
            "_view_module": "@jupyter-widgets/base",
            "_view_module_version": "1.2.0",
            "_view_name": "StyleView",
            "description_width": ""
          }
        }
      }
    }
  },
  "nbformat": 4,
  "nbformat_minor": 0
}